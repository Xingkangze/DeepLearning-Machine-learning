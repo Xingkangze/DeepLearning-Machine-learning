{
 "cells": [
  {
   "cell_type": "markdown",
   "metadata": {},
   "source": []
  },
  {
   "cell_type": "markdown",
   "metadata": {},
   "source": [
    "####  20181211 的数据总数 2817116780   "
   ]
  },
  {
   "attachments": {},
   "cell_type": "markdown",
   "metadata": {},
   "source": [
    "    小时  总数据       比例               10万条数据\n",
    "    0\t104102278\t0.036953483\t3695.348334\t3695\n",
    "    1\t61002061\t0.021654076\t2165.407605\t2165\n",
    "    2\t42331806\t0.015026642\t1502.664224\t1503\n",
    "    3\t37057809\t0.013154516\t1315.451644\t1315\n",
    "    4\t39218876\t0.013921637\t1392.163657\t1392\n",
    "    5\t58572431\t0.020791623\t2079.162334\t2079\n",
    "    6\t107672874\t0.038220948\t3822.094801\t3822\n",
    "    7\t148657107\t0.052769238\t5276.923841\t5277\n",
    "    8\t156786814\t0.055655064\t5565.506376\t5566\n",
    "    9\t145235633\t0.051554708\t5155.4708\t5155\n",
    "    10\t138376390\t0.049119863\t4911.98629\t4912\n",
    "    11\t140889913\t0.050012095\t5001.209535\t5001\n",
    "    12\t151403703\t0.053744205\t5374.420545\t5374\n",
    "    13\t129553759\t0.045988068\t4598.806834\t4599\n",
    "    14\t117071529\t0.041557215\t4155.721546\t4156\n",
    "    15\t112629000\t0.039980238\t3998.023823\t3998\n",
    "    16\t115741689\t0.041085158\t4108.515835\t4109\n",
    "    17\t130636160\t0.046372291\t4637.229132\t4637\n",
    "    18\t150661269\t0.053480662\t5348.066153\t5348\n",
    "    19\t175229175\t0.062201601\t6220.160138\t6220\n",
    "    20\t175875345\t0.062430974\t6243.09742\t6243\n",
    "    21\t164543590\t0.058408509\t5840.850872\t5841\n",
    "    22\t126986962\t0.045076925\t4507.692507\t4508\n",
    "    23\t86880607\t0.030840258\t3084.025753\t3084"
   ]
  },
  {
   "cell_type": "markdown",
   "metadata": {},
   "source": [
    "##### mtype\n",
    "\n",
    "- adid\n",
    "\n",
    "- h5\n",
    "- udid\n",
    "- mac\n",
    "- imei\n",
    "- idfa"
   ]
  },
  {
   "cell_type": "markdown",
   "metadata": {},
   "source": [
    "##### publisher_id\n",
    "- 6\n",
    "- 11\n",
    "- 102"
   ]
  },
  {
   "cell_type": "markdown",
   "metadata": {},
   "source": [
    "##### campaign_id\n",
    "- 205413\n",
    "- 205543\n",
    "- 206225"
   ]
  },
  {
   "cell_type": "markdown",
   "metadata": {},
   "source": [
    "##### order_id\n",
    "- 2335323\n",
    "- 2335315\n",
    "- 2314179\n",
    "- 2306119"
   ]
  },
  {
   "cell_type": "markdown",
   "metadata": {},
   "source": [
    "##### cid\n",
    "- \n",
    "- 20942389\n",
    "- 20820810"
   ]
  },
  {
   "cell_type": "markdown",
   "metadata": {},
   "source": [
    "##### p \n",
    "- 0\n",
    "- 1"
   ]
  },
  {
   "cell_type": "markdown",
   "metadata": {},
   "source": [
    "##### ta\n",
    "- 0.5\n",
    "- 0.3\n",
    "- 0.0\n",
    "- 1.0\n",
    "- 0.4"
   ]
  },
  {
   "cell_type": "markdown",
   "metadata": {},
   "source": [
    "##### dmp_ident\n",
    "- 0\n",
    "- 1"
   ]
  },
  {
   "cell_type": "markdown",
   "metadata": {},
   "source": [
    "##### device\n",
    "- PC\n",
    "- iOS\n",
    "- Android"
   ]
  },
  {
   "cell_type": "markdown",
   "metadata": {},
   "source": [
    "##### platform_id\n",
    "0\n",
    "1"
   ]
  },
  {
   "cell_type": "markdown",
   "metadata": {},
   "source": [
    "##### dmpId\n",
    "- 1038\n",
    "- \n",
    "- 1042"
   ]
  },
  {
   "cell_type": "markdown",
   "metadata": {},
   "source": [
    "##### so\n",
    "- 需要归一化"
   ]
  },
  {
   "cell_type": "markdown",
   "metadata": {},
   "source": [
    "##### os\n",
    "- android\n",
    "- ios\n",
    "- "
   ]
  },
  {
   "cell_type": "markdown",
   "metadata": {},
   "source": [
    "##### isTA\n",
    "- -1\n",
    "- 0\n",
    "- 1"
   ]
  },
  {
   "cell_type": "markdown",
   "metadata": {},
   "source": [
    "##### meid \n",
    "- 05406701\n",
    "- 5484778\n",
    "- 05406681\n",
    "- 2306119"
   ]
  },
  {
   "cell_type": "code",
   "execution_count": null,
   "metadata": {},
   "outputs": [],
   "source": []
  },
  {
   "cell_type": "code",
   "execution_count": null,
   "metadata": {},
   "outputs": [],
   "source": []
  },
  {
   "cell_type": "code",
   "execution_count": null,
   "metadata": {},
   "outputs": [],
   "source": [
    "\n"
   ]
  },
  {
   "cell_type": "code",
   "execution_count": null,
   "metadata": {},
   "outputs": [],
   "source": []
  },
  {
   "cell_type": "code",
   "execution_count": null,
   "metadata": {},
   "outputs": [],
   "source": []
  },
  {
   "cell_type": "code",
   "execution_count": null,
   "metadata": {},
   "outputs": [],
   "source": []
  },
  {
   "cell_type": "code",
   "execution_count": null,
   "metadata": {},
   "outputs": [],
   "source": []
  },
  {
   "cell_type": "code",
   "execution_count": null,
   "metadata": {},
   "outputs": [],
   "source": []
  },
  {
   "cell_type": "code",
   "execution_count": null,
   "metadata": {},
   "outputs": [],
   "source": []
  }
 ],
 "metadata": {
  "kernelspec": {
   "display_name": "Python 3",
   "language": "python",
   "name": "python3"
  },
  "language_info": {
   "codemirror_mode": {
    "name": "ipython",
    "version": 3
   },
   "file_extension": ".py",
   "mimetype": "text/x-python",
   "name": "python",
   "nbconvert_exporter": "python",
   "pygments_lexer": "ipython3",
   "version": "3.5.3"
  },
  "toc": {
   "base_numbering": 1,
   "nav_menu": {},
   "number_sections": true,
   "sideBar": true,
   "skip_h1_title": false,
   "title_cell": "Table of Contents",
   "title_sidebar": "Contents",
   "toc_cell": false,
   "toc_position": {},
   "toc_section_display": true,
   "toc_window_display": false
  }
 },
 "nbformat": 4,
 "nbformat_minor": 2
}
