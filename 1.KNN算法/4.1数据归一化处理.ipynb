{
 "cells": [
  {
   "cell_type": "markdown",
   "metadata": {},
   "source": [
    "# 数据归一化"
   ]
  },
  {
   "cell_type": "code",
   "execution_count": 1,
   "metadata": {},
   "outputs": [],
   "source": [
    "import numpy as np"
   ]
  },
  {
   "cell_type": "code",
   "execution_count": 6,
   "metadata": {},
   "outputs": [],
   "source": [
    "x =np.random.randint(0,100,size=100)"
   ]
  },
  {
   "cell_type": "code",
   "execution_count": 7,
   "metadata": {},
   "outputs": [
    {
     "data": {
      "text/plain": [
       "array([14, 43, 65, 85, 30, 98, 87, 44,  3, 37, 59, 17, 91, 68, 65, 30, 30,\n",
       "       63, 73, 62, 16, 84, 17, 17, 10, 71, 81, 51, 59, 93, 59, 21, 42, 74,\n",
       "       61, 33, 63, 63, 63, 23, 58,  6, 11, 69, 84, 21, 92, 72, 39,  4, 46,\n",
       "       12, 33, 58, 40, 75, 68, 28, 40, 36, 45, 26,  3, 46, 22, 59, 64,  6,\n",
       "       65, 87, 83, 41,  1, 34, 52, 45, 82, 74, 41, 79, 12, 20, 69, 58, 70,\n",
       "       28, 61, 73, 34, 65, 67, 43, 18, 76, 23, 79, 19, 94, 49, 28])"
      ]
     },
     "execution_count": 7,
     "metadata": {},
     "output_type": "execute_result"
    }
   ],
   "source": [
    "x"
   ]
  },
  {
   "cell_type": "code",
   "execution_count": 8,
   "metadata": {},
   "outputs": [
    {
     "data": {
      "text/plain": [
       "array([ 0.13402062,  0.43298969,  0.65979381,  0.86597938,  0.29896907,\n",
       "        1.        ,  0.88659794,  0.44329897,  0.02061856,  0.37113402,\n",
       "        0.59793814,  0.16494845,  0.92783505,  0.69072165,  0.65979381,\n",
       "        0.29896907,  0.29896907,  0.63917526,  0.74226804,  0.62886598,\n",
       "        0.15463918,  0.8556701 ,  0.16494845,  0.16494845,  0.09278351,\n",
       "        0.72164948,  0.82474227,  0.51546392,  0.59793814,  0.94845361,\n",
       "        0.59793814,  0.20618557,  0.42268041,  0.75257732,  0.6185567 ,\n",
       "        0.32989691,  0.63917526,  0.63917526,  0.63917526,  0.22680412,\n",
       "        0.58762887,  0.05154639,  0.10309278,  0.70103093,  0.8556701 ,\n",
       "        0.20618557,  0.93814433,  0.73195876,  0.39175258,  0.03092784,\n",
       "        0.46391753,  0.11340206,  0.32989691,  0.58762887,  0.40206186,\n",
       "        0.7628866 ,  0.69072165,  0.27835052,  0.40206186,  0.36082474,\n",
       "        0.45360825,  0.25773196,  0.02061856,  0.46391753,  0.21649485,\n",
       "        0.59793814,  0.64948454,  0.05154639,  0.65979381,  0.88659794,\n",
       "        0.84536082,  0.41237113,  0.        ,  0.34020619,  0.5257732 ,\n",
       "        0.45360825,  0.83505155,  0.75257732,  0.41237113,  0.80412371,\n",
       "        0.11340206,  0.19587629,  0.70103093,  0.58762887,  0.71134021,\n",
       "        0.27835052,  0.6185567 ,  0.74226804,  0.34020619,  0.65979381,\n",
       "        0.68041237,  0.43298969,  0.17525773,  0.77319588,  0.22680412,\n",
       "        0.80412371,  0.18556701,  0.95876289,  0.49484536,  0.27835052])"
      ]
     },
     "execution_count": 8,
     "metadata": {},
     "output_type": "execute_result"
    }
   ],
   "source": [
    "#最值归一化\n",
    "(x-np.min(x))/(np.max(x)-np.min(x))"
   ]
  },
  {
   "cell_type": "code",
   "execution_count": 9,
   "metadata": {},
   "outputs": [],
   "source": [
    "#对矩阵进行归一化处理"
   ]
  },
  {
   "cell_type": "code",
   "execution_count": 11,
   "metadata": {},
   "outputs": [],
   "source": [
    "X = np.random.randint(0,100,(50,2))"
   ]
  },
  {
   "cell_type": "code",
   "execution_count": 12,
   "metadata": {},
   "outputs": [
    {
     "data": {
      "text/plain": [
       "array([[96, 33],\n",
       "       [33, 18],\n",
       "       [90, 19],\n",
       "       [ 2, 60],\n",
       "       [86, 25],\n",
       "       [96, 27],\n",
       "       [ 2, 95],\n",
       "       [64, 47],\n",
       "       [44, 27],\n",
       "       [ 9, 80],\n",
       "       [45, 52],\n",
       "       [72, 85],\n",
       "       [91, 95],\n",
       "       [19, 18],\n",
       "       [71, 39],\n",
       "       [ 3, 68],\n",
       "       [51,  2],\n",
       "       [36, 74],\n",
       "       [99, 24],\n",
       "       [94, 76],\n",
       "       [29, 95],\n",
       "       [ 6, 76],\n",
       "       [56, 21],\n",
       "       [57, 80],\n",
       "       [ 5, 38],\n",
       "       [22, 84],\n",
       "       [93, 14],\n",
       "       [90, 15],\n",
       "       [79, 97],\n",
       "       [68, 21],\n",
       "       [43,  7],\n",
       "       [24, 47],\n",
       "       [17,  8],\n",
       "       [62, 63],\n",
       "       [28, 72],\n",
       "       [91, 54],\n",
       "       [44, 61],\n",
       "       [67, 59],\n",
       "       [77, 94],\n",
       "       [33, 38],\n",
       "       [38, 40],\n",
       "       [ 9, 57],\n",
       "       [25,  4],\n",
       "       [81, 50],\n",
       "       [46,  8],\n",
       "       [55,  0],\n",
       "       [99, 57],\n",
       "       [49, 32],\n",
       "       [26, 67],\n",
       "       [25, 88]])"
      ]
     },
     "execution_count": 12,
     "metadata": {},
     "output_type": "execute_result"
    }
   ],
   "source": [
    "X"
   ]
  },
  {
   "cell_type": "code",
   "execution_count": 14,
   "metadata": {},
   "outputs": [],
   "source": [
    "X = np.array(X,dtype=float)"
   ]
  },
  {
   "cell_type": "code",
   "execution_count": 15,
   "metadata": {},
   "outputs": [
    {
     "data": {
      "text/plain": [
       "array([[ 96.,  33.],\n",
       "       [ 33.,  18.],\n",
       "       [ 90.,  19.],\n",
       "       [  2.,  60.],\n",
       "       [ 86.,  25.],\n",
       "       [ 96.,  27.],\n",
       "       [  2.,  95.],\n",
       "       [ 64.,  47.],\n",
       "       [ 44.,  27.],\n",
       "       [  9.,  80.],\n",
       "       [ 45.,  52.],\n",
       "       [ 72.,  85.],\n",
       "       [ 91.,  95.],\n",
       "       [ 19.,  18.],\n",
       "       [ 71.,  39.],\n",
       "       [  3.,  68.],\n",
       "       [ 51.,   2.],\n",
       "       [ 36.,  74.],\n",
       "       [ 99.,  24.],\n",
       "       [ 94.,  76.],\n",
       "       [ 29.,  95.],\n",
       "       [  6.,  76.],\n",
       "       [ 56.,  21.],\n",
       "       [ 57.,  80.],\n",
       "       [  5.,  38.],\n",
       "       [ 22.,  84.],\n",
       "       [ 93.,  14.],\n",
       "       [ 90.,  15.],\n",
       "       [ 79.,  97.],\n",
       "       [ 68.,  21.],\n",
       "       [ 43.,   7.],\n",
       "       [ 24.,  47.],\n",
       "       [ 17.,   8.],\n",
       "       [ 62.,  63.],\n",
       "       [ 28.,  72.],\n",
       "       [ 91.,  54.],\n",
       "       [ 44.,  61.],\n",
       "       [ 67.,  59.],\n",
       "       [ 77.,  94.],\n",
       "       [ 33.,  38.],\n",
       "       [ 38.,  40.],\n",
       "       [  9.,  57.],\n",
       "       [ 25.,   4.],\n",
       "       [ 81.,  50.],\n",
       "       [ 46.,   8.],\n",
       "       [ 55.,   0.],\n",
       "       [ 99.,  57.],\n",
       "       [ 49.,  32.],\n",
       "       [ 26.,  67.],\n",
       "       [ 25.,  88.]])"
      ]
     },
     "execution_count": 15,
     "metadata": {},
     "output_type": "execute_result"
    }
   ],
   "source": [
    "X"
   ]
  },
  {
   "cell_type": "code",
   "execution_count": 17,
   "metadata": {},
   "outputs": [],
   "source": [
    "X[:,0] = (X[:,0] - np.min(X[:,0])) / (np.max(X[:,0]) - np.min(X[:,0]))"
   ]
  },
  {
   "cell_type": "code",
   "execution_count": 18,
   "metadata": {},
   "outputs": [],
   "source": [
    "X[:,1] = (X[:,1] - np.min(X[:,1])) / (np.max(X[:,1]) - np.min(X[:,1]))"
   ]
  },
  {
   "cell_type": "code",
   "execution_count": 26,
   "metadata": {},
   "outputs": [
    {
     "data": {
      "text/plain": [
       "array([[ 0.96907216,  0.34020619],\n",
       "       [ 0.31958763,  0.18556701],\n",
       "       [ 0.90721649,  0.19587629],\n",
       "       [ 0.        ,  0.6185567 ],\n",
       "       [ 0.86597938,  0.25773196],\n",
       "       [ 0.96907216,  0.27835052],\n",
       "       [ 0.        ,  0.97938144],\n",
       "       [ 0.63917526,  0.48453608],\n",
       "       [ 0.43298969,  0.27835052],\n",
       "       [ 0.07216495,  0.82474227]])"
      ]
     },
     "execution_count": 26,
     "metadata": {},
     "output_type": "execute_result"
    }
   ],
   "source": [
    "X[:10]"
   ]
  },
  {
   "cell_type": "code",
   "execution_count": 27,
   "metadata": {},
   "outputs": [],
   "source": [
    "import matplotlib.pyplot as plt"
   ]
  },
  {
   "cell_type": "code",
   "execution_count": 28,
   "metadata": {},
   "outputs": [
    {
     "data": {
      "image/png": "[encoded data removed]",
      "text/plain": [
       "<matplotlib.figure.Figure at 0x24b569ba4a8>"
      ]
     },
     "metadata": {},
     "output_type": "display_data"
    }
   ],
   "source": [
    "plt.scatter(X[:,0],X[:,1])\n",
    "plt.show()"
   ]
  },
  {
   "cell_type": "code",
   "execution_count": 29,
   "metadata": {},
   "outputs": [
    {
     "data": {
      "text/plain": [
       "0.50453608247422677"
      ]
     },
     "execution_count": 29,
     "metadata": {},
     "output_type": "execute_result"
    }
   ],
   "source": [
    "np.mean(X[:,0])"
   ]
  },
  {
   "cell_type": "code",
   "execution_count": 30,
   "metadata": {},
   "outputs": [
    {
     "data": {
      "text/plain": [
       "0.49711340206185572"
      ]
     },
     "execution_count": 30,
     "metadata": {},
     "output_type": "execute_result"
    }
   ],
   "source": [
    "np.mean(X[:,1])"
   ]
  },
  {
   "cell_type": "code",
   "execution_count": 31,
   "metadata": {},
   "outputs": [
    {
     "data": {
      "text/plain": [
       "0.31484617098309875"
      ]
     },
     "execution_count": 31,
     "metadata": {},
     "output_type": "execute_result"
    }
   ],
   "source": [
    "#方差\n",
    "np.std(X[:,0])"
   ]
  },
  {
   "cell_type": "code",
   "execution_count": 33,
   "metadata": {},
   "outputs": [
    {
     "data": {
      "text/plain": [
       "0.29988689546074332"
      ]
     },
     "execution_count": 33,
     "metadata": {},
     "output_type": "execute_result"
    }
   ],
   "source": [
    "np.std(X[:,1])"
   ]
  },
  {
   "cell_type": "markdown",
   "metadata": {},
   "source": [
    "## 均值方差归一化"
   ]
  },
  {
   "cell_type": "code",
   "execution_count": 34,
   "metadata": {},
   "outputs": [],
   "source": [
    "X = np.random.randint(0,100,(50,2))\n",
    "X = np.array(X,dtype=float)"
   ]
  },
  {
   "cell_type": "code",
   "execution_count": 35,
   "metadata": {},
   "outputs": [],
   "source": [
    "X[:,0] = (X[:,0]-np.mean(X[:,0])) / np.std(X[:,0])\n",
    "X[:,1] = (X[:,1]-np.mean(X[:,1])) / np.std(X[:,1])"
   ]
  },
  {
   "cell_type": "code",
   "execution_count": 36,
   "metadata": {},
   "outputs": [
    {
     "data": {
      "image/png": "[encoded data removed]",
      "text/plain": [
       "<matplotlib.figure.Figure at 0x24b58a45240>"
      ]
     },
     "metadata": {},
     "output_type": "display_data"
    }
   ],
   "source": [
    "plt.scatter(X[:,0],X[:,1])\n",
    "plt.show()"
   ]
  },
  {
   "cell_type": "code",
   "execution_count": 37,
   "metadata": {},
   "outputs": [
    {
     "data": {
      "text/plain": [
       "-8.8817841970012528e-17"
      ]
     },
     "execution_count": 37,
     "metadata": {},
     "output_type": "execute_result"
    }
   ],
   "source": [
    "np.mean(X[:,0])"
   ]
  },
  {
   "cell_type": "code",
   "execution_count": 38,
   "metadata": {},
   "outputs": [
    {
     "data": {
      "text/plain": [
       "1.0"
      ]
     },
     "execution_count": 38,
     "metadata": {},
     "output_type": "execute_result"
    }
   ],
   "source": [
    "np.std(X[:,0])"
   ]
  },
  {
   "cell_type": "code",
   "execution_count": 39,
   "metadata": {},
   "outputs": [
    {
     "data": {
      "text/plain": [
       "1.0"
      ]
     },
     "execution_count": 39,
     "metadata": {},
     "output_type": "execute_result"
    }
   ],
   "source": [
    "np.std(X[:,1])"
   ]
  },
  {
   "cell_type": "code",
   "execution_count": 40,
   "metadata": {},
   "outputs": [
    {
     "data": {
      "text/plain": [
       "2.2204460492503132e-17"
      ]
     },
     "execution_count": 40,
     "metadata": {},
     "output_type": "execute_result"
    }
   ],
   "source": [
    "np.mean(X[:,1])"
   ]
  },
  {
   "cell_type": "code",
   "execution_count": null,
   "metadata": {},
   "outputs": [],
   "source": []
  },
  {
   "cell_type": "code",
   "execution_count": null,
   "metadata": {},
   "outputs": [],
   "source": []
  }
 ],
 "metadata": {
  "kernelspec": {
   "display_name": "Python 3",
   "language": "python",
   "name": "python3"
  },
  "language_info": {
   "codemirror_mode": {
    "name": "ipython",
    "version": 3
   },
   "file_extension": ".py",
   "mimetype": "text/x-python",
   "name": "python",
   "nbconvert_exporter": "python",
   "pygments_lexer": "ipython3",
   "version": "3.5.3"
  }
 },
 "nbformat": 4,
 "nbformat_minor": 2
}
