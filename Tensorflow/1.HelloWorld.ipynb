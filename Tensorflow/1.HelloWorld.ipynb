{
 "cells": [
  {
   "cell_type": "code",
   "execution_count": 20,
   "metadata": {},
   "outputs": [],
   "source": [
    "import tensorflow as tf"
   ]
  },
  {
   "cell_type": "code",
   "execution_count": 21,
   "metadata": {},
   "outputs": [
    {
     "name": "stdout",
     "output_type": "stream",
     "text": [
      "[1.6929938  1.1269828  0.9770396  0.85557055 1.2096452  0.3169148\n",
      " 0.4585903  2.258506   0.91671443 0.06770381]\n"
     ]
    }
   ],
   "source": [
    "a = tf.Variable(tf.random_normal([10]))\n",
    "with tf.Session() as sess:\n",
    "    tf.global_variables_initializer().run()\n",
    "    print(sess.run(a))"
   ]
  },
  {
   "cell_type": "code",
   "execution_count": 7,
   "metadata": {},
   "outputs": [],
   "source": [
    "import numpy as np\n",
    "import tensorflow as tf\n",
    "data = np.array([[[2],[1]],[[3],[4]],[[6],[7]]])\n",
    "data = tf.convert_to_tensor(data)\n",
    "lk = [[0,1],[1,0],[0,0]]\n",
    "lookup_data = tf.nn.embedding_lookup(data,lk)\n",
    "init = tf.global_variables_initializer()\n"
   ]
  },
  {
   "cell_type": "code",
   "execution_count": 8,
   "metadata": {},
   "outputs": [
    {
     "name": "stdout",
     "output_type": "stream",
     "text": [
      "(3, 2, 1)\n",
      "(3, 2)\n",
      "Tensor(\"embedding_lookup_2/Identity:0\", shape=(3, 2, 2, 1), dtype=int32)\n"
     ]
    }
   ],
   "source": [
    "print(data.shape) \n",
    "print(np.array(lk).shape)\n",
    "\n",
    "print(lookup_data)"
   ]
  },
  {
   "cell_type": "code",
   "execution_count": 9,
   "metadata": {},
   "outputs": [
    {
     "data": {
      "text/plain": [
       "<tf.Tensor 'Const_1:0' shape=(3, 2, 1) dtype=int32>"
      ]
     },
     "execution_count": 9,
     "metadata": {},
     "output_type": "execute_result"
    }
   ],
   "source": [
    "data"
   ]
  },
  {
   "cell_type": "code",
   "execution_count": 10,
   "metadata": {},
   "outputs": [
    {
     "data": {
      "text/plain": [
       "[[0, 1], [1, 0], [0, 0]]"
      ]
     },
     "execution_count": 10,
     "metadata": {},
     "output_type": "execute_result"
    }
   ],
   "source": [
    "lk"
   ]
  },
  {
   "cell_type": "code",
   "execution_count": 11,
   "metadata": {},
   "outputs": [
    {
     "name": "stdout",
     "output_type": "stream",
     "text": [
      "[[ 1.01009567 -0.09468275 -2.10134052 -0.11244748 -0.07686935  0.94705529\n",
      "   0.3819986   0.65501114 -1.23198403  1.72992367]\n",
      " [-0.77738796  1.15738061  0.52007168 -2.15401544 -1.21244142  1.20048699\n",
      "  -2.09589276  0.00248601 -0.41389429 -0.70342575]\n",
      " [ 0.06463637  0.95685355  0.65676932 -0.78421206  0.01330114 -1.5730424\n",
      "  -1.31841763  0.47591283  0.1067817   0.66221629]]\n"
     ]
    }
   ],
   "source": [
    "params=np.random.normal(loc=0.0,scale=1.0,size=[10,10])\n",
    "\n",
    "ids=[1,2,3]\n",
    "\n",
    "with tf.Session() as sess:\n",
    "    print(sess.run(tf.nn.embedding_lookup(params,ids)))"
   ]
  },
  {
   "cell_type": "code",
   "execution_count": 12,
   "metadata": {},
   "outputs": [
    {
     "data": {
      "text/plain": [
       "array([[-1.49832031e-01, -1.09685072e+00, -3.22074029e-01,\n",
       "         1.87938511e-01, -3.90136069e-01, -1.04814008e+00,\n",
       "         6.60281656e-01,  5.05004583e-01,  1.23787228e-01,\n",
       "        -3.49191461e-01],\n",
       "       [ 1.01009567e+00, -9.46827464e-02, -2.10134052e+00,\n",
       "        -1.12447482e-01, -7.68693518e-02,  9.47055293e-01,\n",
       "         3.81998596e-01,  6.55011144e-01, -1.23198403e+00,\n",
       "         1.72992367e+00],\n",
       "       [-7.77387963e-01,  1.15738061e+00,  5.20071682e-01,\n",
       "        -2.15401544e+00, -1.21244142e+00,  1.20048699e+00,\n",
       "        -2.09589276e+00,  2.48600584e-03, -4.13894288e-01,\n",
       "        -7.03425747e-01],\n",
       "       [ 6.46363731e-02,  9.56853548e-01,  6.56769316e-01,\n",
       "        -7.84212056e-01,  1.33011376e-02, -1.57304240e+00,\n",
       "        -1.31841763e+00,  4.75912826e-01,  1.06781700e-01,\n",
       "         6.62216289e-01],\n",
       "       [ 9.62112454e-03, -1.57731256e+00, -2.09260586e+00,\n",
       "         9.97143356e-01, -1.35515763e+00,  3.10053322e-01,\n",
       "        -7.70412564e-01,  4.90983359e-01, -2.11574668e-01,\n",
       "        -9.54422605e-01],\n",
       "       [-1.18245313e+00, -1.14520905e+00, -6.54564571e-01,\n",
       "         2.08139704e-01, -1.76732491e+00, -5.96061857e-01,\n",
       "        -8.09581848e-01,  8.39891279e-01, -7.53480709e-01,\n",
       "         5.77148197e-01],\n",
       "       [-5.96095947e-02, -1.72402577e+00,  1.86599151e-02,\n",
       "         8.39384418e-01,  6.51503309e-01, -1.15076114e+00,\n",
       "        -5.23256892e-01,  7.94406199e-01,  1.57939307e+00,\n",
       "         1.03072775e+00],\n",
       "       [-1.00686611e+00, -1.28057977e+00,  2.12660405e+00,\n",
       "        -7.83664911e-01,  4.97669516e-01,  1.56903285e+00,\n",
       "         6.47017737e-01,  5.70036260e-01, -3.41549491e-01,\n",
       "         1.38863340e-01],\n",
       "       [ 8.39962040e-01, -4.56707060e-01, -3.49911652e-01,\n",
       "         8.65016789e-01,  1.95883257e+00,  9.38634333e-04,\n",
       "         1.01346050e+00, -5.74038564e-01,  6.69562665e-01,\n",
       "         3.77461717e-01],\n",
       "       [-3.52323531e-01,  1.73242847e+00,  8.08577301e-01,\n",
       "         8.20489393e-01,  9.26033030e-01, -5.55735295e-02,\n",
       "        -6.80470484e-02, -1.40075085e+00,  1.43615944e+00,\n",
       "         1.11594741e+00]])"
      ]
     },
     "execution_count": 12,
     "metadata": {},
     "output_type": "execute_result"
    }
   ],
   "source": [
    "params"
   ]
  },
  {
   "cell_type": "code",
   "execution_count": null,
   "metadata": {},
   "outputs": [],
   "source": []
  },
  {
   "cell_type": "code",
   "execution_count": 13,
   "metadata": {},
   "outputs": [],
   "source": [
    "# 创建一个常量 Operation(操作)\n",
    "hw = tf.constant('hello world !i love TensorFlow')"
   ]
  },
  {
   "cell_type": "code",
   "execution_count": 14,
   "metadata": {},
   "outputs": [],
   "source": [
    "# 启动 一个TensorFlow 的Session会话\n",
    "sess = tf.Session()"
   ]
  },
  {
   "cell_type": "code",
   "execution_count": 15,
   "metadata": {},
   "outputs": [
    {
     "name": "stdout",
     "output_type": "stream",
     "text": [
      "b'hello world !i love TensorFlow'\n"
     ]
    }
   ],
   "source": [
    "# 运行Graph 图计算\n",
    "print(sess.run(hw))"
   ]
  },
  {
   "cell_type": "code",
   "execution_count": 8,
   "metadata": {},
   "outputs": [],
   "source": [
    "sess.close()"
   ]
  },
  {
   "cell_type": "code",
   "execution_count": 16,
   "metadata": {},
   "outputs": [
    {
     "data": {
      "text/plain": [
       "array([[0., 0., 0., 0.],\n",
       "       [0., 0., 0., 0.],\n",
       "       [0., 0., 0., 0.]])"
      ]
     },
     "execution_count": 16,
     "metadata": {},
     "output_type": "execute_result"
    }
   ],
   "source": [
    "import numpy as np\n",
    "\n",
    "np.zeros((3,4))"
   ]
  },
  {
   "cell_type": "code",
   "execution_count": 12,
   "metadata": {},
   "outputs": [
    {
     "data": {
      "text/plain": [
       "array([[1., 1., 1., 1., 1., 1.],\n",
       "       [1., 1., 1., 1., 1., 1.],\n",
       "       [1., 1., 1., 1., 1., 1.],\n",
       "       [1., 1., 1., 1., 1., 1.],\n",
       "       [1., 1., 1., 1., 1., 1.]])"
      ]
     },
     "execution_count": 12,
     "metadata": {},
     "output_type": "execute_result"
    }
   ],
   "source": [
    "np.ones((5,6))"
   ]
  },
  {
   "cell_type": "code",
   "execution_count": 11,
   "metadata": {},
   "outputs": [
    {
     "data": {
      "text/plain": [
       "array([[1., 0., 0., 0.],\n",
       "       [0., 1., 0., 0.],\n",
       "       [0., 0., 1., 0.],\n",
       "       [0., 0., 0., 1.]])"
      ]
     },
     "execution_count": 11,
     "metadata": {},
     "output_type": "execute_result"
    }
   ],
   "source": [
    "np.eye(4)"
   ]
  },
  {
   "cell_type": "code",
   "execution_count": 12,
   "metadata": {},
   "outputs": [],
   "source": [
    "const = tf.constant(3)"
   ]
  },
  {
   "cell_type": "code",
   "execution_count": 13,
   "metadata": {},
   "outputs": [
    {
     "data": {
      "text/plain": [
       "<tf.Tensor 'Const_1:0' shape=() dtype=int32>"
      ]
     },
     "execution_count": 13,
     "metadata": {},
     "output_type": "execute_result"
    }
   ],
   "source": [
    "const"
   ]
  },
  {
   "cell_type": "code",
   "execution_count": 14,
   "metadata": {},
   "outputs": [
    {
     "data": {
      "text/plain": [
       "3"
      ]
     },
     "execution_count": 14,
     "metadata": {},
     "output_type": "execute_result"
    }
   ],
   "source": [
    "tf.Session().run(const)"
   ]
  },
  {
   "cell_type": "code",
   "execution_count": 15,
   "metadata": {},
   "outputs": [],
   "source": [
    "# 常量\n",
    "tensor = tf.constant([1, 2, 3, 4, 5, 6, 7])"
   ]
  },
  {
   "cell_type": "code",
   "execution_count": 16,
   "metadata": {},
   "outputs": [
    {
     "data": {
      "text/plain": [
       "array([1, 2, 3, 4, 5, 6, 7])"
      ]
     },
     "execution_count": 16,
     "metadata": {},
     "output_type": "execute_result"
    }
   ],
   "source": [
    "tf.Session().run(tensor)"
   ]
  },
  {
   "cell_type": "code",
   "execution_count": 17,
   "metadata": {},
   "outputs": [],
   "source": [
    "# 变量\n",
    "var = tf.Variable(3)"
   ]
  },
  {
   "cell_type": "code",
   "execution_count": 19,
   "metadata": {},
   "outputs": [
    {
     "data": {
      "text/plain": [
       "<tf.Variable 'Variable:0' shape=() dtype=int32_ref>"
      ]
     },
     "execution_count": 19,
     "metadata": {},
     "output_type": "execute_result"
    }
   ],
   "source": [
    "var"
   ]
  },
  {
   "cell_type": "code",
   "execution_count": 20,
   "metadata": {},
   "outputs": [
    {
     "data": {
      "text/plain": [
       "<tf.Variable 'Variable_1:0' shape=() dtype=int64_ref>"
      ]
     },
     "execution_count": 20,
     "metadata": {},
     "output_type": "execute_result"
    }
   ],
   "source": [
    "var1 = tf.Variable(4,dtype=tf.int64)\n",
    "var1"
   ]
  },
  {
   "cell_type": "code",
   "execution_count": 23,
   "metadata": {},
   "outputs": [
    {
     "name": "stdout",
     "output_type": "stream",
     "text": [
      "[[261.94998 258.62372 259.9097  ... 257.72586 258.94333 269.64487]\n",
      " [268.47757 262.8418  260.86526 ... 261.43146 272.40347 269.92282]\n",
      " [263.20956 259.55865 259.0498  ... 255.62231 264.1982  270.52414]\n",
      " ...\n",
      " [260.52496 258.7315  258.57114 ... 251.67383 262.50864 264.9181 ]\n",
      " [257.37198 254.21161 252.81706 ... 247.91136 258.0006  260.52777]\n",
      " [265.60907 261.09442 253.59164 ... 249.21143 260.55103 263.31018]]\n"
     ]
    }
   ],
   "source": [
    "# Placeholder（占位符） 先占住一个位置，等着你之后往里面添加值\n",
    "x = tf.placeholder(tf.float32, shape=(1024, 1024))\n",
    "y = tf.matmul(x, x)\n",
    "\n",
    "with tf.Session() as sess:\n",
    "  rand_array = np.random.rand(1024, 1024)\n",
    "  print(sess.run(y, feed_dict={x: rand_array}))  # Will succeed."
   ]
  },
  {
   "cell_type": "code",
   "execution_count": 35,
   "metadata": {},
   "outputs": [
    {
     "data": {
      "text/plain": [
       "<tensorflow.python.framework.sparse_tensor.SparseTensor at 0x20294b4c470>"
      ]
     },
     "execution_count": 35,
     "metadata": {},
     "output_type": "execute_result"
    }
   ],
   "source": [
    "# SparseTensor(稀疏张量)  类似于线性代数里的稀疏矩阵概念\n",
    "sparse = tf.SparseTensor(indices=[[0, 0], [1, 2]], values=[1, 2], dense_shape=[3, 4])\n",
    "sparse"
   ]
  },
  {
   "cell_type": "code",
   "execution_count": 42,
   "metadata": {},
   "outputs": [
    {
     "data": {
      "text/plain": [
       "<tf.Variable 'Variable_6:0' shape=(2,) dtype=int32_ref>"
      ]
     },
     "execution_count": 42,
     "metadata": {},
     "output_type": "execute_result"
    }
   ],
   "source": [
    "# Tensor 的表示法\n",
    "var2 = tf.Variable([3,4])\n",
    "var2"
   ]
  },
  {
   "cell_type": "code",
   "execution_count": 43,
   "metadata": {},
   "outputs": [
    {
     "data": {
      "text/plain": [
       "<tf.Variable 'Variable_7:0' shape=(2,) dtype=int32_ref>"
      ]
     },
     "execution_count": 43,
     "metadata": {},
     "output_type": "execute_result"
    }
   ],
   "source": [
    "var3 = tf.Variable([3,4],[5,6])\n",
    "var3"
   ]
  },
  {
   "cell_type": "code",
   "execution_count": 46,
   "metadata": {},
   "outputs": [
    {
     "data": {
      "text/plain": [
       "<tf.Variable 'varname_var:0' shape=(2,) dtype=int32_ref>"
      ]
     },
     "execution_count": 46,
     "metadata": {},
     "output_type": "execute_result"
    }
   ],
   "source": [
    "var4 = tf.Variable([4,6],name='varname_var')\n",
    "var4"
   ]
  },
  {
   "cell_type": "code",
   "execution_count": 48,
   "metadata": {},
   "outputs": [
    {
     "data": {
      "text/plain": [
       "<tf.Tensor 'Const_4:0' shape=() dtype=int32>"
      ]
     },
     "execution_count": 48,
     "metadata": {},
     "output_type": "execute_result"
    }
   ],
   "source": [
    "const = tf.constant(3)\n",
    "const"
   ]
  },
  {
   "cell_type": "code",
   "execution_count": 49,
   "metadata": {},
   "outputs": [
    {
     "data": {
      "text/plain": [
       "<tf.Tensor 'Const_5:0' shape=() dtype=int32>"
      ]
     },
     "execution_count": 49,
     "metadata": {},
     "output_type": "execute_result"
    }
   ],
   "source": [
    "const1 = tf.constant(3)\n",
    "const1"
   ]
  },
  {
   "cell_type": "code",
   "execution_count": 50,
   "metadata": {},
   "outputs": [
    {
     "data": {
      "text/plain": [
       "<tf.Tensor 'cons_con:0' shape=() dtype=int32>"
      ]
     },
     "execution_count": 50,
     "metadata": {},
     "output_type": "execute_result"
    }
   ],
   "source": [
    "const1 = tf.constant(3,name='cons_con')\n",
    "const1"
   ]
  },
  {
   "cell_type": "code",
   "execution_count": 52,
   "metadata": {},
   "outputs": [],
   "source": [
    "conn = tf.constant([[2,3],[4,5]],name='con_1',dtype=tf.int64)"
   ]
  },
  {
   "cell_type": "code",
   "execution_count": 53,
   "metadata": {},
   "outputs": [
    {
     "data": {
      "text/plain": [
       "<tf.Tensor 'con_1_1:0' shape=(2, 2) dtype=int64>"
      ]
     },
     "execution_count": 53,
     "metadata": {},
     "output_type": "execute_result"
    }
   ],
   "source": [
    "conn"
   ]
  },
  {
   "cell_type": "code",
   "execution_count": 54,
   "metadata": {},
   "outputs": [
    {
     "data": {
      "text/plain": [
       "<tensorflow.python.client.session.Session at 0x2029434c940>"
      ]
     },
     "execution_count": 54,
     "metadata": {},
     "output_type": "execute_result"
    }
   ],
   "source": [
    "sess = tf.Session() # 创建会话\n",
    "sess"
   ]
  },
  {
   "cell_type": "code",
   "execution_count": 55,
   "metadata": {},
   "outputs": [
    {
     "data": {
      "text/plain": [
       "array([[2, 3],\n",
       "       [4, 5]], dtype=int64)"
      ]
     },
     "execution_count": 55,
     "metadata": {},
     "output_type": "execute_result"
    }
   ],
   "source": [
    "sess.run(conn)"
   ]
  },
  {
   "cell_type": "code",
   "execution_count": 58,
   "metadata": {},
   "outputs": [
    {
     "name": "stdout",
     "output_type": "stream",
     "text": [
      "The Graph of conn is  the default graph of the context\n"
     ]
    }
   ],
   "source": [
    "# 获取图\n",
    "if conn.graph is tf.get_default_graph():\n",
    "    print(\"The Graph of conn is  the default graph of the context\")"
   ]
  },
  {
   "cell_type": "code",
   "execution_count": 60,
   "metadata": {},
   "outputs": [],
   "source": [
    "import tensorflow as tf"
   ]
  },
  {
   "cell_type": "code",
   "execution_count": 62,
   "metadata": {},
   "outputs": [
    {
     "name": "stdout",
     "output_type": "stream",
     "text": [
      "Tensor(\"MatMul_2:0\", shape=(1, 1), dtype=float32)\n"
     ]
    }
   ],
   "source": [
    "a = 3 \n",
    "\n",
    "# 创建变量\n",
    "w = tf.Variable([[0.5,1.0]])\n",
    "x = tf.Variable([[2.0],[1.0]])\n",
    "y = tf.matmul(w,x)\n",
    "print(y)"
   ]
  },
  {
   "cell_type": "code",
   "execution_count": 65,
   "metadata": {},
   "outputs": [
    {
     "name": "stdout",
     "output_type": "stream",
     "text": [
      "[[2.]]\n",
      "Tensor(\"MatMul_2:0\", shape=(1, 1), dtype=float32)\n",
      "[[2.]]\n"
     ]
    }
   ],
   "source": [
    "# 进行初始化\n",
    "init_op = tf.global_variables_initializer()\n",
    "with tf.Session() as sess:\n",
    "    sess.run(init_op)\n",
    "    print(sess.run(y))\n",
    "    print(y)\n",
    "    print(y.eval())"
   ]
  },
  {
   "cell_type": "markdown",
   "metadata": {},
   "source": [
    "### 基本方法"
   ]
  },
  {
   "cell_type": "code",
   "execution_count": 70,
   "metadata": {},
   "outputs": [
    {
     "name": "stdout",
     "output_type": "stream",
     "text": [
      "[[0 0 0 0]\n",
      " [0 0 0 0]\n",
      " [0 0 0 0]]\n"
     ]
    }
   ],
   "source": [
    "a = tf.zeros([3,4],dtype=tf.int32)\n",
    "with tf.Session() as sess:\n",
    "    print(a.eval())   "
   ]
  },
  {
   "cell_type": "code",
   "execution_count": 74,
   "metadata": {},
   "outputs": [
    {
     "name": "stdout",
     "output_type": "stream",
     "text": [
      "[[1 1 1]\n",
      " [1 1 1]]\n",
      "[[0 0 0]\n",
      " [0 0 0]]\n"
     ]
    }
   ],
   "source": [
    "ten = tf.Variable([[1,2,3],[4,5,6]])\n",
    "with tf.Session() as sess:\n",
    "   print( tf.ones_like(ten).eval())\n",
    "   print(tf.zeros_like(ten).eval())"
   ]
  },
  {
   "cell_type": "code",
   "execution_count": 75,
   "metadata": {},
   "outputs": [
    {
     "name": "stdout",
     "output_type": "stream",
     "text": [
      "[[1 1 1 1]\n",
      " [1 1 1 1]\n",
      " [1 1 1 1]]\n"
     ]
    }
   ],
   "source": [
    "a = tf.ones([3,4],dtype=tf.int32)\n",
    "with tf.Session() as sess:\n",
    "    print(a.eval())  "
   ]
  },
  {
   "cell_type": "code",
   "execution_count": 78,
   "metadata": {},
   "outputs": [
    {
     "name": "stdout",
     "output_type": "stream",
     "text": [
      "[1 2 3 4 5 6]\n"
     ]
    }
   ],
   "source": [
    "con = tf.constant([1,2,3,4,5,6])\n",
    "with tf.Session() as sess:\n",
    "    print(sess.run(con))  "
   ]
  },
  {
   "cell_type": "code",
   "execution_count": 79,
   "metadata": {},
   "outputs": [
    {
     "name": "stdout",
     "output_type": "stream",
     "text": [
      "[[-1. -1. -1.]\n",
      " [-1. -1. -1.]]\n"
     ]
    }
   ],
   "source": [
    "con1 = tf.constant(-1.0,shape=[2,3])\n",
    "with tf.Session() as sess:\n",
    "    print(sess.run(con1))"
   ]
  },
  {
   "cell_type": "code",
   "execution_count": 95,
   "metadata": {},
   "outputs": [
    {
     "name": "stdout",
     "output_type": "stream",
     "text": [
      "[10.  14.5 19. ]\n"
     ]
    }
   ],
   "source": [
    "lins = tf.linspace(10.0,19.0,3,name='linspace_a_1')\n",
    "with tf.Session() as sess:\n",
    "    print(sess.run(lins))"
   ]
  },
  {
   "cell_type": "code",
   "execution_count": 97,
   "metadata": {},
   "outputs": [
    {
     "name": "stdout",
     "output_type": "stream",
     "text": [
      "[ 3  6  9 12 15]\n"
     ]
    }
   ],
   "source": [
    "with tf.Session() as sess:\n",
    "    print(sess.run(tf.range(3,18,3)))\n",
    "# 每3个一加"
   ]
  },
  {
   "cell_type": "code",
   "execution_count": 98,
   "metadata": {},
   "outputs": [
    {
     "name": "stdout",
     "output_type": "stream",
     "text": [
      "[[ 0.7010944 -2.9229321 -1.9312294]\n",
      " [ 1.7709048  1.5539069  4.7294865]]\n"
     ]
    }
   ],
   "source": [
    "# 随机值 正态分布\n",
    "norm = tf.random_normal([2,3],mean=-1,stddev=4)\n",
    "with tf.Session() as sess:\n",
    "    print(sess.run(norm))"
   ]
  },
  {
   "cell_type": "code",
   "execution_count": 115,
   "metadata": {},
   "outputs": [
    {
     "name": "stdout",
     "output_type": "stream",
     "text": [
      "[[3 4]\n",
      " [1 2]\n",
      " [5 6]]\n"
     ]
    }
   ],
   "source": [
    "s = tf.constant([[1,2],[3,4],[5,6]])\n",
    "shuff = tf.random_shuffle(s)\n",
    "with tf.Session() as sess:\n",
    "    print(sess.run(shuff))"
   ]
  },
  {
   "cell_type": "code",
   "execution_count": 119,
   "metadata": {},
   "outputs": [
    {
     "name": "stdout",
     "output_type": "stream",
     "text": [
      "0\n",
      "1\n",
      "2\n",
      "3\n"
     ]
    }
   ],
   "source": [
    "# 让当前的值进行+1的操作\n",
    "state = tf.Variable(0)\n",
    "new_value = tf.add(state,tf.constant(1))\n",
    "updata = tf.assign(state,new_value)  # 将后面的值赋值给前一个值\n",
    "with tf.Session() as sess:\n",
    "    sess.run(tf.global_variables_initializer())\n",
    "    print(sess.run(state))\n",
    "    for i in range(3):\n",
    "        sess.run(updata)\n",
    "        print(sess.run(state))"
   ]
  },
  {
   "cell_type": "code",
   "execution_count": 135,
   "metadata": {},
   "outputs": [
    {
     "name": "stdout",
     "output_type": "stream",
     "text": [
      "WARNING:tensorflow:Issue encountered when serializing variables.\n",
      "Type is unsupported, or the types of the items don't match field type in CollectionDef. Note this is a warning and probably safe to ignore.\n",
      "[5, 6] has type list, but expected one of: int, long, bool\n",
      "WARNING:tensorflow:Issue encountered when serializing trainable_variables.\n",
      "Type is unsupported, or the types of the items don't match field type in CollectionDef. Note this is a warning and probably safe to ignore.\n",
      "[5, 6] has type list, but expected one of: int, long, bool\n",
      "Model saved in file: D://jupyter-notebook-code//Tensorflow//a.ckpt\n"
     ]
    }
   ],
   "source": [
    "# tf.train.Saver\n",
    "# 创建变量\n",
    "w = tf.Variable([[0.5,1.0]])\n",
    "x = tf.Variable([[2.0],[1.0]])\n",
    "y = tf.matmul(w,x)\n",
    "# 添加用于初始化变量的节点\n",
    "init_op = tf.global_variables_initializer()\n",
    "# 添加用于保存和加载所有变量的节点\n",
    "saver = tf.train.Saver()\n",
    "# 然后，加载模型，初始化所有变量，完成一些操作后，把变量保存到磁盘上\n",
    "with tf.Session() as sess:\n",
    "    sess.run(init_op)\n",
    "    # 将变量保存到磁盘上\n",
    "    save_path = saver.save(sess, \"D://jupyter-notebook-code//Tensorflow//a.ckpt\")\n",
    "    print(\"Model saved in file: %s\" %save_path)"
   ]
  },
  {
   "cell_type": "code",
   "execution_count": 140,
   "metadata": {},
   "outputs": [
    {
     "name": "stdout",
     "output_type": "stream",
     "text": [
      "[[0. 0. 0.]\n",
      " [0. 0. 0.]\n",
      " [0. 0. 0.]]\n"
     ]
    }
   ],
   "source": [
    "import numpy as np\n",
    "a = np.zeros([3,3])\n",
    "#将numpy装换为tensor\n",
    "ta = tf.convert_to_tensor(a)\n",
    "with tf.Session() as sess:\n",
    "    print(sess.run(ta))"
   ]
  },
  {
   "cell_type": "code",
   "execution_count": 141,
   "metadata": {},
   "outputs": [
    {
     "name": "stdout",
     "output_type": "stream",
     "text": [
      "[56.]\n"
     ]
    }
   ],
   "source": [
    "# Placeholder（占位符） 先占住一个位置，等着你之后往里面添加值\n",
    "input1 = tf.placeholder(tf.float32)\n",
    "input2 = tf.placeholder(tf.float32)\n",
    "output = tf.multiply(input1,input2)\n",
    "with tf.Session() as sess:\n",
    "    print(sess.run(output,feed_dict={input1:[7.],input2:[8.]}))"
   ]
  },
  {
   "cell_type": "code",
   "execution_count": 16,
   "metadata": {},
   "outputs": [
    {
     "name": "stdout",
     "output_type": "stream",
     "text": [
      "[[0.19765818 0.43013275 1.0513399 ]\n",
      " [0.75510454 0.21201646 0.09653997]]\n"
     ]
    }
   ],
   "source": [
    "\n",
    "import tensorflow as tf;  \n",
    "import numpy as np;  \n",
    "import matplotlib.pyplot as plt;  \n",
    "  \n",
    "a1 = tf.get_variable(name='a4', shape=[2,3])\n",
    "# a2 = tf.get_variable(name='a2', shape=[1], tf.constant(1))\n",
    "# a3 = tf.get_variable(name='a3', shape=[2,3], tf.ones())\n",
    " \n",
    "with tf.Session() as sess:\n",
    "    sess.run(tf.initialize_all_variables())\n",
    "    print (sess.run(a1))\n",
    "#     print (sess.run(a2))\n",
    "\n",
    "\n",
    "    "
   ]
  },
  {
   "cell_type": "code",
   "execution_count": 28,
   "metadata": {},
   "outputs": [],
   "source": [
    "# 累加\n",
    "\n",
    "x = tf.Variable(0,dtype=tf.float32,name='v_x')\n",
    "# x = x+1\n",
    "assign_op= tf.assign(ref=x,value=x+1)\n",
    "b = tf.add(x,1)\n",
    "init = tf.global_variables_initializer()"
   ]
  },
  {
   "cell_type": "code",
   "execution_count": 27,
   "metadata": {},
   "outputs": [
    {
     "name": "stdout",
     "output_type": "stream",
     "text": [
      "1.0\n",
      "1.0\n",
      "x:1.0\n",
      "2.0\n",
      "x:2.0\n",
      "3.0\n",
      "x:3.0\n",
      "4.0\n",
      "x:4.0\n",
      "5.0\n",
      "x:5.0\n"
     ]
    }
   ],
   "source": [
    "with tf.Session() as sess:\n",
    "    sess.run(init)\n",
    "    print(sess.run(b))\n",
    "    for i in range(5):\n",
    "        print(sess.run(assign_op))\n",
    "        print('x:{}'.format(sess.run(x)))\n",
    "       \n",
    "    "
   ]
  },
  {
   "cell_type": "code",
   "execution_count": 39,
   "metadata": {
    "scrolled": true
   },
   "outputs": [
    {
     "name": "stdout",
     "output_type": "stream",
     "text": [
      "[0. 0.]\n",
      "[0. 0. 0. 0.]\n",
      "[0. 0. 0. 0. 0. 0.]\n",
      "[0. 0. 0. 0. 0. 0. 0. 0.]\n",
      "[0. 0. 0. 0. 0. 0. 0. 0. 0. 0.]\n"
     ]
    }
   ],
   "source": [
    "# 阶乘\n",
    "# 定义不定形状的变量\n",
    "x = tf.Variable(initial_value=[],dtype=tf.float32,trainable=False,validate_shape=False)   # 不定形状, 第二个设置为true的话，在变量进行更新的时候，进行shape检查默认为true\n",
    "# 变量更改\n",
    "concat = tf.concat([x,[0.0,0.0]],axis=0)\n",
    "ass = tf.assign(x,concat,validate_shape=False)\n",
    "init = tf.global_variables_initializer()\n",
    "with tf.Session() as sess:\n",
    "    sess.run(init)\n",
    "    for i in range(5):\n",
    "        print(sess.run(ass))"
   ]
  },
  {
   "cell_type": "code",
   "execution_count": 58,
   "metadata": {},
   "outputs": [],
   "source": [
    "# 阶乘\n",
    "# 定义一个变量  一个占位符\n",
    "sum = tf.Variable(1,dtype=tf.float32)\n",
    "i = tf.placeholder(dtype=tf.float32)\n",
    "tup_sum = sum*i\n",
    "ass = tf.assign(sum,tup_sum)\n",
    "init = tf.global_variables_initializer()\n",
    "# with tf.Session() as sess:\n",
    "#     sess.run(init)\n",
    "#     for j in range(1,6):\n",
    "#         sess.run(ass,feed_dict={i:j})\n",
    "#         print(sess.run(sum))"
   ]
  },
  {
   "cell_type": "code",
   "execution_count": 59,
   "metadata": {},
   "outputs": [
    {
     "name": "stdout",
     "output_type": "stream",
     "text": [
      "[1, 2, 3, 4]\n"
     ]
    }
   ],
   "source": [
    "print(list(range(1,5)))"
   ]
  },
  {
   "cell_type": "code",
   "execution_count": 60,
   "metadata": {},
   "outputs": [],
   "source": [
    "with tf.control_dependencies([ass]):\n",
    "    # 如果想执行代码块内的内容必须先执行control_dependencies中的内容\n",
    "    sum = tf.Print(sum,data=[sum,sum.read_value()],message='sum')"
   ]
  },
  {
   "cell_type": "code",
   "execution_count": 72,
   "metadata": {},
   "outputs": [
    {
     "name": "stdout",
     "output_type": "stream",
     "text": [
      "120.0\n"
     ]
    }
   ],
   "source": [
    "\n",
    "\n",
    "with tf.Session(config=(tf.ConfigProto(log_device_placement=True,allow_soft_placement=True))) as sess:\n",
    "    sess.run(init)\n",
    "    for j in range(1,6):\n",
    "#         control_dependencies可以指定依赖关系 这样就不用管更新操作\n",
    "        r = sess.run(sum,feed_dict={i:j})\n",
    "    print(r)"
   ]
  },
  {
   "cell_type": "code",
   "execution_count": 18,
   "metadata": {},
   "outputs": [
    {
     "name": "stdout",
     "output_type": "stream",
     "text": [
      " 驱动器 D 中的卷是 软件\n",
      " 卷的序列号是 0009-0369\n",
      "\n",
      " D:\\jupyter-notebook-code\\Tensorflow 的目录\n",
      "\n",
      "2018/11/12 周一  10:57    <DIR>          .\n",
      "2018/11/12 周一  10:57    <DIR>          ..\n",
      "2018/10/26 周五  19:15    <DIR>          .ipynb_checkpoints\n",
      "2018/10/18 周四  14:01    <DIR>          __pycache__\n",
      "2018/10/24 周三  15:45             4,339 0.简单的实现神经网络.ipynb\n",
      "2018/11/12 周一  10:57            29,042 1.HelloWorld.ipynb\n",
      "2018/10/29 周一  17:18            25,528 10.Tensorflow实现卷积神经网络.ipynb\n",
      "2018/10/25 周四  15:00            31,712 11.保存训练完的网络.ipynb\n",
      "2018/10/27 周六  17:37             9,203 12.保存训练完的CNN.ipynb\n",
      "2018/10/25 周四  17:25               628 13.VGG.ipynb\n",
      "2018/10/29 周一  10:16             8,812 14.Tensorflow实现RNN.ipynb\n",
      "2018/10/27 周六  16:03             3,188 2.一个完整的程序.ipynb\n",
      "2018/11/01 周四  14:55             4,281 3.TensorBoard练习.ipynb\n",
      "2018/10/18 周四  11:34            45,507 4.Tensorflow实现梯度下降.ipynb\n",
      "2018/10/18 周四  10:09            24,088 5.激活函数的使用.ipynb\n",
      "2018/10/18 周四  11:34            38,207 6.实现线性回归.ipynb\n",
      "2018/10/27 周六  16:10            51,585 7.手写数字.ipynb\n",
      "2018/11/07 周三  20:43             6,868 8.实现逻辑回归.ipynb\n",
      "2018/10/27 周六  17:38            82,173 9.使用Tensorflow实现神经网络.ipynb\n",
      "2018/10/18 周四  14:00    <DIR>          data\n",
      "2017/01/05 周四  17:07               372 input_data.py\n",
      "2018/10/27 周六  17:37    <DIR>          log\n",
      "2018/10/24 周三  16:38           642,876 nht_pixel_2018101801.log\n",
      "2018/10/26 周五  20:49            16,701 RNN.ipynb\n",
      "2018/10/27 周六  17:34    <DIR>          save\n",
      "2018/10/25 周四  17:04         2,460,437 VGG.ipynb\n",
      "              19 个文件      3,485,547 字节\n",
      "               7 个目录 204,609,064,960 可用字节\n"
     ]
    }
   ],
   "source": [
    "%ls"
   ]
  },
  {
   "cell_type": "markdown",
   "metadata": {},
   "source": [
    "P(A∣B)=P(B∣A),P(A)P(B)"
   ]
  },
  {
   "cell_type": "code",
   "execution_count": null,
   "metadata": {},
   "outputs": [],
   "source": []
  },
  {
   "cell_type": "code",
   "execution_count": null,
   "metadata": {},
   "outputs": [],
   "source": []
  }
 ],
 "metadata": {
  "kernelspec": {
   "display_name": "Python 3",
   "language": "python",
   "name": "python3"
  },
  "language_info": {
   "codemirror_mode": {
    "name": "ipython",
    "version": 3
   },
   "file_extension": ".py",
   "mimetype": "text/x-python",
   "name": "python",
   "nbconvert_exporter": "python",
   "pygments_lexer": "ipython3",
   "version": "3.5.3"
  },
  "toc": {
   "base_numbering": 1,
   "nav_menu": {},
   "number_sections": true,
   "sideBar": true,
   "skip_h1_title": false,
   "title_cell": "Table of Contents",
   "title_sidebar": "Contents",
   "toc_cell": false,
   "toc_position": {},
   "toc_section_display": true,
   "toc_window_display": false
  }
 },
 "nbformat": 4,
 "nbformat_minor": 2
}
