{
 "cells": [
  {
   "cell_type": "code",
   "execution_count": 13,
   "metadata": {},
   "outputs": [],
   "source": [
    "import numpy as np\n",
    "\n",
    "#激活函数  前项传播和反向传播 \n",
    "def sigmoid(X,deriv = False):\n",
    "    if (deriv==True): # 反向传播  \n",
    "        return X*(1-X)\n",
    "    return 1/(1+np.exp(-X))"
   ]
  },
  {
   "cell_type": "code",
   "execution_count": 14,
   "metadata": {},
   "outputs": [
    {
     "data": {
      "text/plain": [
       "(5, 3)"
      ]
     },
     "execution_count": 14,
     "metadata": {},
     "output_type": "execute_result"
    }
   ],
   "source": [
    "X = np.array(\n",
    "    [[0,0,1],[0,1,1],[1,0,1],[1,1,1],[0,0,1]]\n",
    ")\n",
    "X.shape"
   ]
  },
  {
   "cell_type": "code",
   "execution_count": 15,
   "metadata": {},
   "outputs": [
    {
     "data": {
      "text/plain": [
       "(5, 1)"
      ]
     },
     "execution_count": 15,
     "metadata": {},
     "output_type": "execute_result"
    }
   ],
   "source": [
    "y = np.array([\n",
    "    [0],[1],[1],[0],[0]\n",
    "])\n",
    "y.shape"
   ]
  },
  {
   "cell_type": "code",
   "execution_count": 16,
   "metadata": {},
   "outputs": [
    {
     "name": "stdout",
     "output_type": "stream",
     "text": [
      "[[-0.16595599  0.44064899 -0.99977125 -0.39533485]\n",
      " [-0.70648822 -0.81532281 -0.62747958 -0.30887855]\n",
      " [-0.20646505  0.07763347 -0.16161097  0.370439  ]]\n",
      "[[-0.5910955 ]\n",
      " [ 0.75623487]\n",
      " [-0.94522481]\n",
      " [ 0.34093502]]\n"
     ]
    }
   ],
   "source": [
    "np.random.seed(1)\n",
    "# 定义三层的神经网络  l0,l1,l2\n",
    "w0 = 2*np.random.random((3,4))-1  # -1-+1之间的数 需要跟输入相连   3 确定的  4 指的是l1的神经元\n",
    "w1 = 2*np.random.random((4,1))-1\n",
    "print(w0)\n",
    "print(w1)"
   ]
  },
  {
   "cell_type": "code",
   "execution_count": 36,
   "metadata": {},
   "outputs": [
    {
     "name": "stdout",
     "output_type": "stream",
     "text": [
      "Error  0.0010479058256142773\n",
      "Error  0.0010384471243307055\n",
      "Error  0.001029235745209632\n",
      "Error  0.001020261153438548\n",
      "Error  0.0010115134301045563\n",
      "Error  0.001002983226742892\n",
      "Error  0.0009946617239148493\n",
      "Error  0.0009865405933982539\n",
      "Error  0.0009786119636252997\n",
      "Error  0.0009708683880427432\n"
     ]
    }
   ],
   "source": [
    "# 迭代 60000次\n",
    "for j in range(100000):\n",
    "    l0 = X\n",
    "    l1 = sigmoid(np.dot(l0,w0)) # 进行  w*x 然后激活  (5,4)\n",
    "    l2 = sigmoid(np.dot(l1,w1))   #(5,1)\n",
    "    l2_error = y-l2\n",
    "    #print(l2_error.shape)    # (5,1)\n",
    "    if(j%10000==0):\n",
    "        print('Error  '+str(np.mean(np.abs(l2_error))))\n",
    "    # 反向传播  l2_err * 当前的导数值\n",
    "    l2_delta = l2_error*sigmoid(l2,deriv=True)  # (5,1) \n",
    "    # print(sigmoid(l2,deriv=True).shape)   # (5,1)\n",
    "    l1_error = l2_delta.dot(w1.T)  # (5,4)\n",
    "    #print(l1_error.shape)\n",
    "    l1_delta = l1_error*sigmoid(l1,deriv=True)  \n",
    "    \n",
    "    w1 +=l1.T.dot(l2_delta)   # l1w1 求导得出 l1\n",
    "    w0 +=l0.T.dot(l1_delta)"
   ]
  },
  {
   "cell_type": "code",
   "execution_count": null,
   "metadata": {},
   "outputs": [],
   "source": []
  },
  {
   "cell_type": "code",
   "execution_count": null,
   "metadata": {},
   "outputs": [],
   "source": [
    "\n"
   ]
  },
  {
   "cell_type": "code",
   "execution_count": null,
   "metadata": {},
   "outputs": [],
   "source": []
  },
  {
   "cell_type": "code",
   "execution_count": null,
   "metadata": {},
   "outputs": [],
   "source": []
  },
  {
   "cell_type": "code",
   "execution_count": null,
   "metadata": {},
   "outputs": [],
   "source": []
  }
 ],
 "metadata": {
  "kernelspec": {
   "display_name": "Python 3",
   "language": "python",
   "name": "python3"
  },
  "language_info": {
   "codemirror_mode": {
    "name": "ipython",
    "version": 3
   },
   "file_extension": ".py",
   "mimetype": "text/x-python",
   "name": "python",
   "nbconvert_exporter": "python",
   "pygments_lexer": "ipython3",
   "version": "3.5.3"
  }
 },
 "nbformat": 4,
 "nbformat_minor": 2
}
