{
 "cells": [
  {
   "cell_type": "code",
   "execution_count": 3,
   "metadata": {},
   "outputs": [],
   "source": [
    "import numpy as np\n",
    "import tensorflow as tf\n",
    "import matplotlib.pyplot as plt\n",
    "import input_data"
   ]
  },
  {
   "cell_type": "code",
   "execution_count": 35,
   "metadata": {},
   "outputs": [
    {
     "name": "stdout",
     "output_type": "stream",
     "text": [
      "Extracting data/train-images-idx3-ubyte.gz\n",
      "Extracting data/train-labels-idx1-ubyte.gz\n",
      "Extracting data/t10k-images-idx3-ubyte.gz\n",
      "Extracting data/t10k-labels-idx1-ubyte.gz\n"
     ]
    }
   ],
   "source": [
    "mnist = input_data.read_data_sets('data/',one_hot=True)\n",
    "testimg    = mnist.test.images[:10]\n",
    "testlabel  = mnist.test.labels[:10]"
   ]
  },
  {
   "cell_type": "code",
   "execution_count": 5,
   "metadata": {},
   "outputs": [
    {
     "name": "stdout",
     "output_type": "stream",
     "text": [
      "NETWORK PARAMETER\n"
     ]
    }
   ],
   "source": [
    "# 定义输入\n",
    "n_hidden_1 = 256  # 第一层的神经元\n",
    "n_hidden_2 = 128  # 第二层的神经元\n",
    "n_input = 784     #  输入的神经元的像素点\n",
    "n_classes = 10    # 10分类 10个神经元\n",
    "\n",
    "# 参数初始化\n",
    "x = tf.placeholder(tf.float32,[None,n_input])  # 样本的个数是不确定的\n",
    "y = tf.placeholder(tf.float32,[None,n_classes])\n",
    "\n",
    "# NETWORK PARAMETER\n",
    "stddev = 0.1\n",
    "weights = {\n",
    "    # 对w1 w2 进行高斯初始化\n",
    "    'w1':tf.Variable(tf.random_normal([n_input,n_hidden_1],stddev=stddev)),\n",
    "    'w2':tf.Variable(tf.random_normal([n_hidden_1,n_hidden_2],stddev=stddev)),\n",
    "    'out':tf.Variable(tf.random_normal([n_hidden_2,n_classes],stddev=stddev))\n",
    "}\n",
    "biases = {\n",
    "    'b1':tf.Variable(tf.random_normal([n_hidden_1])),\n",
    "    'b2':tf.Variable(tf.random_normal([n_hidden_2])),\n",
    "    'out':tf.Variable(tf.random_normal([n_classes]))\n",
    "}\n",
    "print('NETWORK PARAMETER')"
   ]
  },
  {
   "cell_type": "code",
   "execution_count": 6,
   "metadata": {},
   "outputs": [],
   "source": [
    "# 将模型前向传播\n",
    "def multilayer_perceptron(_X,_weights,_biases):\n",
    "    layer1 = tf.nn.sigmoid(tf.add(tf.matmul(_X,_weights['w1']),_biases['b1']))\n",
    "    layer2 = tf.nn.sigmoid(tf.add(tf.matmul(layer1,_weights['w2']),_biases['b2']))\n",
    "    return (tf.matmul(layer2,_weights['out']) + _biases['out'])"
   ]
  },
  {
   "cell_type": "code",
   "execution_count": 11,
   "metadata": {},
   "outputs": [
    {
     "name": "stdout",
     "output_type": "stream",
     "text": [
      "FUNCTION READY\n",
      "GRAPH READY\n"
     ]
    }
   ],
   "source": [
    "# prediction\n",
    "pred = multilayer_perceptron(x,weights,biases)\n",
    "# loss and  optimizer\n",
    "# 使用交叉熵函数求损失值\n",
    "cost = tf.reduce_mean(tf.nn.softmax_cross_entropy_with_logits_v2(logits=pred,labels=y)) \n",
    "# 使用梯度下降进行求解最优化\n",
    "optm = tf.train.GradientDescentOptimizer(learning_rate=0.001).minimize(cost)\n",
    "\n",
    "# 看模型的精度值 准确率   比较预测值的索引和真实值的索引\n",
    "corr = tf.equal(tf.argmax(pred,1),tf.argmax(y,1)) # 每一行的最大的索引看是否相同\n",
    "accr = tf.reduce_mean(tf.cast(corr,dtype=tf.float32)) # 转化类型\n",
    "\n",
    "#进行初始化\n",
    "init = tf.global_variables_initializer()\n",
    "print('FUNCTION READY')\n",
    "# save\n",
    "save_step = 1  # 选择隔几个epoch进行保存\n",
    "saver = tf.train.Saver(max_to_keep=3)   # 最多保存3个\n",
    "print('GRAPH READY')"
   ]
  },
  {
   "cell_type": "code",
   "execution_count": 47,
   "metadata": {},
   "outputs": [
    {
     "name": "stdout",
     "output_type": "stream",
     "text": [
      "INFO:tensorflow:Restoring parameters from ./save/nn_mnist_basic.ckpt-99\n",
      "[7 2 1 0 4 1 4 9 5 9]\n",
      "[7 2 1 0 4 1 4 9 6 9]\n",
      "[[0. 0. 0. 0. 0. 0. 0. 1. 0. 0.]\n",
      " [0. 0. 1. 0. 0. 0. 0. 0. 0. 0.]\n",
      " [0. 1. 0. 0. 0. 0. 0. 0. 0. 0.]\n",
      " [1. 0. 0. 0. 0. 0. 0. 0. 0. 0.]\n",
      " [0. 0. 0. 0. 1. 0. 0. 0. 0. 0.]\n",
      " [0. 1. 0. 0. 0. 0. 0. 0. 0. 0.]\n",
      " [0. 0. 0. 0. 1. 0. 0. 0. 0. 0.]\n",
      " [0. 0. 0. 0. 0. 0. 0. 0. 0. 1.]\n",
      " [0. 0. 0. 0. 0. 1. 0. 0. 0. 0.]\n",
      " [0. 0. 0. 0. 0. 0. 0. 0. 0. 1.]]\n",
      "[[-1.5673461  -1.7840015  -1.2985053  -1.1588182   0.7166771  -0.19592369\n",
      "  -2.518224    4.3596478  -0.9037143   1.9465756 ]\n",
      " [ 1.1870462  -1.1134104   2.8671212   1.4973713  -2.9957607   1.1319065\n",
      "   1.9165404  -3.7543192   0.9303621  -3.7963548 ]\n",
      " [-3.894053    3.7890098   0.2606628   0.02815515 -1.2230754  -0.06636691\n",
      "  -0.6789942   0.28941512  0.05811366 -0.69216156]\n",
      " [ 4.867693   -5.2033453   0.6643786  -0.2252096  -2.0083907   1.7887008\n",
      "   1.2365569  -1.2033055  -0.28263542 -1.8353386 ]\n",
      " [-1.4820986  -3.4936752   0.26537097 -2.5343246   3.0473511  -0.5314193\n",
      "   0.45429152  1.129204   -0.74271643  1.760081  ]\n",
      " [-4.567343    4.274194    0.15937448  0.39611852 -1.3902092  -0.26420403\n",
      "  -1.5277573   0.42772847  0.5436649  -0.3661678 ]\n",
      " [-2.5901651  -2.3580642  -1.3389652  -1.0018908   2.4038773   0.40921837\n",
      "  -1.424679    1.4013578   0.4084195   2.1620648 ]\n",
      " [-3.6249306  -0.7009796  -1.2080314  -1.2908578   1.8674451   0.24831527\n",
      "  -0.16912732  0.65849555  0.07652226  2.0430965 ]\n",
      " [-0.02574    -2.7027967   1.2438841  -2.0359302   0.94951814  0.18734115\n",
      "   2.2026947  -1.2561948  -0.13372052 -0.28437465]\n",
      " [-1.8613477  -2.5572097  -2.1192532  -2.363266    2.0127256   0.14441693\n",
      "  -1.5385451   2.8715997   0.06358725  3.076977  ]]\n",
      "DONE\n"
     ]
    }
   ],
   "source": [
    "do_train = 3 \n",
    "training_epochs = 100\n",
    "batch_size = 100\n",
    "display_step = 4\n",
    "with tf.Session() as sess:\n",
    "    sess.run(init)\n",
    "    path1 = './log'\n",
    "    writer = tf.summary.FileWriter(path1,sess.graph) \n",
    "    # optimize\n",
    "    if do_train==1:\n",
    "        for epoch in range(training_epochs):\n",
    "            avg_cost = 0\n",
    "            # 所有的batch\n",
    "            total_batch = int(mnist.train.num_examples/batch_size)\n",
    "            for i in range(total_batch):\n",
    "                # batch的X和Y\n",
    "                batch_xs,batch_ys = mnist.train.next_batch(batch_size)\n",
    "                feeds = {x:batch_xs,y:batch_ys}\n",
    "                sess.run(optm,feed_dict=feeds)\n",
    "                avg_cost +=sess.run(cost,feed_dict=feeds)\n",
    "            avg_cost = avg_cost/total_batch  # 求出每个batch的损失值\n",
    "            # display\n",
    "            if (epoch+1)% display_step==0:\n",
    "                print('Epoch:%03d/%03d cost:%.9f'%(epoch,training_epochs,avg_cost))\n",
    "                feeds_train = feeds = {x:batch_xs,y:batch_ys}\n",
    "                train_acc = sess.run(accr,feed_dict=feeds_train)\n",
    "                print('train_acc: %.3f'%(train_acc))\n",
    "                feed_test = {x:mnist.test.images,y:mnist.test.labels}\n",
    "                test_acc = sess.run(accr,feed_dict=feed_test)\n",
    "                print('test_acc:%.3f'\n",
    "                     %(test_acc))\n",
    "            if epoch%save_step ==0:\n",
    "                saver.save(sess,'./save/nn_mnist_basic.ckpt-'+str(epoch))\n",
    "        print('OPTIMIZATION FINISHED')\n",
    "    if do_train==0:\n",
    "        epoch = training_epochs-1\n",
    "        saver.restore(sess,'./save/nn_mnist_basic.ckpt-'+str(epoch))\n",
    "        test_acc = sess.run(accr,feed_dict={X:testimg,y:testlabel})\n",
    "        print('test accuracy:%.3f'%(test_acc))\n",
    "       \n",
    "    if do_train==3:\n",
    "        epoch = training_epochs-1\n",
    "        saver.restore(sess,'./save/nn_mnist_basic.ckpt-'+str(epoch))\n",
    "        \n",
    "        test_acc = sess.run(pred,feed_dict={x:testimg})\n",
    "        print(sess.run(tf.argmax(testlabel,1)))\n",
    "        print(sess.run(tf.argmax(test_acc,1)))\n",
    "        print(testlabel)\n",
    "        print((test_acc))\n",
    "       \n",
    "print('DONE')\n",
    "            "
   ]
  },
  {
   "cell_type": "code",
   "execution_count": 43,
   "metadata": {},
   "outputs": [
    {
     "name": "stdout",
     "output_type": "stream",
     "text": [
      "How does the training data look like?\n",
      "0th Training Data Label is 7\n"
     ]
    },
    {
     "data": {
      "image/png": "[encoded data removed]",
      "text/plain": [
       "<matplotlib.figure.Figure at 0x28a387f2198>"
      ]
     },
     "metadata": {},
     "output_type": "display_data"
    },
    {
     "name": "stdout",
     "output_type": "stream",
     "text": [
      "1th Training Data Label is 2\n"
     ]
    },
    {
     "data": {
      "image/png": "[encoded data removed]",
      "text/plain": [
       "<matplotlib.figure.Figure at 0x28a37370a20>"
      ]
     },
     "metadata": {},
     "output_type": "display_data"
    },
    {
     "name": "stdout",
     "output_type": "stream",
     "text": [
      "2th Training Data Label is 1\n"
     ]
    },
    {
     "data": {
      "image/png": "[encoded data removed]",
      "text/plain": [
       "<matplotlib.figure.Figure at 0x28a372447f0>"
      ]
     },
     "metadata": {},
     "output_type": "display_data"
    },
    {
     "name": "stdout",
     "output_type": "stream",
     "text": [
      "3th Training Data Label is 0\n"
     ]
    },
    {
     "data": {
      "image/png": "[encoded data removed]",
      "text/plain": [
       "<matplotlib.figure.Figure at 0x28a3742a5c0>"
      ]
     },
     "metadata": {},
     "output_type": "display_data"
    },
    {
     "name": "stdout",
     "output_type": "stream",
     "text": [
      "4th Training Data Label is 4\n"
     ]
    },
    {
     "data": {
      "image/png": "[encoded data removed]",
      "text/plain": [
       "<matplotlib.figure.Figure at 0x28a3886b400>"
      ]
     },
     "metadata": {},
     "output_type": "display_data"
    },
    {
     "name": "stdout",
     "output_type": "stream",
     "text": [
      "5th Training Data Label is 1\n"
     ]
    },
    {
     "data": {
      "image/png": "[encoded data removed]",
      "text/plain": [
       "<matplotlib.figure.Figure at 0x28a38903710>"
      ]
     },
     "metadata": {},
     "output_type": "display_data"
    },
    {
     "name": "stdout",
     "output_type": "stream",
     "text": [
      "6th Training Data Label is 4\n"
     ]
    },
    {
     "data": {
      "image/png": "[encoded data removed]",
      "text/plain": [
       "<matplotlib.figure.Figure at 0x28a3871a470>"
      ]
     },
     "metadata": {},
     "output_type": "display_data"
    },
    {
     "name": "stdout",
     "output_type": "stream",
     "text": [
      "7th Training Data Label is 9\n"
     ]
    },
    {
     "data": {
      "image/png": "[encoded data removed]",
      "text/plain": [
       "<matplotlib.figure.Figure at 0x28a3883f780>"
      ]
     },
     "metadata": {},
     "output_type": "display_data"
    },
    {
     "name": "stdout",
     "output_type": "stream",
     "text": [
      "8th Training Data Label is 5\n"
     ]
    },
    {
     "data": {
      "image/png": "[encoded data removed]",
      "text/plain": [
       "<matplotlib.figure.Figure at 0x28a388016d8>"
      ]
     },
     "metadata": {},
     "output_type": "display_data"
    },
    {
     "name": "stdout",
     "output_type": "stream",
     "text": [
      "9th Training Data Label is 9\n"
     ]
    },
    {
     "data": {
      "image/png": "[encoded data removed]",
      "text/plain": [
       "<matplotlib.figure.Figure at 0x28a374f47f0>"
      ]
     },
     "metadata": {},
     "output_type": "display_data"
    }
   ],
   "source": [
    "print (\"How does the training data look like?\")\n",
    "# nsample = 10\n",
    "# randidx = np.random.randint(testimg.shape[0], size=nsample)\n",
    "\n",
    "for i in range(testimg.shape[0]):\n",
    "    curr_img   = np.reshape(testimg[i, :], (28, 28)) # 28 by 28 matrix \n",
    "    curr_label = np.argmax(testlabel[i, :] ) # Label\n",
    "    plt.matshow(curr_img, cmap=plt.get_cmap('gray'))\n",
    "    plt.title(\"\" + str(i) + \"th Training Data \" \n",
    "              + \"Label is \" + str(curr_label))\n",
    "    print (\"\" + str(i) + \"th Training Data \" \n",
    "           + \"Label is \" + str(curr_label))\n",
    "    plt.show()"
   ]
  },
  {
   "cell_type": "code",
   "execution_count": 53,
   "metadata": {},
   "outputs": [
    {
     "name": "stdout",
     "output_type": "stream",
     "text": [
      "0\n",
      "2\n",
      "4\n",
      "6\n"
     ]
    }
   ],
   "source": [
    "for i in range(4): \n",
    "    d = i * 2 \n",
    "    print(d)"
   ]
  },
  {
   "cell_type": "code",
   "execution_count": 59,
   "metadata": {},
   "outputs": [],
   "source": [
    "def Fun1():\n",
    "    x=5\n",
    "    def fun3():\n",
    "                                   #强制声明不是局部变量\n",
    "        x *=x\n",
    "        return x\n",
    "    return fun3()"
   ]
  },
  {
   "cell_type": "code",
   "execution_count": null,
   "metadata": {},
   "outputs": [],
   "source": []
  }
 ],
 "metadata": {
  "kernelspec": {
   "display_name": "Python 3",
   "language": "python",
   "name": "python3"
  },
  "language_info": {
   "codemirror_mode": {
    "name": "ipython",
    "version": 3
   },
   "file_extension": ".py",
   "mimetype": "text/x-python",
   "name": "python",
   "nbconvert_exporter": "python",
   "pygments_lexer": "ipython3",
   "version": "3.5.3"
  }
 },
 "nbformat": 4,
 "nbformat_minor": 2
}
