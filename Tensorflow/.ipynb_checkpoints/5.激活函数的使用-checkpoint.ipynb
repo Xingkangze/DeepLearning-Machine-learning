{
 "cells": [
  {
   "cell_type": "code",
   "execution_count": 12,
   "metadata": {},
   "outputs": [],
   "source": [
    "import numpy as np\n",
    "import matplotlib.pyplot as plt\n",
    "import tensorflow as tf"
   ]
  },
  {
   "cell_type": "code",
   "execution_count": 39,
   "metadata": {},
   "outputs": [],
   "source": [
    "x = np.linspace(-7,7,180) # -7,7之间等间隔的180个点"
   ]
  },
  {
   "cell_type": "code",
   "execution_count": 28,
   "metadata": {},
   "outputs": [],
   "source": [
    "# 激活函数的实现\n",
    "def sigmoid(x):\n",
    "    y = [1/float(1+np.exp(-i)) for i in x]\n",
    "    return y\n",
    "def relu(x):\n",
    "    y = [i*(i>0) for i in x]\n",
    "    return y\n",
    "def tanh(x):\n",
    "    y = [(np.exp(i) - np.exp(-i)) / float(np.exp(i) + np.exp(-i)) for i in x ]\n",
    "    return y\n",
    "def softplus(x):\n",
    "    y = [np.log(1+np.exp(i)) for i in x]\n",
    "    return y"
   ]
  },
  {
   "cell_type": "code",
   "execution_count": 40,
   "metadata": {},
   "outputs": [],
   "source": [
    "# 使用Tensorflow的激活函数处理各个Y值\n",
    "y_sigmoid = tf.nn.sigmoid(x)\n",
    "y_relu = tf.nn.relu(x)\n",
    "y_tanh = tf.nn.tanh(x)\n",
    "y_softplus = tf.nn.softplus(x)\n",
    "\n",
    "# 创建会话\n",
    "with tf.Session() as sess:\n",
    "    y_sigmoid,y_relu,y_tanh,y_softplus = sess.run([y_sigmoid,y_relu,y_tanh,y_softplus])"
   ]
  },
  {
   "cell_type": "code",
   "execution_count": 41,
   "metadata": {},
   "outputs": [
    {
     "data": {
      "image/png": "[encoded data removed]",
      "text/plain": [
       "<matplotlib.figure.Figure at 0x1b2482c46d8>"
      ]
     },
     "metadata": {},
     "output_type": "display_data"
    }
   ],
   "source": [
    "# 创建图像\n",
    "plt.subplot(221)\n",
    "plt.plot(x,y_sigmoid,c='red',label='sigmoid')\n",
    "plt.ylim(-0.2,1.2)\n",
    "plt.legend(loc='best')\n",
    "\n",
    "\n",
    "plt.subplot(222)\n",
    "plt.plot(x,y_relu,c='blue',label='relu')\n",
    "\n",
    "plt.legend(loc='best')\n",
    "\n",
    "\n",
    "plt.subplot(223)\n",
    "plt.plot(x,y_tanh,c='y',label='tanh')\n",
    "\n",
    "plt.legend(loc='best')\n",
    "\n",
    "\n",
    "plt.subplot(224)\n",
    "plt.plot(x,y_softplus,c='w',label='softplus')\n",
    "\n",
    "plt.legend(loc='best')\n",
    "plt.show()"
   ]
  },
  {
   "cell_type": "code",
   "execution_count": 42,
   "metadata": {},
   "outputs": [
    {
     "data": {
      "image/png": "[encoded data removed]",
      "text/plain": [
       "<matplotlib.figure.Figure at 0x1b2482905f8>"
      ]
     },
     "metadata": {},
     "output_type": "display_data"
    }
   ],
   "source": [
    "plt.plot(x,y_softplus,c='w',label='softplus')\n",
    "\n",
    "plt.legend(loc='best')\n",
    "plt.show()"
   ]
  },
  {
   "cell_type": "code",
   "execution_count": null,
   "metadata": {},
   "outputs": [],
   "source": []
  },
  {
   "cell_type": "code",
   "execution_count": null,
   "metadata": {},
   "outputs": [],
   "source": []
  },
  {
   "cell_type": "code",
   "execution_count": null,
   "metadata": {},
   "outputs": [],
   "source": []
  }
 ],
 "metadata": {
  "kernelspec": {
   "display_name": "Python 3",
   "language": "python",
   "name": "python3"
  },
  "language_info": {
   "codemirror_mode": {
    "name": "ipython",
    "version": 3
   },
   "file_extension": ".py",
   "mimetype": "text/x-python",
   "name": "python",
   "nbconvert_exporter": "python",
   "pygments_lexer": "ipython3",
   "version": "3.5.3"
  }
 },
 "nbformat": 4,
 "nbformat_minor": 2
}
