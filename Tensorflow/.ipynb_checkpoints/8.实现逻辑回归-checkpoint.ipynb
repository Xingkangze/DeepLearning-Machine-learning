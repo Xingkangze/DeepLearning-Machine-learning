{
 "cells": [
  {
   "cell_type": "code",
   "execution_count": 2,
   "metadata": {},
   "outputs": [],
   "source": [
    "import numpy as np\n",
    "import tensorflow as tf\n",
    "import matplotlib.pyplot as plt\n",
    "import input_data"
   ]
  },
  {
   "cell_type": "code",
   "execution_count": 4,
   "metadata": {},
   "outputs": [
    {
     "name": "stdout",
     "output_type": "stream",
     "text": [
      "Extracting data/train-images-idx3-ubyte.gz\n",
      "Extracting data/train-labels-idx1-ubyte.gz\n",
      "Extracting data/t10k-images-idx3-ubyte.gz\n",
      "Extracting data/t10k-labels-idx1-ubyte.gz\n",
      "MNIst loaded\n"
     ]
    }
   ],
   "source": [
    "mnist = input_data.read_data_sets('data/',one_hot=True)\n",
    "trainimg = mnist.train.images\n",
    "trainlabel = mnist.train.labels\n",
    "testimg = mnist.test.images\n",
    "testlabel = mnist.test.labels\n",
    "print('MNIst loaded')"
   ]
  },
  {
   "cell_type": "code",
   "execution_count": 7,
   "metadata": {},
   "outputs": [
    {
     "name": "stdout",
     "output_type": "stream",
     "text": [
      "(55000, 784)\n",
      "(55000, 10)\n",
      "(10000, 784)\n",
      "(10000, 10)\n"
     ]
    }
   ],
   "source": [
    "print(trainimg.shape)\n",
    "print(trainlabel.shape)\n",
    "print(testimg.shape)\n",
    "print(testlabel.shape)"
   ]
  },
  {
   "cell_type": "code",
   "execution_count": 11,
   "metadata": {},
   "outputs": [
    {
     "name": "stdout",
     "output_type": "stream",
     "text": [
      "[[0. 0. 0. ... 0. 0. 0.]\n",
      " [0. 0. 0. ... 0. 0. 0.]\n",
      " [0. 0. 0. ... 0. 0. 0.]\n",
      " ...\n",
      " [0. 0. 0. ... 0. 0. 0.]\n",
      " [0. 0. 0. ... 0. 0. 0.]\n",
      " [0. 0. 0. ... 0. 0. 0.]]\n",
      "[0. 0. 0. 0. 0. 0. 0. 1. 0. 0.]\n"
     ]
    }
   ],
   "source": [
    "print(trainimg)\n",
    "print(trainlabel[0]) # 做10分类   是哪一类就是1"
   ]
  },
  {
   "cell_type": "markdown",
   "metadata": {},
   "source": [
    "### 开始实现逻辑回归"
   ]
  },
  {
   "cell_type": "code",
   "execution_count": 49,
   "metadata": {},
   "outputs": [],
   "source": [
    "x = tf.placeholder(dtype=tf.float32,shape=[None,784])\n",
    "y = tf.placeholder(dtype=tf.float32,shape=[None,10]) # 我们不知道有多少行\n",
    "# W = tf.Variable(tf.random_normal([784,10],mean=0,stddev=1))\n",
    "# b = tf.Variable(tf.random_normal([10],mean=0,stddev=1))\n",
    "W = tf.Variable(tf.zeros([784,10]))\n",
    "b = tf.Variable(tf.zeros([10]))\n",
    "# 使用激活函数\n",
    "actv = tf.nn.sigmoid(tf.matmul(x,W)+b)\n",
    "# 定义损失函数\n",
    "cost = tf.reduce_mean(-tf.reduce_sum(y*tf.log(actv),reduction_indices=1))\n",
    "# optimizer\n",
    "learning_rate = 0.01\n",
    "optm = tf.train.GradientDescentOptimizer(learning_rate).minimize(cost)\n",
    "# 模型搭建完成"
   ]
  },
  {
   "cell_type": "code",
   "execution_count": 50,
   "metadata": {},
   "outputs": [],
   "source": [
    "# prediction 比较预测值的索引和真实值的索引\n",
    "pred = tf.equal(tf.argmax(actv,1),tf.argmax(y,1))\n",
    "# 求出精度\n",
    "accr = tf.reduce_mean(tf.cast(pred,dtype=tf.float32)) # cast 就是转化类型\n",
    "# 初始化\n",
    "init= tf.global_variables_initializer()"
   ]
  },
  {
   "cell_type": "code",
   "execution_count": 51,
   "metadata": {},
   "outputs": [
    {
     "name": "stdout",
     "output_type": "stream",
     "text": [
      "2\n",
      "[6 6]\n",
      "[0 3 2 4 0 1]\n",
      "[5 5 2 1 3 0]\n"
     ]
    }
   ],
   "source": [
    "arr = np.array([[31, 23,  4, 24, 27, 34],\n",
    "                 [18,  3, 25,  0,  6, 35],\n",
    "                 [28, 14, 33, 22, 20,  8],\n",
    "                 [13, 30, 21, 19,  7,  9],\n",
    "                 [16,  1, 26, 32,  2, 29],\n",
    "                 [17, 12,  5, 11, 10, 15]])\n",
    "with tf.Session() as sess:\n",
    "    print(tf.rank(arr).eval()) #  矩阵的维度\n",
    "    print(tf.shape(arr).eval()) # 行数和列数\n",
    "    print(tf.arg_max(arr,0).eval()) # 0 是指列   在某一列最大值的索引\n",
    "    print(tf.arg_max(arr,1).eval())"
   ]
  },
  {
   "cell_type": "code",
   "execution_count": 52,
   "metadata": {},
   "outputs": [
    {
     "name": "stdout",
     "output_type": "stream",
     "text": [
      "Epoch:000/050 cost:0.153199633 train_acc:0.780 test_acc:0.795\n",
      "Epoch:005/050 cost:0.011759029 train_acc:0.680 test_acc:0.737\n",
      "Epoch:010/050 cost:0.006563834 train_acc:0.660 test_acc:0.718\n",
      "Epoch:015/050 cost:0.004627980 train_acc:0.760 test_acc:0.705\n",
      "Epoch:020/050 cost:0.003602935 train_acc:0.610 test_acc:0.698\n",
      "Epoch:025/050 cost:0.002963874 train_acc:0.620 test_acc:0.694\n",
      "Epoch:030/050 cost:0.002525450 train_acc:0.650 test_acc:0.689\n",
      "Epoch:035/050 cost:0.002205039 train_acc:0.680 test_acc:0.686\n",
      "Epoch:040/050 cost:0.001960118 train_acc:0.670 test_acc:0.683\n",
      "Epoch:045/050 cost:0.001766501 train_acc:0.660 test_acc:0.681\n",
      "DONE\n"
     ]
    }
   ],
   "source": [
    "train_epochs = 50 # 所有的样本迭代50次\n",
    "batch_size = 100 # 每迭代一次要100个样本\n",
    "display_step = 5\n",
    "with tf.Session() as sess:\n",
    "    sess.run(init)\n",
    "    for epoch in range(train_epochs):\n",
    "        avg_cost = 0  # 损失值\n",
    "        num_batch = int(mnist.train.num_examples/batch_size) # 迭代的次数\n",
    "        for i in range(num_batch):\n",
    "            batch_xs,batch_ys  = mnist.train.next_batch(batch_size)\n",
    "            # 进行一次优化\n",
    "            sess.run(optm,feed_dict={x:batch_xs,y:batch_ys})\n",
    "            # 求出损失值\n",
    "            avg_cost +=sess.run(cost,feed_dict={x:batch_xs,y:batch_ys})/num_batch\n",
    "        \n",
    "        #DISPLAY\n",
    "        if epoch% display_step==0:\n",
    "            feeds_train = {x:batch_xs,y:batch_ys}\n",
    "            feed_test = {x:mnist.test.images,y:mnist.test.labels}\n",
    "            train_acc = sess.run(accr,feed_dict=feeds_train)\n",
    "            test_acc = sess.run(accr,feed_dict=feed_test)\n",
    "            print('Epoch:%03d/%03d cost:%.9f train_acc:%.3f test_acc:%.3f'\n",
    "                 %(epoch,train_epochs,avg_cost,train_acc,test_acc))\n",
    "print('DONE')"
   ]
  }
 ],
 "metadata": {
  "kernelspec": {
   "display_name": "Python 3",
   "language": "python",
   "name": "python3"
  },
  "language_info": {
   "codemirror_mode": {
    "name": "ipython",
    "version": 3
   },
   "file_extension": ".py",
   "mimetype": "text/x-python",
   "name": "python",
   "nbconvert_exporter": "python",
   "pygments_lexer": "ipython3",
   "version": "3.5.3"
  }
 },
 "nbformat": 4,
 "nbformat_minor": 2
}
