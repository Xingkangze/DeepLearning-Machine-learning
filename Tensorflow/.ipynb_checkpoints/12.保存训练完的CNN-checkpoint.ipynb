{
 "cells": [
  {
   "cell_type": "code",
   "execution_count": 2,
   "metadata": {},
   "outputs": [],
   "source": [
    "import numpy as np\n",
    "import tensorflow as tf\n",
    "import matplotlib.pyplot as plt\n",
    "import input_data"
   ]
  },
  {
   "cell_type": "code",
   "execution_count": 5,
   "metadata": {},
   "outputs": [
    {
     "name": "stdout",
     "output_type": "stream",
     "text": [
      "Extracting data/train-images-idx3-ubyte.gz\n",
      "Extracting data/train-labels-idx1-ubyte.gz\n",
      "Extracting data/t10k-images-idx3-ubyte.gz\n",
      "Extracting data/t10k-labels-idx1-ubyte.gz\n",
      "MNIST READY\n",
      "(10, 784)\n"
     ]
    }
   ],
   "source": [
    "mnist = input_data.read_data_sets('data/',one_hot=True)\n",
    "trainimg = mnist.train.images\n",
    "trainlabel = mnist.train.labels\n",
    "testimg = mnist.test.images[:10]\n",
    "testlabel = mnist.test.labels[:10]\n",
    "print('MNIST READY')\n",
    "print(testimg.shape)"
   ]
  },
  {
   "cell_type": "code",
   "execution_count": 6,
   "metadata": {},
   "outputs": [],
   "source": [
    "n_input = 784  # 输入层\n",
    "n_output = 10   # 输出层\n",
    "# 进行参数的初始化\n",
    "weights = {\n",
    "    'wc1':tf.Variable(tf.random_normal([3,3,1,64],stddev=0.1)),\n",
    "    'wc2':tf.Variable(tf.random_normal([3,3,64,128],stddev=0.1)),\n",
    "    'wd1':tf.Variable(tf.random_normal([7*7*128,1024],stddev=0.1)),\n",
    "    'wd2':tf.Variable(tf.random_normal([1024,n_output],stddev=0.1))\n",
    "}\n",
    "biases = {\n",
    "    'bc1':tf.Variable(tf.random_normal([64])),\n",
    "    'bc2':tf.Variable(tf.random_normal([128])),\n",
    "    'db1':tf.Variable(tf.random_normal([1024])),\n",
    "    'bd2':tf.Variable(tf.random_normal([n_output]))\n",
    "}"
   ]
  },
  {
   "cell_type": "code",
   "execution_count": 7,
   "metadata": {},
   "outputs": [
    {
     "name": "stdout",
     "output_type": "stream",
     "text": [
      "CNN READY\n"
     ]
    }
   ],
   "source": [
    "# 卷积+池化\n",
    "def conv_basic(_input,_w,_b,_keepratio):\n",
    "    # input   转换为 tensorflow支持的格式   四维的 \n",
    "    _input_r = tf.reshape(_input,shape=[-1,28,28,1]) #  [batch_size,h,w,深度]\n",
    "    # conv layer 1\n",
    "    _conv1 = tf.nn.conv2d(_input_r,filter=_w['wc1'],padding='SAME',strides=[1,1,1,1]) #strides[batchsize h w  channel ]     \n",
    "    # 使用激活函数\n",
    "    _conv1 = tf.nn.relu(tf.nn.bias_add(_conv1,_b['bc1']))\n",
    "    # pooling1 层\n",
    "    _pool1 = tf.nn.max_pool(_conv1,ksize=[1,2,2,1],strides=[1,2,2,1],padding='SAME') # ksize batchsize h w  channels\n",
    "    _pool_dr1 =  tf.nn.dropout(_pool1,_keepratio) # 输入   保留比例\n",
    "    # CONV LAYER2\n",
    "    _conv2 = tf.nn.conv2d(_pool_dr1,_w['wc2'],padding='SAME',strides=[1,1,1,1])\n",
    "    _conv2 = tf.nn.relu(tf.nn.bias_add(_conv2,_b['bc2']))\n",
    "    _pool2 = tf.nn.max_pool(_conv2,ksize=[1,2,2,1],strides=[1,2,2,1],padding='SAME')\n",
    "    _pool_dr2 = tf.nn.dropout(_pool2,_keepratio)\n",
    "    # 全连接层\n",
    "    _dense1 = tf.reshape(_pool_dr2,[-1,_w['wd1'].get_shape().as_list()[0]])\n",
    "    _fc1 = tf.nn.relu(tf.add(tf.matmul(_dense1,_w['wd1']),_b['db1']))\n",
    "    _fc1_dr1 = tf.nn.dropout(_fc1,_keepratio)\n",
    "    # 全连接层2\n",
    "    _out = tf.add(tf.matmul(_fc1_dr1,_w['wd2']),_b['bd2'])\n",
    "    \n",
    "    #return \n",
    "    out = {\n",
    "        'input_r':_input_r,\n",
    "        'conv1':_conv1,\n",
    "        'pool1':_pool1,\n",
    "        'pool1_dr1':_pool_dr1,\n",
    "        'conv2':_conv2,\n",
    "        'pool2':_pool2,\n",
    "        'pool2_dr2':_pool_dr2,\n",
    "        'dense1':_dense1,\n",
    "        'fc1':_fc1,\n",
    "        'fc1_dr1':_fc1_dr1,\n",
    "        'out':_out\n",
    "    }\n",
    "    return out\n",
    "print('CNN READY')"
   ]
  },
  {
   "cell_type": "code",
   "execution_count": 8,
   "metadata": {},
   "outputs": [
    {
     "name": "stdout",
     "output_type": "stream",
     "text": [
      "GRAPH READY\n"
     ]
    }
   ],
   "source": [
    "# 创建X Y 优化  损失\n",
    "X = tf.placeholder(tf.float32,[None,n_input])\n",
    "y = tf.placeholder(tf.float32,[None,n_output])\n",
    "keepratio = tf.placeholder(tf.float32)\n",
    "\n",
    "# function\n",
    "_pred = conv_basic(X,_w=weights,_b=biases,_keepratio=keepratio)['out']\n",
    "cost = tf.reduce_mean(tf.nn.softmax_cross_entropy_with_logits_v2(logits=_pred,labels=y))\n",
    "optm = tf.train.AdamOptimizer(learning_rate=0.001).minimize(cost)\n",
    "# 求准确率\n",
    "_corr = tf.equal(tf.argmax(_pred,1),tf.argmax(y,1))\n",
    "accr = tf.reduce_mean(tf.cast(_corr,tf.float32))\n",
    "\n",
    "init = tf.global_variables_initializer()\n",
    "\n",
    "\n",
    "# save\n",
    "save_step = 1  # 选择隔几个epoch进行保存\n",
    "saver = tf.train.Saver(max_to_keep=3)   # 最多保存3个\n",
    "print('GRAPH READY')"
   ]
  },
  {
   "cell_type": "code",
   "execution_count": 15,
   "metadata": {},
   "outputs": [
    {
     "ename": "NameError",
     "evalue": "name 'self' is not defined",
     "output_type": "error",
     "traceback": [
      "\u001b[1;31m---------------------------------------------------------------------------\u001b[0m",
      "\u001b[1;31mNameError\u001b[0m                                 Traceback (most recent call last)",
      "\u001b[1;32m<ipython-input-15-b13d5457cb8b>\u001b[0m in \u001b[0;36m<module>\u001b[1;34m()\u001b[0m\n\u001b[0;32m     41\u001b[0m \u001b[1;33m\u001b[0m\u001b[0m\n\u001b[0;32m     42\u001b[0m \u001b[1;33m\u001b[0m\u001b[0m\n\u001b[1;32m---> 43\u001b[1;33m         \u001b[0mww\u001b[0m\u001b[1;33m,\u001b[0m \u001b[0mbb\u001b[0m \u001b[1;33m=\u001b[0m \u001b[0msess\u001b[0m\u001b[1;33m.\u001b[0m\u001b[0mrun\u001b[0m\u001b[1;33m(\u001b[0m\u001b[1;33m[\u001b[0m\u001b[0mself\u001b[0m\u001b[1;33m.\u001b[0m\u001b[0mW\u001b[0m\u001b[1;33m,\u001b[0m\u001b[0mself\u001b[0m\u001b[1;33m.\u001b[0m\u001b[0mb\u001b[0m\u001b[1;33m]\u001b[0m\u001b[1;33m)\u001b[0m\u001b[1;33m\u001b[0m\u001b[0m\n\u001b[0m\u001b[0;32m     44\u001b[0m         \u001b[1;32mwith\u001b[0m \u001b[0mtf\u001b[0m\u001b[1;33m.\u001b[0m\u001b[0mname_scope\u001b[0m\u001b[1;33m(\u001b[0m\u001b[1;34m'weights'\u001b[0m\u001b[1;33m)\u001b[0m\u001b[1;33m:\u001b[0m\u001b[1;33m\u001b[0m\u001b[0m\n\u001b[0;32m     45\u001b[0m                     self.W = tf.get_variable(\n",
      "\u001b[1;31mNameError\u001b[0m: name 'self' is not defined"
     ]
    }
   ],
   "source": [
    "do_train = 2   \n",
    "train_epochs = 30\n",
    "batch_size = 16\n",
    "display_step = 1\n",
    "path = './log/'\n",
    "with tf.Session()  as sess:\n",
    "    sess.run(init)\n",
    "    writer = tf.summary.FileWriter(path,sess.graph) \n",
    "    if do_train==1:\n",
    "        for epoch in range(train_epochs):\n",
    "            avg_cost = 0\n",
    "            #total_batch = int(mnist.train.num_examples/batch_size)\n",
    "            total_batch = 20\n",
    "            for i in range(total_batch):\n",
    "                batch_xs,batch_ys = mnist.train.next_batch(batch_size=batch_size)\n",
    "                # 开始优化\n",
    "                sess.run(optm,feed_dict={X:batch_xs,y:batch_ys,keepratio:0.7})\n",
    "                # 损失值\n",
    "                avg_cost+=sess.run(cost,feed_dict={X:batch_xs,y:batch_ys,keepratio:1.})\n",
    "            avg_cost = avg_cost/total_batch\n",
    "\n",
    "            #打印\n",
    "            if(epoch%display_step==0):\n",
    "                print('Epoch:%03d/%03d cost: %.9f'%(epoch,train_epochs,avg_cost))\n",
    "                train_acc = sess.run(accr,feed_dict={X:batch_xs,y:batch_ys,keepratio:1.})\n",
    "                print('training accuracy:%.3f'%(train_acc))\n",
    "    #             feed_test = {X:testimg,y:testlabel,keepratio:1.}\n",
    "    #             test_acc = sess.run(accr,feed_dict=feed_test)\n",
    "    #             print('test accuracy:%.3f'%(test_acc))\n",
    "\n",
    "            if epoch%save_step ==0:\n",
    "                saver.save(sess,'./save/cnn_mnist_basic.ckpt-'+str(epoch))\n",
    "        print('OPTIMIZATION FINISHED')\n",
    "    if do_train==0:\n",
    "        epoch = train_epochs-1\n",
    "        saver.restore(sess,'./save/cnn_mnist_basic.ckpt-'+str(epoch))\n",
    "        test_acc = sess.run(accr,feed_dict={X:testimg,y:testlabel,keepratio:1})\n",
    "        print('test accuracy:%.3f'%(test_acc))\n",
    "        \n"
   ]
  },
  {
   "cell_type": "code",
   "execution_count": null,
   "metadata": {},
   "outputs": [],
   "source": [
    "conv_basic\n"
   ]
  }
 ],
 "metadata": {
  "kernelspec": {
   "display_name": "Python 3",
   "language": "python",
   "name": "python3"
  },
  "language_info": {
   "codemirror_mode": {
    "name": "ipython",
    "version": 3
   },
   "file_extension": ".py",
   "mimetype": "text/x-python",
   "name": "python",
   "nbconvert_exporter": "python",
   "pygments_lexer": "ipython3",
   "version": "3.5.3"
  }
 },
 "nbformat": 4,
 "nbformat_minor": 2
}
