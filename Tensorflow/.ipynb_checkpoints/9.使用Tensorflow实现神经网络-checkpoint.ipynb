{
 "cells": [
  {
   "cell_type": "code",
   "execution_count": 3,
   "metadata": {},
   "outputs": [],
   "source": [
    "import numpy as np\n",
    "import tensorflow as tf\n",
    "import matplotlib.pyplot as plt\n",
    "import input_data"
   ]
  },
  {
   "cell_type": "code",
   "execution_count": 17,
   "metadata": {},
   "outputs": [
    {
     "name": "stdout",
     "output_type": "stream",
     "text": [
      "Extracting data/train-images-idx3-ubyte.gz\n",
      "Extracting data/train-labels-idx1-ubyte.gz\n",
      "Extracting data/t10k-images-idx3-ubyte.gz\n",
      "Extracting data/t10k-labels-idx1-ubyte.gz\n"
     ]
    }
   ],
   "source": [
    "mnist = input_data.read_data_sets('data/',one_hot=True)\n",
    "testimg    = mnist.test.images[:1]\n",
    "testlabel  = mnist.test.labels[:1]"
   ]
  },
  {
   "cell_type": "code",
   "execution_count": 5,
   "metadata": {},
   "outputs": [
    {
     "name": "stdout",
     "output_type": "stream",
     "text": [
      "NETWORK PARAMETER\n"
     ]
    }
   ],
   "source": [
    "# 定义输入\n",
    "n_hidden_1 = 256  # 第一层的神经元\n",
    "n_hidden_2 = 128  # 第二层的神经元\n",
    "n_input = 784     #  输入的神经元的像素点\n",
    "n_classes = 10    # 10分类 10个神经元\n",
    "\n",
    "# 参数初始化\n",
    "x = tf.placeholder(tf.float32,[None,n_input])  # 样本的个数是不确定的\n",
    "y = tf.placeholder(tf.float32,[None,n_classes])\n",
    "\n",
    "# NETWORK PARAMETER\n",
    "stddev = 0.1\n",
    "weights = {\n",
    "    # 对w1 w2 进行高斯初始化\n",
    "    'w1':tf.Variable(tf.random_normal([n_input,n_hidden_1],stddev=stddev)),\n",
    "    'w2':tf.Variable(tf.random_normal([n_hidden_1,n_hidden_2],stddev=stddev)),\n",
    "    'out':tf.Variable(tf.random_normal([n_hidden_2,n_classes],stddev=stddev))\n",
    "}\n",
    "biases = {\n",
    "    'b1':tf.Variable(tf.random_normal([n_hidden_1])),\n",
    "    'b2':tf.Variable(tf.random_normal([n_hidden_2])),\n",
    "    'out':tf.Variable(tf.random_normal([n_classes]))\n",
    "}\n",
    "print('NETWORK PARAMETER')"
   ]
  },
  {
   "cell_type": "code",
   "execution_count": 6,
   "metadata": {},
   "outputs": [],
   "source": [
    "# 将模型前向传播\n",
    "def multilayer_perceptron(_X,_weights,_biases):\n",
    "    layer1 = tf.nn.sigmoid(tf.add(tf.matmul(_X,_weights['w1']),_biases['b1']))\n",
    "    layer2 = tf.nn.sigmoid(tf.add(tf.matmul(layer1,_weights['w2']),_biases['b2']))\n",
    "    return (tf.matmul(layer2,_weights['out']) + _biases['out'])"
   ]
  },
  {
   "cell_type": "code",
   "execution_count": 11,
   "metadata": {},
   "outputs": [
    {
     "name": "stdout",
     "output_type": "stream",
     "text": [
      "FUNCTION READY\n",
      "GRAPH READY\n"
     ]
    }
   ],
   "source": [
    "# prediction\n",
    "pred = multilayer_perceptron(x,weights,biases)\n",
    "# loss and  optimizer\n",
    "# 使用交叉熵函数求损失值\n",
    "cost = tf.reduce_mean(tf.nn.softmax_cross_entropy_with_logits_v2(logits=pred,labels=y)) \n",
    "# 使用梯度下降进行求解最优化\n",
    "optm = tf.train.GradientDescentOptimizer(learning_rate=0.001).minimize(cost)\n",
    "\n",
    "# 看模型的精度值 准确率   比较预测值的索引和真实值的索引\n",
    "corr = tf.equal(tf.argmax(pred,1),tf.argmax(y,1)) # 每一行的最大的索引看是否相同\n",
    "accr = tf.reduce_mean(tf.cast(corr,dtype=tf.float32)) # 转化类型\n",
    "\n",
    "#进行初始化\n",
    "init = tf.global_variables_initializer()\n",
    "print('FUNCTION READY')\n",
    "# save\n",
    "save_step = 1  # 选择隔几个epoch进行保存\n",
    "saver = tf.train.Saver(max_to_keep=3)   # 最多保存3个\n",
    "print('GRAPH READY')"
   ]
  },
  {
   "cell_type": "code",
   "execution_count": 34,
   "metadata": {},
   "outputs": [
    {
     "name": "stdout",
     "output_type": "stream",
     "text": [
      "INFO:tensorflow:Restoring parameters from ./save/nn_mnist_basic.ckpt-19\n",
      "[7]\n",
      "[7]\n",
      "[[0. 0. 0. 0. 0. 0. 0. 1. 0. 0.]]\n",
      "[[0.20412467 0.1869956  0.04802561 0.13837934 0.14073014 0.1610719\n",
      "  0.07815778 0.50612617 0.03817558 0.23373699]]\n",
      "DONE\n"
     ]
    }
   ],
   "source": [
    "do_train = 3  \n",
    "training_epochs = 20\n",
    "batch_size = 100\n",
    "display_step = 4\n",
    "with tf.Session() as sess:\n",
    "    sess.run(init)\n",
    "    # optimize\n",
    "    if do_train==1:\n",
    "        for epoch in range(training_epochs):\n",
    "            avg_cost = 0\n",
    "            # 所有的batch\n",
    "            total_batch = int(mnist.train.num_examples/batch_size)\n",
    "            for i in range(total_batch):\n",
    "                # batch的X和Y\n",
    "                batch_xs,batch_ys = mnist.train.next_batch(batch_size)\n",
    "                feeds = {x:batch_xs,y:batch_ys}\n",
    "                sess.run(optm,feed_dict=feeds)\n",
    "                avg_cost +=sess.run(cost,feed_dict=feeds)\n",
    "            avg_cost = avg_cost/total_batch  # 求出每个batch的损失值\n",
    "            # display\n",
    "            if (epoch+1)% display_step==0:\n",
    "                print('Epoch:%03d/%03d cost:%.9f'%(epoch,training_epochs,avg_cost))\n",
    "                feeds_train = feeds = {x:batch_xs,y:batch_ys}\n",
    "                train_acc = sess.run(accr,feed_dict=feeds_train)\n",
    "                print('train_acc: %.3f'%(train_acc))\n",
    "                feed_test = {x:mnist.test.images,y:mnist.test.labels}\n",
    "                test_acc = sess.run(accr,feed_dict=feed_test)\n",
    "                print('test_acc:%.3f'\n",
    "                     %(test_acc))\n",
    "            if epoch%save_step ==0:\n",
    "                saver.save(sess,'./save/nn_mnist_basic.ckpt-'+str(epoch))\n",
    "        print('OPTIMIZATION FINISHED')\n",
    "    if do_train==0:\n",
    "        epoch = training_epochs-1\n",
    "        saver.restore(sess,'./save/nn_mnist_basic.ckpt-'+str(epoch))\n",
    "        test_acc = sess.run(accr,feed_dict={X:testimg,y:testlabel})\n",
    "        print('test accuracy:%.3f'%(test_acc))\n",
    "       \n",
    "    if do_train==3:\n",
    "        epoch = training_epochs-1\n",
    "        saver.restore(sess,'./save/nn_mnist_basic.ckpt-'+str(epoch))\n",
    "        test_acc = sess.run(pred,feed_dict={x:testimg})\n",
    "        print(sess.run(tf.argmax(testlabel,1)))\n",
    "        print(sess.run(tf.argmax(test_acc,1)))\n",
    "        print(testlabel)\n",
    "        print((test_acc))\n",
    "       \n",
    "print('DONE')\n",
    "            "
   ]
  },
  {
   "cell_type": "code",
   "execution_count": 51,
   "metadata": {},
   "outputs": [
    {
     "name": "stdout",
     "output_type": "stream",
     "text": [
      "4\n"
     ]
    }
   ],
   "source": [
    "for i in range(5):\n",
    "    a =i\n",
    "if a>1:\n",
    "    print(a)"
   ]
  },
  {
   "cell_type": "code",
   "execution_count": 53,
   "metadata": {},
   "outputs": [
    {
     "name": "stdout",
     "output_type": "stream",
     "text": [
      "0\n",
      "2\n",
      "4\n",
      "6\n"
     ]
    }
   ],
   "source": [
    "for i in range(4): \n",
    "    d = i * 2 \n",
    "    print(d)"
   ]
  },
  {
   "cell_type": "code",
   "execution_count": 59,
   "metadata": {},
   "outputs": [],
   "source": [
    "def Fun1():\n",
    "    x=5\n",
    "    def fun3():\n",
    "                                   #强制声明不是局部变量\n",
    "        x *=x\n",
    "        return x\n",
    "    return fun3()"
   ]
  },
  {
   "cell_type": "code",
   "execution_count": null,
   "metadata": {},
   "outputs": [],
   "source": []
  }
 ],
 "metadata": {
  "kernelspec": {
   "display_name": "Python 3",
   "language": "python",
   "name": "python3"
  },
  "language_info": {
   "codemirror_mode": {
    "name": "ipython",
    "version": 3
   },
   "file_extension": ".py",
   "mimetype": "text/x-python",
   "name": "python",
   "nbconvert_exporter": "python",
   "pygments_lexer": "ipython3",
   "version": "3.5.3"
  }
 },
 "nbformat": 4,
 "nbformat_minor": 2
}
