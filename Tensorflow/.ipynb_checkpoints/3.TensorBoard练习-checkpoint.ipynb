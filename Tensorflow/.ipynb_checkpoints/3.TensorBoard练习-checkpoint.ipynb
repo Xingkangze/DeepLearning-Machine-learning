{
 "cells": [
  {
   "cell_type": "code",
   "execution_count": 1,
   "metadata": {},
   "outputs": [],
   "source": [
    "import tensorflow as tf"
   ]
  },
  {
   "cell_type": "code",
   "execution_count": 5,
   "metadata": {},
   "outputs": [],
   "source": [
    "# 构造图（graph）的结构 用线性方程   y = w*x + b\n",
    "w = tf.Variable(2.0,dtype=tf.float32,name='weight') # 权重"
   ]
  },
  {
   "cell_type": "code",
   "execution_count": 6,
   "metadata": {},
   "outputs": [],
   "source": [
    "b = tf.Variable(1.0,dtype=tf.float32,name='Bias') # 偏差"
   ]
  },
  {
   "cell_type": "code",
   "execution_count": 7,
   "metadata": {},
   "outputs": [],
   "source": [
    "x = tf.placeholder(dtype=tf.float32,name='Input') # 输入"
   ]
  },
  {
   "cell_type": "code",
   "execution_count": 8,
   "metadata": {},
   "outputs": [],
   "source": [
    "with tf.name_scope('Output'): # 输出的命名空间\n",
    "    y = w*x+b    # 输出"
   ]
  },
  {
   "cell_type": "code",
   "execution_count": 9,
   "metadata": {},
   "outputs": [],
   "source": [
    "# 定义保存展示路径\n",
    "path = './log'"
   ]
  },
  {
   "cell_type": "code",
   "execution_count": 10,
   "metadata": {},
   "outputs": [],
   "source": [
    "# 创建用于初始化所有变量（Variable的操作）\n",
    "init = tf.global_variables_initializer()"
   ]
  },
  {
   "cell_type": "code",
   "execution_count": 11,
   "metadata": {},
   "outputs": [
    {
     "name": "stdout",
     "output_type": "stream",
     "text": [
      "y=7.0\n"
     ]
    }
   ],
   "source": [
    "# 创建session\n",
    "with tf.Session() as sess:\n",
    "    sess.run(init) # 实现初始化变量操作\n",
    "    writer = tf.summary.FileWriter(path,sess.graph)     # 总结概览将构建的数据流图写入文件\n",
    "    result = sess.run(y,{x:3.0})\n",
    "    print('y=%s'%result) # 打印 y = w*x+b"
   ]
  },
  {
   "cell_type": "code",
   "execution_count": null,
   "metadata": {},
   "outputs": [],
   "source": [
    "# tensorboard --logdir=D:\\jupyter-notebook-code\\Tensorflow\\log"
   ]
  }
 ],
 "metadata": {
  "kernelspec": {
   "display_name": "Python 3",
   "language": "python",
   "name": "python3"
  },
  "language_info": {
   "codemirror_mode": {
    "name": "ipython",
    "version": 3
   },
   "file_extension": ".py",
   "mimetype": "text/x-python",
   "name": "python",
   "nbconvert_exporter": "python",
   "pygments_lexer": "ipython3",
   "version": "3.5.3"
  }
 },
 "nbformat": 4,
 "nbformat_minor": 2
}
