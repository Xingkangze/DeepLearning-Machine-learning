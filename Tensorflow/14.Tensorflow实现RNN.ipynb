{
 "cells": [
  {
   "cell_type": "code",
   "execution_count": 19,
   "metadata": {},
   "outputs": [],
   "source": [
    "import tensorflow as tf\n",
    "import numpy as py\n",
    "import matplotlib.pyplot as plt\n",
    "import input_data"
   ]
  },
  {
   "cell_type": "code",
   "execution_count": 20,
   "metadata": {},
   "outputs": [
    {
     "name": "stdout",
     "output_type": "stream",
     "text": [
      "Extracting data/train-images-idx3-ubyte.gz\n",
      "Extracting data/train-labels-idx1-ubyte.gz\n",
      "Extracting data/t10k-images-idx3-ubyte.gz\n",
      "Extracting data/t10k-labels-idx1-ubyte.gz\n",
      "55000 10000 784 10\n",
      "MNIST READY\n"
     ]
    }
   ],
   "source": [
    "# 加载数据集\n",
    "mnist = input_data.read_data_sets('data/',one_hot=True)\n",
    "trainimgs = mnist.train.images\n",
    "trainlabels = mnist.train.labels\n",
    "testimgs = mnist.test.images\n",
    "testlabels = mnist.test.labels\n",
    "\n",
    "ntrain,ntest,dim,nclasser = trainimgs.shape[0],testimgs.shape[0],trainimgs.shape[1],testlabels.shape[1]\n",
    "print(ntrain,ntest,dim,nclasser)\n",
    "print('MNIST READY')"
   ]
  },
  {
   "cell_type": "code",
   "execution_count": 32,
   "metadata": {},
   "outputs": [],
   "source": [
    "# 定义网络\n",
    "diminput = 28  #  1*28\n",
    "dimhidden = 128 # 128 个神经元\n",
    "dimoutput = nclasser # 10个类别\n",
    "nsteps = 28 #代表将输入拆分成28份\n",
    "\n",
    "weights = {\n",
    "    'hidden':tf.Variable(tf.random_normal([diminput,dimhidden])),\n",
    "    'out':tf.Variable(tf.random_normal([dimhidden,dimoutput]))\n",
    "}\n",
    "biases = {\n",
    "    'hidden':tf.Variable(tf.random_normal([dimhidden])),\n",
    "    'out':tf.Variable(tf.random_normal([dimoutput]))\n",
    "}"
   ]
  },
  {
   "cell_type": "code",
   "execution_count": 67,
   "metadata": {},
   "outputs": [
    {
     "name": "stdout",
     "output_type": "stream",
     "text": [
      "Network ready\n"
     ]
    }
   ],
   "source": [
    "def RNN(_X,_W,_b,_nsteps,_name):\n",
    "    # RNN 对输入进的  X进行转换  [batchsize ,nsteps,dimimput]\n",
    "    # => [nsteps,bathsize,diminput]   转换成5*28个切片 每个切片是28\n",
    "    _X = tf.transpose(_X,[1,0,2])\n",
    "    # reshape 将本来的转为   一共做多少个  [nsteps*batchsize,diminput]\n",
    "    _X = tf.reshape(_X,[-1,diminput])\n",
    "    # Input layer => hidden layer\n",
    "    _H = tf.matmul(_X,_W['hidden'])+ _b['hidden']\n",
    "    # 将所有的整体的隐藏输出进行切片操作\n",
    "    _Hsplit = tf.split(_H,_nsteps,0)   # 0 代表按行切分  切成nsteps份\n",
    "    # 开始RNN\n",
    "    with tf.variable_scope(_name) as scpoe:  # \n",
    "        #指向同一个位置 变量共享\n",
    "        scpoe.reuse_variables()\n",
    "        lstm_cell =  tf.contrib.rnn.BasicLSTMCell(dimhidden,forget_bias=1.0) # 最终想得到变量的大小  刚开始什么都不忘    \n",
    "        _LSTM_O,_LSTM_S =tf.contrib.rnn.static_rnn(lstm_cell,_Hsplit,dtype=tf.float32)   # 一个切片一个切片的传入到RNN中训练\n",
    "    # output  只需要最后的一个输出值\n",
    "    _O = tf.add(tf.matmul(_LSTM_O[-1],_W['out']),_b['out'])\n",
    "    # return \n",
    "    return {\n",
    "        'X':_X,\n",
    "        'H':_H,\n",
    "        'Hsplit':_Hsplit,\n",
    "        'LSTM_O':_LSTM_O,\n",
    "        'LSTM_S':_LSTM_S,\n",
    "        'O':_O\n",
    "    }\n",
    "print('Network ready')"
   ]
  },
  {
   "cell_type": "code",
   "execution_count": 69,
   "metadata": {},
   "outputs": [
    {
     "name": "stdout",
     "output_type": "stream",
     "text": [
      "Network Ready\n"
     ]
    }
   ],
   "source": [
    "\n",
    "learning_rate = 0.001\n",
    "X = tf.placeholder(tf.float32,[None,nsteps,diminput])\n",
    "y = tf.placeholder(tf.float32,[None,dimoutput])\n",
    "\n",
    "myrnn = RNN(X,weights,biases,nsteps,'basic')\n",
    "pred = myrnn['O']\n",
    "# 求出损失值\n",
    "cost = tf.reduce_mean(tf.nn.softmax_cross_entropy_with_logits_v2(logits=pred,labels=y))\n",
    "# optm\n",
    "optm = tf.train.GradientDescentOptimizer(learning_rate).minimize(cost)\n",
    "accr = tf.reduce_mean(tf.cast(tf.equal(tf.argmax(pred,1),tf.argmax(y,1)),tf.float32))\n",
    "init = tf.global_variables_initializer()\n",
    "print('Network Ready')"
   ]
  },
  {
   "cell_type": "code",
   "execution_count": 77,
   "metadata": {},
   "outputs": [
    {
     "name": "stdout",
     "output_type": "stream",
     "text": [
      "Epoch: 000/030 cost: 1.951690043\n",
      " Test accuracy: 0.200\n",
      "Epoch: 001/030 cost: 1.520543435\n",
      " Test accuracy: 0.300\n",
      "Epoch: 002/030 cost: 1.248297115\n",
      " Test accuracy: 0.500\n",
      "Epoch: 003/030 cost: 1.139030192\n",
      " Test accuracy: 0.400\n",
      "Epoch: 004/030 cost: 0.986344287\n",
      " Test accuracy: 0.700\n",
      "Epoch: 005/030 cost: 0.854012781\n",
      " Test accuracy: 0.800\n",
      "Epoch: 006/030 cost: 0.808693137\n",
      " Test accuracy: 0.600\n",
      "Epoch: 007/030 cost: 0.706826313\n",
      " Test accuracy: 0.600\n",
      "Epoch: 008/030 cost: 0.689690714\n",
      " Test accuracy: 0.600\n",
      "Epoch: 009/030 cost: 0.635670507\n",
      " Test accuracy: 0.600\n",
      "Epoch: 010/030 cost: 0.577382978\n",
      " Test accuracy: 0.600\n",
      "Epoch: 011/030 cost: 0.566870750\n",
      " Test accuracy: 0.600\n",
      "Epoch: 012/030 cost: 0.525428522\n",
      " Test accuracy: 0.500\n",
      "Epoch: 013/030 cost: 0.518753212\n",
      " Test accuracy: 0.700\n",
      "Epoch: 014/030 cost: 0.504432921\n",
      " Test accuracy: 0.500\n",
      "Epoch: 015/030 cost: 0.457615062\n",
      " Test accuracy: 0.500\n",
      "Epoch: 016/030 cost: 0.433833105\n",
      " Test accuracy: 0.600\n",
      "Epoch: 017/030 cost: 0.416714282\n",
      " Test accuracy: 0.600\n",
      "Epoch: 018/030 cost: 0.396791184\n",
      " Test accuracy: 0.700\n",
      "Epoch: 019/030 cost: 0.399926180\n",
      " Test accuracy: 0.700\n",
      "Epoch: 020/030 cost: 0.402550924\n",
      " Test accuracy: 0.600\n",
      "Epoch: 021/030 cost: 0.374310099\n",
      " Test accuracy: 0.800\n",
      "Epoch: 022/030 cost: 0.383311429\n",
      " Test accuracy: 0.700\n",
      "Epoch: 023/030 cost: 0.355428628\n",
      " Test accuracy: 0.600\n",
      "Epoch: 024/030 cost: 0.366360192\n",
      " Test accuracy: 0.800\n",
      "Epoch: 025/030 cost: 0.332716857\n",
      " Test accuracy: 0.800\n",
      "Epoch: 026/030 cost: 0.327059561\n",
      " Test accuracy: 0.700\n",
      "Epoch: 027/030 cost: 0.320134061\n",
      " Test accuracy: 0.900\n",
      "Epoch: 028/030 cost: 0.288535136\n",
      " Test accuracy: 0.600\n",
      "Epoch: 029/030 cost: 0.284156013\n",
      " Test accuracy: 0.700\n",
      "Optimization Finished.\n"
     ]
    }
   ],
   "source": [
    "train_epoch = 30\n",
    "batch_size = 16\n",
    "display_step = 1\n",
    "with tf.Session() as sess:\n",
    "    \n",
    "    sess.run(init)\n",
    "    for epoch in range(train_epoch):\n",
    "        #     total_bath = int(mnist.train.num_examples/batch_size)\n",
    "        avg_cost = 0\n",
    "        total_batch = 100\n",
    "        for i in range(total_batch):\n",
    "            # 每次读16个\n",
    "            batch_xs,batch_ys = mnist.train.next_batch(batch_size)\n",
    "            batch_xs = batch_xs.reshape((batch_size,nsteps,diminput))\n",
    "            feeds = {X:batch_xs,y:batch_ys}\n",
    "            sess.run(optm,feed_dict=feeds)\n",
    "            avg_cost += sess.run(cost, feed_dict=feeds)\n",
    "        avg_cost = avg_cost/total_batch\n",
    "        if epoch % display_step == 0: \n",
    "            print (\"Epoch: %03d/%03d cost: %.9f\" % (epoch, train_epoch, avg_cost))\n",
    "            feeds = {X: batch_xs, y: batch_ys}\n",
    "            train_acc = sess.run(accr, feed_dict=feeds)\n",
    "            testimgs = testimgs.reshape((ntest, nsteps, diminput))\n",
    "            feeds = {X: testimgs[:10], y: testlabels[:10]}\n",
    "            test_acc = sess.run(accr, feed_dict=feeds)\n",
    "            print (\" Test accuracy: %.3f\" % (test_acc))\n",
    "print (\"Optimization Finished.\")"
   ]
  }
 ],
 "metadata": {
  "kernelspec": {
   "display_name": "Python 3",
   "language": "python",
   "name": "python3"
  },
  "language_info": {
   "codemirror_mode": {
    "name": "ipython",
    "version": 3
   },
   "file_extension": ".py",
   "mimetype": "text/x-python",
   "name": "python",
   "nbconvert_exporter": "python",
   "pygments_lexer": "ipython3",
   "version": "3.5.3"
  }
 },
 "nbformat": 4,
 "nbformat_minor": 2
}
