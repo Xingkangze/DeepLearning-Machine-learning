{
 "cells": [
  {
   "cell_type": "code",
   "execution_count": 3,
   "metadata": {},
   "outputs": [],
   "source": [
    "from sklearn import datasets \n",
    "from sklearn.cluster import KMeans\n",
    "import numpy as np\n",
    "import matplotlib.pyplot as plt"
   ]
  },
  {
   "cell_type": "code",
   "execution_count": 21,
   "metadata": {},
   "outputs": [],
   "source": [
    "X,y = data = datasets.make_blobs(n_samples=1000,n_features=2,centers=4,center_box=(-10.0,10.0)) # 产生模拟数据"
   ]
  },
  {
   "cell_type": "code",
   "execution_count": 22,
   "metadata": {},
   "outputs": [
    {
     "data": {
      "text/plain": [
       "KMeans(algorithm='auto', copy_x=True, init='random', max_iter=300,\n",
       "    n_clusters=4, n_init=10, n_jobs=1, precompute_distances='auto',\n",
       "    random_state=28, tol=0.0001, verbose=0)"
      ]
     },
     "execution_count": 22,
     "metadata": {},
     "output_type": "execute_result"
    }
   ],
   "source": [
    "# 2. 模型的构建\n",
    "km = KMeans(n_clusters=4,init='random',random_state=28)\n",
    "km.fit(X,0)"
   ]
  },
  {
   "cell_type": "code",
   "execution_count": 37,
   "metadata": {},
   "outputs": [
    {
     "name": "stdout",
     "output_type": "stream",
     "text": [
      "所有样本距离所居族中心点的距离之和:2020.22616\n",
      "所有样本距离所居族中心点的平均距离之和:2.02023\n",
      "所有中心店的距离坐标\n",
      "[[-9.28388686 -0.56716039]\n",
      " [-6.66582835 -5.80252588]\n",
      " [ 5.51017419  6.83397991]\n",
      " [ 2.7246882   2.61780697]]\n"
     ]
    }
   ],
   "source": [
    "# 3. 模型预测\n",
    "y_hat = km.predict(X)\n",
    "np.array(y_hat!=y,dtype=int).sum()\n",
    "print('所有样本距离所居族中心点的距离之和:%.5f' % km.inertia_)\n",
    "print('所有样本距离所居族中心点的平均距离之和:%.5f' % (km.inertia_/1000))\n",
    "print('所有中心店的距离坐标')\n",
    "print(km.cluster_centers_)"
   ]
  },
  {
   "cell_type": "code",
   "execution_count": null,
   "metadata": {},
   "outputs": [],
   "source": []
  },
  {
   "cell_type": "code",
   "execution_count": null,
   "metadata": {},
   "outputs": [],
   "source": []
  }
 ],
 "metadata": {
  "kernelspec": {
   "display_name": "Python 3",
   "language": "python",
   "name": "python3"
  },
  "language_info": {
   "codemirror_mode": {
    "name": "ipython",
    "version": 3
   },
   "file_extension": ".py",
   "mimetype": "text/x-python",
   "name": "python",
   "nbconvert_exporter": "python",
   "pygments_lexer": "ipython3",
   "version": "3.5.3"
  },
  "toc": {
   "base_numbering": 1,
   "nav_menu": {},
   "number_sections": true,
   "sideBar": true,
   "skip_h1_title": false,
   "title_cell": "Table of Contents",
   "title_sidebar": "Contents",
   "toc_cell": false,
   "toc_position": {},
   "toc_section_display": true,
   "toc_window_display": false
  }
 },
 "nbformat": 4,
 "nbformat_minor": 2
}
