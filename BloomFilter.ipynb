{
 "cells": [
  {
   "cell_type": "code",
   "execution_count": 5,
   "metadata": {},
   "outputs": [],
   "source": [
    "class Bloom:\n",
    "    '''Bloom filter\n",
    "    Bloom Filter用一个长度为m的位向量V表示的集合中的元素，位向量初始值全为0。\n",
    "\n",
    "     k个具有均匀分布特性的散列函数 h1,h2,....,hkh1,h2,....,hk.'''\n",
    "    def __inti__(self,m,k,hash_fun):\n",
    "        '''\n",
    "        m, size of the vector\n",
    "        k, number of hash fnctions to compute\n",
    "        hash_fun, hash function to use\n",
    "        '''\n",
    "        self.m = m\n",
    "        self.vector = [0]*m\n",
    "        self.hash_fun = hash_fun\n",
    "        self.data = {}\n",
    "         # data structure to store the data\n",
    "        self.false_positive = 0\n",
    "    \n",
    "    def insert(self,key,value):\n",
    "         \"\"\" insert the pair (key,value) in the database \"\"\"\n",
    "         self.data[key] = value\n",
    "         for i in range(self.k):\n",
    "            self.vector[self.hash_fun(key+str(i))%self.m]=1\n",
    "    def contains(self,key):\n",
    "        '''\n",
    "        check if key is cointained in the database\n",
    "        using the filter mechanism \n",
    "        '''\n",
    "        for i in range(self.k):\n",
    "            if self.vector[self.hash_fun(key+str(i))%self.m]==0:\n",
    "                return false\n",
    "            # the key doesn't existreturnTrue# the key can be in the data set\n",
    "    def get(self,key):\n",
    "        '''return the value associated with key'''\n",
    "        if self.contains(key):\n",
    "        try:\n",
    "            returnself.data[key]# actual lookup\n",
    "        except \n",
    "            KeyError: self.false_positive +=1\n",
    "        "
   ]
  },
  {
   "cell_type": "code",
   "execution_count": null,
   "metadata": {},
   "outputs": [],
   "source": []
  },
  {
   "cell_type": "code",
   "execution_count": 2,
   "metadata": {},
   "outputs": [
    {
     "data": {
      "text/plain": [
       "[0, 0, 0, 0, 0]"
      ]
     },
     "execution_count": 2,
     "metadata": {},
     "output_type": "execute_result"
    }
   ],
   "source": [
    "[0]*5"
   ]
  },
  {
   "cell_type": "code",
   "execution_count": null,
   "metadata": {},
   "outputs": [],
   "source": []
  }
 ],
 "metadata": {
  "kernelspec": {
   "display_name": "Python 3",
   "language": "python",
   "name": "python3"
  },
  "language_info": {
   "codemirror_mode": {
    "name": "ipython",
    "version": 3
   },
   "file_extension": ".py",
   "mimetype": "text/x-python",
   "name": "python",
   "nbconvert_exporter": "python",
   "pygments_lexer": "ipython3",
   "version": "3.5.3"
  }
 },
 "nbformat": 4,
 "nbformat_minor": 2
}
