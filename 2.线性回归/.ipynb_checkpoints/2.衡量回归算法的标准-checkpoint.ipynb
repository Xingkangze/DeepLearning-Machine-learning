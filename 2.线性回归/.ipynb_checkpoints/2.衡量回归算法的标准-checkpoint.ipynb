{
 "cells": [
  {
   "cell_type": "code",
   "execution_count": 1,
   "metadata": {},
   "outputs": [],
   "source": [
    "import numpy as np\n",
    "import matplotlib.pyplot as plt\n",
    "from sklearn import datasets"
   ]
  },
  {
   "cell_type": "markdown",
   "metadata": {},
   "source": [
    "# 波士顿房产数据"
   ]
  },
  {
   "cell_type": "code",
   "execution_count": 5,
   "metadata": {},
   "outputs": [],
   "source": [
    "boston = datasets.load_boston()"
   ]
  },
  {
   "cell_type": "code",
   "execution_count": 10,
   "metadata": {},
   "outputs": [
    {
     "data": {
      "text/plain": [
       "dict_keys(['feature_names', 'target', 'DESCR', 'data'])"
      ]
     },
     "execution_count": 10,
     "metadata": {},
     "output_type": "execute_result"
    }
   ],
   "source": [
    "boston.data[1,:]\n",
    "boston.target\n",
    "boston.keys()"
   ]
  },
  {
   "cell_type": "code",
   "execution_count": 3,
   "metadata": {},
   "outputs": [
    {
     "name": "stdout",
     "output_type": "stream",
     "text": [
      "Boston House Prices dataset\n",
      "===========================\n",
      "\n",
      "Notes\n",
      "------\n",
      "Data Set Characteristics:  \n",
      "\n",
      "    :Number of Instances: 506 \n",
      "\n",
      "    :Number of Attributes: 13 numeric/categorical predictive\n",
      "    \n",
      "    :Median Value (attribute 14) is usually the target\n",
      "\n",
      "    :Attribute Information (in order):\n",
      "        - CRIM     per capita crime rate by town\n",
      "        - ZN       proportion of residential land zoned for lots over 25,000 sq.ft.\n",
      "        - INDUS    proportion of non-retail business acres per town\n",
      "        - CHAS     Charles River dummy variable (= 1 if tract bounds river; 0 otherwise)\n",
      "        - NOX      nitric oxides concentration (parts per 10 million)\n",
      "        - RM       average number of rooms per dwelling\n",
      "        - AGE      proportion of owner-occupied units built prior to 1940\n",
      "        - DIS      weighted distances to five Boston employment centres\n",
      "        - RAD      index of accessibility to radial highways\n",
      "        - TAX      full-value property-tax rate per $10,000\n",
      "        - PTRATIO  pupil-teacher ratio by town\n",
      "        - B        1000(Bk - 0.63)^2 where Bk is the proportion of blacks by town\n",
      "        - LSTAT    % lower status of the population\n",
      "        - MEDV     Median value of owner-occupied homes in $1000's\n",
      "\n",
      "    :Missing Attribute Values: None\n",
      "\n",
      "    :Creator: Harrison, D. and Rubinfeld, D.L.\n",
      "\n",
      "This is a copy of UCI ML housing dataset.\n",
      "http://archive.ics.uci.edu/ml/datasets/Housing\n",
      "\n",
      "\n",
      "This dataset was taken from the StatLib library which is maintained at Carnegie Mellon University.\n",
      "\n",
      "The Boston house-price data of Harrison, D. and Rubinfeld, D.L. 'Hedonic\n",
      "prices and the demand for clean air', J. Environ. Economics & Management,\n",
      "vol.5, 81-102, 1978.   Used in Belsley, Kuh & Welsch, 'Regression diagnostics\n",
      "...', Wiley, 1980.   N.B. Various transformations are used in the table on\n",
      "pages 244-261 of the latter.\n",
      "\n",
      "The Boston house-price data has been used in many machine learning papers that address regression\n",
      "problems.   \n",
      "     \n",
      "**References**\n",
      "\n",
      "   - Belsley, Kuh & Welsch, 'Regression diagnostics: Identifying Influential Data and Sources of Collinearity', Wiley, 1980. 244-261.\n",
      "   - Quinlan,R. (1993). Combining Instance-Based and Model-Based Learning. In Proceedings on the Tenth International Conference of Machine Learning, 236-243, University of Massachusetts, Amherst. Morgan Kaufmann.\n",
      "   - many more! (see http://archive.ics.uci.edu/ml/datasets/Housing)\n",
      "\n"
     ]
    }
   ],
   "source": [
    "print(boston.DESCR)"
   ]
  },
  {
   "cell_type": "code",
   "execution_count": 7,
   "metadata": {},
   "outputs": [
    {
     "data": {
      "text/plain": [
       "array(['CRIM', 'ZN', 'INDUS', 'CHAS', 'NOX', 'RM', 'AGE', 'DIS', 'RAD',\n",
       "       'TAX', 'PTRATIO', 'B', 'LSTAT'],\n",
       "      dtype='<U7')"
      ]
     },
     "execution_count": 7,
     "metadata": {},
     "output_type": "execute_result"
    }
   ],
   "source": [
    "boston.feature_names"
   ]
  },
  {
   "cell_type": "code",
   "execution_count": 4,
   "metadata": {},
   "outputs": [
    {
     "data": {
      "text/plain": [
       "array([ 6.575,  6.421,  7.185,  6.998,  7.147,  6.43 ,  6.012,  6.172,\n",
       "        5.631,  6.004,  6.377,  6.009,  5.889,  5.949,  6.096,  5.834,\n",
       "        5.935,  5.99 ,  5.456,  5.727,  5.57 ,  5.965,  6.142,  5.813,\n",
       "        5.924,  5.599,  5.813,  6.047,  6.495,  6.674,  5.713,  6.072,\n",
       "        5.95 ,  5.701,  6.096,  5.933,  5.841,  5.85 ,  5.966,  6.595,\n",
       "        7.024,  6.77 ,  6.169,  6.211,  6.069,  5.682,  5.786,  6.03 ,\n",
       "        5.399,  5.602,  5.963,  6.115,  6.511,  5.998,  5.888,  7.249,\n",
       "        6.383,  6.816,  6.145,  5.927,  5.741,  5.966,  6.456,  6.762,\n",
       "        7.104,  6.29 ,  5.787,  5.878,  5.594,  5.885,  6.417,  5.961,\n",
       "        6.065,  6.245,  6.273,  6.286,  6.279,  6.14 ,  6.232,  5.874,\n",
       "        6.727,  6.619,  6.302,  6.167,  6.389,  6.63 ,  6.015,  6.121,\n",
       "        7.007,  7.079,  6.417,  6.405,  6.442,  6.211,  6.249,  6.625,\n",
       "        6.163,  8.069,  7.82 ,  7.416,  6.727,  6.781,  6.405,  6.137,\n",
       "        6.167,  5.851,  5.836,  6.127,  6.474,  6.229,  6.195,  6.715,\n",
       "        5.913,  6.092,  6.254,  5.928,  6.176,  6.021,  5.872,  5.731,\n",
       "        5.87 ,  6.004,  5.961,  5.856,  5.879,  5.986,  5.613,  5.693,\n",
       "        6.431,  5.637,  6.458,  6.326,  6.372,  5.822,  5.757,  6.335,\n",
       "        5.942,  6.454,  5.857,  6.151,  6.174,  5.019,  5.403,  5.468,\n",
       "        4.903,  6.13 ,  5.628,  4.926,  5.186,  5.597,  6.122,  5.404,\n",
       "        5.012,  5.709,  6.129,  6.152,  5.272,  6.943,  6.066,  6.51 ,\n",
       "        6.25 ,  7.489,  7.802,  8.375,  5.854,  6.101,  7.929,  5.877,\n",
       "        6.319,  6.402,  5.875,  5.88 ,  5.572,  6.416,  5.859,  6.546,\n",
       "        6.02 ,  6.315,  6.86 ,  6.98 ,  7.765,  6.144,  7.155,  6.563,\n",
       "        5.604,  6.153,  7.831,  6.782,  6.556,  7.185,  6.951,  6.739,\n",
       "        7.178,  6.8  ,  6.604,  7.875,  7.287,  7.107,  7.274,  6.975,\n",
       "        7.135,  6.162,  7.61 ,  7.853,  8.034,  5.891,  6.326,  5.783,\n",
       "        6.064,  5.344,  5.96 ,  5.404,  5.807,  6.375,  5.412,  6.182,\n",
       "        5.888,  6.642,  5.951,  6.373,  6.951,  6.164,  6.879,  6.618,\n",
       "        8.266,  8.725,  8.04 ,  7.163,  7.686,  6.552,  5.981,  7.412,\n",
       "        8.337,  8.247,  6.726,  6.086,  6.631,  7.358,  6.481,  6.606,\n",
       "        6.897,  6.095,  6.358,  6.393,  5.593,  5.605,  6.108,  6.226,\n",
       "        6.433,  6.718,  6.487,  6.438,  6.957,  8.259,  6.108,  5.876,\n",
       "        7.454,  8.704,  7.333,  6.842,  7.203,  7.52 ,  8.398,  7.327,\n",
       "        7.206,  5.56 ,  7.014,  8.297,  7.47 ,  5.92 ,  5.856,  6.24 ,\n",
       "        6.538,  7.691,  6.758,  6.854,  7.267,  6.826,  6.482,  6.812,\n",
       "        7.82 ,  6.968,  7.645,  7.923,  7.088,  6.453,  6.23 ,  6.209,\n",
       "        6.315,  6.565,  6.861,  7.148,  6.63 ,  6.127,  6.009,  6.678,\n",
       "        6.549,  5.79 ,  6.345,  7.041,  6.871,  6.59 ,  6.495,  6.982,\n",
       "        7.236,  6.616,  7.42 ,  6.849,  6.635,  5.972,  4.973,  6.122,\n",
       "        6.023,  6.266,  6.567,  5.705,  5.914,  5.782,  6.382,  6.113,\n",
       "        6.426,  6.376,  6.041,  5.708,  6.415,  6.431,  6.312,  6.083,\n",
       "        5.868,  6.333,  6.144,  5.706,  6.031,  6.316,  6.31 ,  6.037,\n",
       "        5.869,  5.895,  6.059,  5.985,  5.968,  7.241,  6.54 ,  6.696,\n",
       "        6.874,  6.014,  5.898,  6.516,  6.635,  6.939,  6.49 ,  6.579,\n",
       "        5.884,  6.728,  5.663,  5.936,  6.212,  6.395,  6.127,  6.112,\n",
       "        6.398,  6.251,  5.362,  5.803,  8.78 ,  3.561,  4.963,  3.863,\n",
       "        4.97 ,  6.683,  7.016,  6.216,  5.875,  4.906,  4.138,  7.313,\n",
       "        6.649,  6.794,  6.38 ,  6.223,  6.968,  6.545,  5.536,  5.52 ,\n",
       "        4.368,  5.277,  4.652,  5.   ,  4.88 ,  5.39 ,  5.713,  6.051,\n",
       "        5.036,  6.193,  5.887,  6.471,  6.405,  5.747,  5.453,  5.852,\n",
       "        5.987,  6.343,  6.404,  5.349,  5.531,  5.683,  4.138,  5.608,\n",
       "        5.617,  6.852,  5.757,  6.657,  4.628,  5.155,  4.519,  6.434,\n",
       "        6.782,  5.304,  5.957,  6.824,  6.411,  6.006,  5.648,  6.103,\n",
       "        5.565,  5.896,  5.837,  6.202,  6.193,  6.38 ,  6.348,  6.833,\n",
       "        6.425,  6.436,  6.208,  6.629,  6.461,  6.152,  5.935,  5.627,\n",
       "        5.818,  6.406,  6.219,  6.485,  5.854,  6.459,  6.341,  6.251,\n",
       "        6.185,  6.417,  6.749,  6.655,  6.297,  7.393,  6.728,  6.525,\n",
       "        5.976,  5.936,  6.301,  6.081,  6.701,  6.376,  6.317,  6.513,\n",
       "        6.209,  5.759,  5.952,  6.003,  5.926,  5.713,  6.167,  6.229,\n",
       "        6.437,  6.98 ,  5.427,  6.162,  6.484,  5.304,  6.185,  6.229,\n",
       "        6.242,  6.75 ,  7.061,  5.762,  5.871,  6.312,  6.114,  5.905,\n",
       "        5.454,  5.414,  5.093,  5.983,  5.983,  5.707,  5.926,  5.67 ,\n",
       "        5.39 ,  5.794,  6.019,  5.569,  6.027,  6.593,  6.12 ,  6.976,\n",
       "        6.794,  6.03 ])"
      ]
     },
     "execution_count": 4,
     "metadata": {},
     "output_type": "execute_result"
    }
   ],
   "source": [
    "#我们取出第五列中房子中房间的个数   进而判断出我们的价格\n",
    "x = boston.data[:,5]\n",
    "x"
   ]
  },
  {
   "cell_type": "code",
   "execution_count": 10,
   "metadata": {},
   "outputs": [
    {
     "data": {
      "text/plain": [
       "(506,)"
      ]
     },
     "execution_count": 10,
     "metadata": {},
     "output_type": "execute_result"
    }
   ],
   "source": [
    "x.shape"
   ]
  },
  {
   "cell_type": "code",
   "execution_count": 11,
   "metadata": {},
   "outputs": [],
   "source": [
    "y = boston.target"
   ]
  },
  {
   "cell_type": "code",
   "execution_count": 12,
   "metadata": {},
   "outputs": [
    {
     "data": {
      "text/plain": [
       "(506,)"
      ]
     },
     "execution_count": 12,
     "metadata": {},
     "output_type": "execute_result"
    }
   ],
   "source": [
    "y.shape"
   ]
  },
  {
   "cell_type": "code",
   "execution_count": 14,
   "metadata": {},
   "outputs": [
    {
     "data": {
      "image/png": "[encoded data removed]",
      "text/plain": [
       "<matplotlib.figure.Figure at 0x187638a4550>"
      ]
     },
     "metadata": {},
     "output_type": "display_data"
    }
   ],
   "source": [
    "plt.scatter(x,y)\n",
    "plt.show()       #最大值的限制"
   ]
  },
  {
   "cell_type": "code",
   "execution_count": 15,
   "metadata": {},
   "outputs": [
    {
     "data": {
      "text/plain": [
       "50.0"
      ]
     },
     "execution_count": 15,
     "metadata": {},
     "output_type": "execute_result"
    }
   ],
   "source": [
    "np.max(y)"
   ]
  },
  {
   "cell_type": "code",
   "execution_count": 17,
   "metadata": {},
   "outputs": [],
   "source": [
    "#我们将y=50的点去掉\n",
    "x=x[y<50.0]\n",
    "y=y[y<50.0]"
   ]
  },
  {
   "cell_type": "code",
   "execution_count": 18,
   "metadata": {},
   "outputs": [
    {
     "data": {
      "image/png": "[encoded data removed]",
      "text/plain": [
       "<matplotlib.figure.Figure at 0x187639361d0>"
      ]
     },
     "metadata": {},
     "output_type": "display_data"
    }
   ],
   "source": [
    "plt.scatter(x,y)\n",
    "plt.show() "
   ]
  },
  {
   "cell_type": "markdown",
   "metadata": {},
   "source": [
    "## 使用简单线性回归算法"
   ]
  },
  {
   "cell_type": "code",
   "execution_count": 19,
   "metadata": {},
   "outputs": [],
   "source": [
    "%run D:/Python1/KNN/model_selection.py"
   ]
  },
  {
   "cell_type": "code",
   "execution_count": 24,
   "metadata": {},
   "outputs": [],
   "source": [
    "X_train,y_train,X_test,y_test = train_test_split(x,y,seed=666)"
   ]
  },
  {
   "cell_type": "code",
   "execution_count": 25,
   "metadata": {},
   "outputs": [
    {
     "data": {
      "text/plain": [
       "(392,)"
      ]
     },
     "execution_count": 25,
     "metadata": {},
     "output_type": "execute_result"
    }
   ],
   "source": [
    "X_train.shape"
   ]
  },
  {
   "cell_type": "code",
   "execution_count": 26,
   "metadata": {},
   "outputs": [
    {
     "data": {
      "text/plain": [
       "(392,)"
      ]
     },
     "execution_count": 26,
     "metadata": {},
     "output_type": "execute_result"
    }
   ],
   "source": [
    "y_train.shape"
   ]
  },
  {
   "cell_type": "code",
   "execution_count": 27,
   "metadata": {},
   "outputs": [
    {
     "data": {
      "text/plain": [
       "(98,)"
      ]
     },
     "execution_count": 27,
     "metadata": {},
     "output_type": "execute_result"
    }
   ],
   "source": [
    "X_test.shape"
   ]
  },
  {
   "cell_type": "code",
   "execution_count": 61,
   "metadata": {},
   "outputs": [],
   "source": [
    "%run D:/Python1/Muke_MLB/SimpleLinearRegression1.py"
   ]
  },
  {
   "cell_type": "code",
   "execution_count": 29,
   "metadata": {},
   "outputs": [],
   "source": [
    "sim = SimpleLinearRegression2()"
   ]
  },
  {
   "cell_type": "code",
   "execution_count": 30,
   "metadata": {},
   "outputs": [
    {
     "data": {
      "text/plain": [
       "simpleLinearRegression2()"
      ]
     },
     "execution_count": 30,
     "metadata": {},
     "output_type": "execute_result"
    }
   ],
   "source": [
    "sim.fit(X_train,y_train)"
   ]
  },
  {
   "cell_type": "code",
   "execution_count": 31,
   "metadata": {},
   "outputs": [
    {
     "data": {
      "text/plain": [
       "7.8608543562689555"
      ]
     },
     "execution_count": 31,
     "metadata": {},
     "output_type": "execute_result"
    }
   ],
   "source": [
    "sim.a_"
   ]
  },
  {
   "cell_type": "code",
   "execution_count": 32,
   "metadata": {},
   "outputs": [
    {
     "data": {
      "text/plain": [
       "-27.459342806705543"
      ]
     },
     "execution_count": 32,
     "metadata": {},
     "output_type": "execute_result"
    }
   ],
   "source": [
    "sim.b_"
   ]
  },
  {
   "cell_type": "code",
   "execution_count": 35,
   "metadata": {},
   "outputs": [
    {
     "data": {
      "image/png": "[encoded data removed]",
      "text/plain": [
       "<matplotlib.figure.Figure at 0x187639dd160>"
      ]
     },
     "metadata": {},
     "output_type": "display_data"
    }
   ],
   "source": [
    "yhat = sim.predict(X_train)\n",
    "plt.scatter(X_train,y_train)\n",
    "plt.plot(X_train,yhat,color='r')\n",
    "plt.show()"
   ]
  },
  {
   "cell_type": "code",
   "execution_count": 36,
   "metadata": {},
   "outputs": [],
   "source": [
    "y_predict = sim.predict(X_test)"
   ]
  },
  {
   "attachments": {
    "image.png": {
     "image/png": "[encoded data removed]"
    }
   },
   "cell_type": "markdown",
   "metadata": {},
   "source": [
    "# MSE   均方误差\n",
    "![image.png](attachment:image.png)"
   ]
  },
  {
   "cell_type": "code",
   "execution_count": 38,
   "metadata": {},
   "outputs": [
    {
     "data": {
      "text/plain": [
       "24.156602134387438"
      ]
     },
     "execution_count": 38,
     "metadata": {},
     "output_type": "execute_result"
    }
   ],
   "source": [
    "np.sum((y_test-y_predict)**2)/len(X_test)"
   ]
  },
  {
   "attachments": {
    "image.png": {
     "image/png": "[encoded data removed]"
    }
   },
   "cell_type": "markdown",
   "metadata": {},
   "source": [
    "## RMSE 均方根误差\n",
    "![image.png](attachment:image.png)"
   ]
  },
  {
   "cell_type": "code",
   "execution_count": 41,
   "metadata": {},
   "outputs": [
    {
     "data": {
      "text/plain": [
       "4.914936635846635"
      ]
     },
     "execution_count": 41,
     "metadata": {},
     "output_type": "execute_result"
    }
   ],
   "source": [
    "from math import sqrt\n",
    "sqrt(np.sum((y_test-y_predict)**2)/len(X_test))"
   ]
  },
  {
   "attachments": {
    "image.png": {
     "image/png": "[encoded data removed]"
    }
   },
   "cell_type": "markdown",
   "metadata": {},
   "source": [
    "## MAE 平均绝对误差\n",
    "![image.png](attachment:image.png)"
   ]
  },
  {
   "cell_type": "code",
   "execution_count": 43,
   "metadata": {},
   "outputs": [
    {
     "data": {
      "text/plain": [
       "3.5430974409463873"
      ]
     },
     "execution_count": 43,
     "metadata": {},
     "output_type": "execute_result"
    }
   ],
   "source": [
    "np.sum(np.absolute(y_predict-y_test))/len(y_test)"
   ]
  },
  {
   "cell_type": "code",
   "execution_count": null,
   "metadata": {},
   "outputs": [],
   "source": []
  },
  {
   "cell_type": "markdown",
   "metadata": {},
   "source": [
    "# scikit-learn 中的MSE和MAE"
   ]
  },
  {
   "cell_type": "code",
   "execution_count": 44,
   "metadata": {},
   "outputs": [],
   "source": [
    "from sklearn.metrics import mean_squared_error\n",
    "from sklearn.metrics import mean_absolute_error"
   ]
  },
  {
   "cell_type": "code",
   "execution_count": 45,
   "metadata": {},
   "outputs": [
    {
     "data": {
      "text/plain": [
       "24.156602134387438"
      ]
     },
     "execution_count": 45,
     "metadata": {},
     "output_type": "execute_result"
    }
   ],
   "source": [
    "mean_squared_error(y_predict,y_test)"
   ]
  },
  {
   "cell_type": "code",
   "execution_count": 46,
   "metadata": {},
   "outputs": [
    {
     "data": {
      "text/plain": [
       "3.5430974409463873"
      ]
     },
     "execution_count": 46,
     "metadata": {},
     "output_type": "execute_result"
    }
   ],
   "source": [
    "mean_absolute_error(y_predict,y_test)"
   ]
  },
  {
   "cell_type": "markdown",
   "metadata": {},
   "source": [
    "# 计算R square"
   ]
  },
  {
   "cell_type": "code",
   "execution_count": 47,
   "metadata": {},
   "outputs": [
    {
     "data": {
      "text/plain": [
       "0.61293168039373225"
      ]
     },
     "execution_count": 47,
     "metadata": {},
     "output_type": "execute_result"
    }
   ],
   "source": [
    "1- mean_squared_error(y_predict,y_test)/np.var(y_test)"
   ]
  },
  {
   "cell_type": "code",
   "execution_count": 52,
   "metadata": {},
   "outputs": [],
   "source": [
    "%run D:/Python1/Muke_MLB/Matrix.py"
   ]
  },
  {
   "cell_type": "code",
   "execution_count": 53,
   "metadata": {},
   "outputs": [
    {
     "data": {
      "text/plain": [
       "0.61293168039373225"
      ]
     },
     "execution_count": 53,
     "metadata": {},
     "output_type": "execute_result"
    }
   ],
   "source": [
    "r2_score(y_test,y_predict)"
   ]
  },
  {
   "cell_type": "code",
   "execution_count": 48,
   "metadata": {},
   "outputs": [],
   "source": [
    "from sklearn.metrics import r2_score"
   ]
  },
  {
   "cell_type": "code",
   "execution_count": 49,
   "metadata": {},
   "outputs": [
    {
     "data": {
      "text/plain": [
       "0.61293168039373236"
      ]
     },
     "execution_count": 49,
     "metadata": {},
     "output_type": "execute_result"
    }
   ],
   "source": [
    "r2_score(y_test,y_predict)\n"
   ]
  },
  {
   "cell_type": "code",
   "execution_count": null,
   "metadata": {},
   "outputs": [],
   "source": []
  }
 ],
 "metadata": {
  "kernelspec": {
   "display_name": "Python 3",
   "language": "python",
   "name": "python3"
  },
  "language_info": {
   "codemirror_mode": {
    "name": "ipython",
    "version": 3
   },
   "file_extension": ".py",
   "mimetype": "text/x-python",
   "name": "python",
   "nbconvert_exporter": "python",
   "pygments_lexer": "ipython3",
   "version": "3.5.3"
  }
 },
 "nbformat": 4,
 "nbformat_minor": 2
}
