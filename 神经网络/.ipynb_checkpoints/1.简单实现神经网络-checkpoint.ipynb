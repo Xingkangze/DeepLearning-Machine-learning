{
 "cells": [
  {
   "cell_type": "code",
   "execution_count": 1,
   "metadata": {},
   "outputs": [],
   "source": [
    "import numpy as np"
   ]
  },
  {
   "cell_type": "code",
   "execution_count": 3,
   "metadata": {},
   "outputs": [],
   "source": [
    "def tanh(x):\n",
    "    return np.tanh(x)\n",
    "\n",
    "def tangh_deriv(x):\n",
    "    return 1.0-np.tanh(x)**2\n",
    "\n",
    "def logistic(x):\n",
    "    return 1/(1+np.exp(-x))\n",
    "\n",
    "def logistic_deriv(x):\n",
    "    return logistic(x)*(1-logistic(x))"
   ]
  },
  {
   "cell_type": "code",
   "execution_count": 34,
   "metadata": {},
   "outputs": [],
   "source": [
    "class NeuralNetwork:\n",
    "    def __init__(self,layers,activation='tanh'):  # 构造函数\n",
    "        \"\"\"\n",
    "        layer 每层的神经元的个数\n",
    "        activation 可以用 logistic或者tanh 默认tanh\n",
    "        \"\"\"\n",
    "        if activation == 'logistic':\n",
    "            self.activation = logistic\n",
    "            self.activation_deriv = logistic_deriv\n",
    "        elif activation == 'tanh':\n",
    "            self.activation = tanh\n",
    "            self.activation_deriv = tangh_deriv\n",
    "        self.weights = []  # 权重  初始化权重\n",
    "        for i in range(1,len(layers)-1):\n",
    "            # i-1 层 和 i层\n",
    "            self.weights.append(\n",
    "                (2*np.random.random((layers[i-1]+1,layers[i]+1))-1)*0.25\n",
    "            )\n",
    "            self.weights.append(\n",
    "                (2*np.random.random((layers[i]+1,layers[i+1]+1))-1)*0.25\n",
    "            )\n",
    "    def fit(self,X,y,learning_rate=0.2,epochs=10000):\n",
    "        \"\"\"\n",
    "        X  数据矩阵\n",
    "        y  函数的分类结果\n",
    "        learning_rate  学习率\n",
    "        epochs 循环的次数\n",
    "        \"\"\"\n",
    "        X = np.atleast_2d(X)   # 确定维度是2维\n",
    "        temp = np.ones([X.shape[0],X.shape[1]+1]) # 初始化一个全是1的矩阵，列数比X的列数大于1，我们需要对偏重进行赋值比\n",
    "        temp[:,0:-1] = X   # 将 除了最后一列的值都赋值\n",
    "        X = temp  # 将X多加了一列 1\n",
    "        y = np.array(y)\n",
    "        \n",
    "        # 使用随机梯度下降\n",
    "        for k in range(epochs):\n",
    "            i = np.random.randint(X.shape[0])  # 在0到行数之间随机取一个数\n",
    "            a = [X[i]]\n",
    "            # 先进行正向的更新\n",
    "            for l in range(len(self.weights)):\n",
    "                a.append(self.activation(np.dot(a[l],self.weights[l])))\n",
    "            error = y[i]-a[-1]  \n",
    "            deltas = [ error*self.activation_deriv(a[-1])] # 输出层误差\n",
    "            # 反向更新\n",
    "            for j in range(len(a)-2,0,-1): # 从最后一层到第1层\n",
    "                deltas.append(deltas[-1].dot(self.weights[j].T)*self.activation_deriv(a[j]))\n",
    "            deltas.reverse()  # 颠倒顺序\n",
    "            # 算权重\n",
    "            for k in range(len(self.weights)):\n",
    "                layer = np.atleast_2d(a[k])\n",
    "                delta = np.atleast_2d(deltas[k])\n",
    "                self.weights[k] +=learning_rate*layer.T.dot(delta)\n",
    "                \n",
    "    def predict(self,x):\n",
    "        x = np.array(x)\n",
    "        # 加一下偏向\n",
    "        temp = np.ones(x.shape[0]+1)\n",
    "        temp[0:-1] = x\n",
    "        a = temp\n",
    "        # 计算输出层的值\n",
    "        for i in range(0,len(self.weights)):\n",
    "            a = self.activation(np.dot(a,self.weights[i]))\n",
    "        return a\n",
    "        "
   ]
  },
  {
   "cell_type": "code",
   "execution_count": 35,
   "metadata": {},
   "outputs": [
    {
     "name": "stdout",
     "output_type": "stream",
     "text": [
      "[0, 0] [-0.00156535 -0.00156546]\n",
      "[0, 1] [0.99858173 0.99858183]\n",
      "[1, 0] [0.99851156 0.99851166]\n",
      "[1, 1] [-0.04257135 -0.04257191]\n"
     ]
    }
   ],
   "source": [
    "# 实例化神经网络\n",
    "nn = NeuralNetwork([2,2,1],'tanh')\n",
    "X = np.array([[0,0],[0,1],[1,0],[1,1]])\n",
    "y = np.array([0,1,1,0])\n",
    "nn.fit(X,y)\n",
    "for i in [[0,0],[0,1],[1,0],[1,1]]:\n",
    "    print(i ,nn.predict(i))"
   ]
  },
  {
   "cell_type": "code",
   "execution_count": 58,
   "metadata": {},
   "outputs": [
    {
     "data": {
      "text/plain": [
       "array([0., 0., 1.])"
      ]
     },
     "execution_count": 58,
     "metadata": {},
     "output_type": "execute_result"
    }
   ],
   "source": []
  },
  {
   "cell_type": "code",
   "execution_count": null,
   "metadata": {},
   "outputs": [],
   "source": []
  },
  {
   "cell_type": "code",
   "execution_count": null,
   "metadata": {},
   "outputs": [],
   "source": []
  },
  {
   "cell_type": "code",
   "execution_count": null,
   "metadata": {},
   "outputs": [],
   "source": []
  },
  {
   "attachments": {
    "image.png": {
     "image/png": "[encoded data removed]"
    }
   },
   "cell_type": "markdown",
   "metadata": {},
   "source": [
    "![image.png](attachment:image.png)"
   ]
  },
  {
   "cell_type": "code",
   "execution_count": null,
   "metadata": {},
   "outputs": [],
   "source": []
  },
  {
   "cell_type": "code",
   "execution_count": null,
   "metadata": {},
   "outputs": [],
   "source": []
  },
  {
   "cell_type": "code",
   "execution_count": 16,
   "metadata": {},
   "outputs": [
    {
     "data": {
      "text/plain": [
       "[array([5., 6., 7., 8., 1.])]"
      ]
     },
     "execution_count": 16,
     "metadata": {},
     "output_type": "execute_result"
    }
   ],
   "source": [
    "X = np.array([1,2,3,4,5,6,7,8]).reshape(2,4)\n",
    "X = np.atleast_2d(X)   # 确定维度是2维\n",
    "temp = np.ones([X.shape[0],X.shape[1]+1])\n",
    "temp[:,0:-1] = X   # 将 除了最后一列的值都赋值\n",
    "X = temp  \n",
    "[X[1]]     "
   ]
  },
  {
   "cell_type": "code",
   "execution_count": 19,
   "metadata": {},
   "outputs": [
    {
     "data": {
      "text/plain": [
       "[10, 9, 8, 7, 6, 5, 4, 3, 2]"
      ]
     },
     "execution_count": 19,
     "metadata": {},
     "output_type": "execute_result"
    }
   ],
   "source": [
    "[i  for i in range(10,1,-1)]"
   ]
  },
  {
   "cell_type": "code",
   "execution_count": null,
   "metadata": {},
   "outputs": [],
   "source": []
  },
  {
   "cell_type": "code",
   "execution_count": null,
   "metadata": {},
   "outputs": [],
   "source": [
    "\n"
   ]
  },
  {
   "cell_type": "code",
   "execution_count": null,
   "metadata": {},
   "outputs": [],
   "source": []
  },
  {
   "cell_type": "code",
   "execution_count": null,
   "metadata": {},
   "outputs": [],
   "source": []
  },
  {
   "cell_type": "code",
   "execution_count": null,
   "metadata": {},
   "outputs": [],
   "source": []
  },
  {
   "cell_type": "code",
   "execution_count": null,
   "metadata": {},
   "outputs": [],
   "source": [
    "\n"
   ]
  },
  {
   "cell_type": "code",
   "execution_count": 5,
   "metadata": {},
   "outputs": [
    {
     "data": {
      "text/plain": [
       "5"
      ]
     },
     "execution_count": 5,
     "metadata": {},
     "output_type": "execute_result"
    }
   ],
   "source": [
    "b"
   ]
  }
 ],
 "metadata": {
  "kernelspec": {
   "display_name": "Python 3",
   "language": "python",
   "name": "python3"
  },
  "language_info": {
   "codemirror_mode": {
    "name": "ipython",
    "version": 3
   },
   "file_extension": ".py",
   "mimetype": "text/x-python",
   "name": "python",
   "nbconvert_exporter": "python",
   "pygments_lexer": "ipython3",
   "version": "3.5.3"
  }
 },
 "nbformat": 4,
 "nbformat_minor": 2
}
