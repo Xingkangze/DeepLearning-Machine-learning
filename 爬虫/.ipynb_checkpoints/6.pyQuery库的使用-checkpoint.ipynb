{
 "cells": [
  {
   "cell_type": "markdown",
   "metadata": {},
   "source": [
    "# puQuery\n",
    "## 初始化 \n",
    "### 字符串初始化"
   ]
  },
  {
   "cell_type": "code",
   "execution_count": 6,
   "metadata": {},
   "outputs": [
    {
     "name": "stdout",
     "output_type": "stream",
     "text": [
      "<li class=\"item-0\">first item</li>\n",
      "         <li class=\"item-1\"><a href=\"link2.html\">second item</a></li>\n",
      "         <li class=\"item-0 active\"><a href=\"link3.html\"><span class=\"bold\">third item</span></a></li>\n",
      "         <li class=\"item-1 active\"><a href=\"link4.html\">fourth item</a></li>\n",
      "         <li class=\"item-0\"><a href=\"link5.html\">fifth item</a></li>\n",
      "     \n"
     ]
    }
   ],
   "source": [
    "html = '''\n",
    "<div>\n",
    "    <ul>\n",
    "         <li class=\"item-0\">first item</li>\n",
    "         <li class=\"item-1\"><a href=\"link2.html\">second item</a></li>\n",
    "         <li class=\"item-0 active\"><a href=\"link3.html\"><span class=\"bold\">third item</span></a></li>\n",
    "         <li class=\"item-1 active\"><a href=\"link4.html\">fourth item</a></li>\n",
    "         <li class=\"item-0\"><a href=\"link5.html\">fifth item</a></li>\n",
    "     </ul>\n",
    " </div>\n",
    "'''\n",
    "from pyquery import PyQuery as pq\n",
    "doc = pq(html)\n",
    "print(doc('li'))"
   ]
  },
  {
   "cell_type": "markdown",
   "metadata": {},
   "source": [
    "## URL 初始化"
   ]
  },
  {
   "cell_type": "code",
   "execution_count": 8,
   "metadata": {},
   "outputs": [
    {
     "name": "stdout",
     "output_type": "stream",
     "text": [
      "<head><meta http-equiv=\"content-type\" content=\"text/html;charset=utf-8\"/><meta http-equiv=\"X-UA-Compatible\" content=\"IE=Edge\"/><meta content=\"always\" name=\"referrer\"/><link rel=\"stylesheet\" type=\"text/css\" href=\"http://s1.bdstatic.com/r/www/cache/bdorz/baidu.min.css\"/><title>ç¾åº¦ä¸ä¸ï¼ä½ å°±ç¥é</title></head> \n"
     ]
    }
   ],
   "source": [
    "# 传入一个url  将返回的html进行初始化\n",
    "from pyquery import PyQuery as pq\n",
    "url = 'http://www.baidu.com'\n",
    "doc = pq(url)\n",
    "print(doc('head'))"
   ]
  },
  {
   "cell_type": "code",
   "execution_count": 10,
   "metadata": {},
   "outputs": [
    {
     "name": "stdout",
     "output_type": "stream",
     "text": [
      "<head><meta http-equiv=\"content-type\" content=\"text/html;charset=utf-8\"/><meta http-equiv=\"X-UA-Compatible\" content=\"IE=Edge\"/><meta content=\"always\" name=\"referrer\"/><link rel=\"stylesheet\" type=\"text/css\" href=\"http://s1.bdstatic.com/r/www/cache/bdorz/baidu.min.css\"/><title>ç¾åº¦ä¸ä¸ï¼ä½ å°±ç¥é</title></head> \n"
     ]
    }
   ],
   "source": [
    "# 上面的使用跟下面的使用是相同的\n",
    "import requests\n",
    "doc = pq(requests.get(url).text)\n",
    "print(doc('head'))"
   ]
  },
  {
   "cell_type": "code",
   "execution_count": 21,
   "metadata": {},
   "outputs": [],
   "source": [
    "with open('demo.html','w+') as f:\n",
    "    f.write(html)\n",
    "    f.close"
   ]
  },
  {
   "cell_type": "code",
   "execution_count": 25,
   "metadata": {},
   "outputs": [
    {
     "name": "stdout",
     "output_type": "stream",
     "text": [
      "\n",
      "<div>\n",
      "    <ul>\n",
      "         <li class=\"item-0\">first item</li>\n",
      "         <li class=\"item-1\"><a href=\"link2.html\">second item</a></li>\n",
      "         <li class=\"item-0 active\"><a href=\"link3.html\"><span class=\"bold\">third item</span></a></li>\n",
      "         <li class=\"item-1 active\"><a href=\"link4.html\">fourth item</a></li>\n",
      "         <li class=\"item-0\"><a href=\"link5.html\">fifth item</a></li>\n",
      "     </ul>\n",
      " </div>\n",
      "\n"
     ]
    }
   ],
   "source": [
    "with open('demo.html','r') as f:\n",
    "    print(f.read())"
   ]
  },
  {
   "cell_type": "markdown",
   "metadata": {},
   "source": [
    "## 文件初始化"
   ]
  },
  {
   "cell_type": "code",
   "execution_count": 28,
   "metadata": {},
   "outputs": [
    {
     "name": "stdout",
     "output_type": "stream",
     "text": [
      "<li class=\"item-0\">first item</li>\n",
      "         <li class=\"item-1\"><a href=\"link2.html\">second item</a></li>\n",
      "         <li class=\"item-0 active\"><a href=\"link3.html\"><span class=\"bold\">third item</span></a></li>\n",
      "         <li class=\"item-1 active\"><a href=\"link4.html\">fourth item</a></li>\n",
      "         <li class=\"item-0\"><a href=\"link5.html\">fifth item</a></li>\n",
      "     \n"
     ]
    }
   ],
   "source": [
    "from pyquery import PyQuery as pq\n",
    "doc = pq(filename='demo.html')\n",
    "print(doc('li'))"
   ]
  },
  {
   "cell_type": "markdown",
   "metadata": {},
   "source": [
    "# 基本的CSS选择器"
   ]
  },
  {
   "cell_type": "code",
   "execution_count": 37,
   "metadata": {},
   "outputs": [
    {
     "name": "stdout",
     "output_type": "stream",
     "text": [
      "<li class=\"item-0\">first item</li>\n",
      "         <li class=\"item-1\"><a href=\"link2.html\">second item</a></li>\n",
      "         <li class=\"item-0 active\"><a href=\"link3.html\"><span class=\"bold\">third item</span></a></li>\n",
      "         <li class=\"item-1 active\"><a href=\"link4.html\">fourth item</a></li>\n",
      "         <li class=\"item-0\"><a href=\"link5.html\">fifth item</a></li>\n",
      "     \n"
     ]
    }
   ],
   "source": [
    "html = '''\n",
    "<div id=\"contttt\">\n",
    "    <ul class=\"list\">\n",
    "         <li class=\"item-0\">first item</li>\n",
    "         <li class=\"item-1\"><a href=\"link2.html\">second item</a></li>\n",
    "         <li class=\"item-0 active\"><a href=\"link3.html\"><span class=\"bold\">third item</span></a></li>\n",
    "         <li class=\"item-1 active\"><a href=\"link4.html\">fourth item</a></li>\n",
    "         <li class=\"item-0\"><a href=\"link5.html\">fifth item</a></li>\n",
    "     </ul>\n",
    " </div>\n",
    "'''\n",
    "# 如果是id  前面加#  如果是 class 前面加.  如果是标签什么也不加 中间用空格隔开\n",
    "from pyquery import PyQuery as pq\n",
    "doc = pq(html)\n",
    "print(doc('#contttt .list li'))"
   ]
  },
  {
   "cell_type": "markdown",
   "metadata": {},
   "source": [
    "# 查找元素"
   ]
  },
  {
   "cell_type": "markdown",
   "metadata": {},
   "source": [
    "## 查找子元素"
   ]
  },
  {
   "cell_type": "code",
   "execution_count": 54,
   "metadata": {},
   "outputs": [
    {
     "name": "stdout",
     "output_type": "stream",
     "text": [
      "<ul class=\"list\">\n",
      "         <li class=\"item-0\">first item</li>\n",
      "             <li class=\"item-1\"><a href=\"link2.html\">second item</a></li>\n",
      "         <li class=\"item-0 active\"><a href=\"link3.html\"><span class=\"bold\">third item</span></a></li>\n",
      "         <li class=\"item-1 active\"><a href=\"link4.html\">fourth item</a></li>\n",
      "         <li class=\"item-0\"><a href=\"link5.html\">fifth item</a></li>\n",
      "     </ul>\n",
      " \n",
      "<class 'pyquery.pyquery.PyQuery'>\n",
      "<li class=\"item-0\">first item</li>\n",
      "             <li class=\"item-1\"><a href=\"link2.html\">second item</a></li>\n",
      "         <li class=\"item-0 active\"><a href=\"link3.html\"><span class=\"bold\">third item</span></a></li>\n",
      "         <li class=\"item-1 active\"><a href=\"link4.html\">fourth item</a></li>\n",
      "         <li class=\"item-0\"><a href=\"link5.html\">fifth item</a></li>\n",
      "     \n",
      "<class 'pyquery.pyquery.PyQuery'>\n",
      "<a href=\"link2.html\">second item</a><a href=\"link3.html\"><span class=\"bold\">third item</span></a><a href=\"link4.html\">fourth item</a><a href=\"link5.html\">fifth item</a>\n"
     ]
    }
   ],
   "source": [
    "# find 查找的是只要在他里面就行的元素\n",
    "html = '''\n",
    "<div id=\"contttt\">\n",
    "    <ul class=\"list\">\n",
    "         <li class=\"item-0\">first item</li>\n",
    "             <li class=\"item-1\"><a href=\"link2.html\">second item</a></li>\n",
    "         <li class=\"item-0 active\"><a href=\"link3.html\"><span class=\"bold\">third item</span></a></li>\n",
    "         <li class=\"item-1 active\"><a href=\"link4.html\">fourth item</a></li>\n",
    "         <li class=\"item-0\"><a href=\"link5.html\">fifth item</a></li>\n",
    "     </ul>\n",
    " </div>\n",
    "'''\n",
    "from pyquery import  PyQuery as pq\n",
    "doc = pq(html)\n",
    "item = doc('.list')\n",
    "print(item)\n",
    "print(type(item))\n",
    "lis = item.find('li')\n",
    "print(lis)\n",
    "print(type(lis))\n",
    "print(lis.find('a'))"
   ]
  },
  {
   "cell_type": "code",
   "execution_count": 57,
   "metadata": {},
   "outputs": [
    {
     "name": "stdout",
     "output_type": "stream",
     "text": [
      "<li class=\"item-0\">first item</li>\n",
      "             <li class=\"item-1\"><a href=\"link2.html\">second item</a></li>\n",
      "         <li class=\"item-0 active\"><a href=\"link3.html\"><span class=\"bold\">third item</span></a></li>\n",
      "         <li class=\"item-1 active\"><a href=\"link4.html\">fourth item</a></li>\n",
      "         <li class=\"item-0\"><a href=\"link5.html\">fifth item</a></li>\n",
      "     \n"
     ]
    }
   ],
   "source": [
    "# children查找的是直接子元素\n",
    "from pyquery import PyQuery as pq\n",
    "doc = pq(html)\n",
    "item = doc.find('.list')\n",
    "item.children()\n",
    "print(item.children())"
   ]
  },
  {
   "cell_type": "code",
   "execution_count": 60,
   "metadata": {},
   "outputs": [
    {
     "name": "stdout",
     "output_type": "stream",
     "text": [
      "<li class=\"item-0 active\"><a href=\"link3.html\"><span class=\"bold\">third item</span></a></li>\n",
      "         <li class=\"item-1 active\"><a href=\"link4.html\">fourth item</a></li>\n",
      "         \n"
     ]
    }
   ],
   "source": [
    "# children 中可以传入元素\n",
    "item.children('.active')\n",
    "print(item.children('.active'))"
   ]
  },
  {
   "cell_type": "markdown",
   "metadata": {},
   "source": [
    "## 父节点"
   ]
  },
  {
   "cell_type": "code",
   "execution_count": 67,
   "metadata": {},
   "outputs": [
    {
     "name": "stdout",
     "output_type": "stream",
     "text": [
      "<ul class=\"list\">\n",
      "         <li class=\"item-0\">first item</li>\n",
      "         <li class=\"item-1\"><a href=\"link2.html\">second item</a></li>\n",
      "         <li class=\"item-0 active\"><a href=\"link3.html\"><span class=\"bold\">third item</span></a></li>\n",
      "         <li class=\"item-1 active\"><a href=\"link4.html\">fourth item</a></li>\n",
      "         <li class=\"item-0\"><a href=\"link5.html\">fifth item</a></li>\n",
      "     </ul>\n",
      " \n",
      "<class 'pyquery.pyquery.PyQuery'>\n"
     ]
    }
   ],
   "source": [
    "# partent\n",
    "html = '''\n",
    "<div id=\"contttt\">\n",
    "    <ul class=\"list\">\n",
    "         <li class=\"item-0\">first item</li>\n",
    "         <li class=\"item-1\"><a href=\"link2.html\">second item</a></li>\n",
    "         <li class=\"item-0 active\"><a href=\"link3.html\"><span class=\"bold\">third item</span></a></li>\n",
    "         <li class=\"item-1 active\"><a href=\"link4.html\">fourth item</a></li>\n",
    "         <li class=\"item-0\"><a href=\"link5.html\">fifth item</a></li>\n",
    "     </ul>\n",
    " </div>\n",
    "'''\n",
    "from pyquery import PyQuery as pq\n",
    "doc = pq(html)\n",
    "item = doc('li')\n",
    "print(item.parent())\n",
    "print(type(item.parent()))"
   ]
  },
  {
   "cell_type": "code",
   "execution_count": 73,
   "metadata": {},
   "outputs": [
    {
     "name": "stdout",
     "output_type": "stream",
     "text": [
      "<div id=\"contttt\">\n",
      "    <ul class=\"list\">\n",
      "         <li class=\"item-0\">first item</li>\n",
      "         <li class=\"item-1\"><a href=\"link2.html\">second item</a></li>\n",
      "         <li class=\"item-0 active\"><a href=\"link3.html\"><span class=\"bold\">third item</span></a></li>\n",
      "         <li class=\"item-1 active\"><a href=\"link4.html\">fourth item</a></li>\n",
      "         <li class=\"item-0\"><a href=\"link5.html\">fifth item</a></li>\n",
      "     </ul>\n",
      " </div><ul class=\"list\">\n",
      "         <li class=\"item-0\">first item</li>\n",
      "         <li class=\"item-1\"><a href=\"link2.html\">second item</a></li>\n",
      "         <li class=\"item-0 active\"><a href=\"link3.html\"><span class=\"bold\">third item</span></a></li>\n",
      "         <li class=\"item-1 active\"><a href=\"link4.html\">fourth item</a></li>\n",
      "         <li class=\"item-0\"><a href=\"link5.html\">fifth item</a></li>\n",
      "     </ul>\n",
      " \n",
      "<class 'pyquery.pyquery.PyQuery'>\n"
     ]
    }
   ],
   "source": [
    "# partents\n",
    "html = '''\n",
    "<div id=\"contttt\">\n",
    "    <ul class=\"list\">\n",
    "         <li class=\"item-0\">first item</li>\n",
    "         <li class=\"item-1\"><a href=\"link2.html\">second item</a></li>\n",
    "         <li class=\"item-0 active\"><a href=\"link3.html\"><span class=\"bold\">third item</span></a></li>\n",
    "         <li class=\"item-1 active\"><a href=\"link4.html\">fourth item</a></li>\n",
    "         <li class=\"item-0\"><a href=\"link5.html\">fifth item</a></li>\n",
    "     </ul>\n",
    " </div>\n",
    "'''\n",
    "from pyquery import PyQuery as pq\n",
    "doc = pq(html)\n",
    "print(doc('li').parents())  # 可以看见有两个结果 他即将父类  祖父类都输出 先出大的\n",
    "print(type(doc('li').parents()))"
   ]
  },
  {
   "cell_type": "code",
   "execution_count": 76,
   "metadata": {},
   "outputs": [
    {
     "name": "stdout",
     "output_type": "stream",
     "text": [
      "<div id=\"contttt\">\n",
      "    <ul class=\"list\">\n",
      "         <li class=\"item-0\">first item</li>\n",
      "         <li class=\"item-1\"><a href=\"link2.html\">second item</a></li>\n",
      "         <li class=\"item-0 active\"><a href=\"link3.html\"><span class=\"bold\">third item</span></a></li>\n",
      "         <li class=\"item-1 active\"><a href=\"link4.html\">fourth item</a></li>\n",
      "         <li class=\"item-0\"><a href=\"link5.html\">fifth item</a></li>\n",
      "     </ul>\n",
      " </div>\n"
     ]
    }
   ],
   "source": [
    "# 我们还可以在partents 中传入参数\n",
    "doc= pq(html)\n",
    "print(doc('li').parents('#contttt')) # 就只会出现我们想要的"
   ]
  },
  {
   "cell_type": "markdown",
   "metadata": {},
   "source": [
    "## 兄弟元素"
   ]
  },
  {
   "cell_type": "code",
   "execution_count": 84,
   "metadata": {},
   "outputs": [
    {
     "name": "stdout",
     "output_type": "stream",
     "text": [
      "<li class=\"item-0 active\"><a href=\"link3.html\"><span class=\"bold\">third item</span></a></li>\n",
      "         \n",
      "<li class=\"item-1\"><a href=\"link2.html\">second item</a></li>\n",
      "         <li class=\"item-0\">first item</li>\n",
      "         <li class=\"item-1 active\"><a href=\"link4.html\">fourth item</a></li>\n",
      "         <li class=\"item-0\"><a href=\"link5.html\">fifth item</a></li>\n",
      "     \n"
     ]
    }
   ],
   "source": [
    "html = '''\n",
    "<div id=\"contttt\">\n",
    "    <ul class=\"list\">\n",
    "         <li class=\"item-0\">first item</li>\n",
    "         <li class=\"item-1\"><a href=\"link2.html\">second item</a></li>\n",
    "         <li class=\"item-0 active\"><a href=\"link3.html\"><span class=\"bold\">third item</span></a></li>\n",
    "         <li class=\"item-1 active\"><a href=\"link4.html\">fourth item</a></li>\n",
    "         <li class=\"item-0\"><a href=\"link5.html\">fifth item</a></li>\n",
    "     </ul>\n",
    " </div>\n",
    "'''\n",
    "from pyquery import PyQuery as pq\n",
    "doc = pq(html)\n",
    "print(doc('.list .item-0.active'))\n",
    "\n",
    "lis =doc('.list .item-0.active')\n",
    "print(lis.siblings())"
   ]
  },
  {
   "cell_type": "code",
   "execution_count": 87,
   "metadata": {},
   "outputs": [
    {
     "name": "stdout",
     "output_type": "stream",
     "text": [
      "<li class=\"item-1 active\"><a href=\"link4.html\">fourth item</a></li>\n",
      "         \n"
     ]
    }
   ],
   "source": [
    "# 同样也可以传入值\n",
    "from pyquery import PyQuery as pq\n",
    "doc = pq(html)\n",
    "print(doc('.list .item-0.active').siblings('.item-1.active'))"
   ]
  },
  {
   "cell_type": "markdown",
   "metadata": {},
   "source": [
    "# 遍历\n",
    "如果我们查出来多个元素 怎么将元素遍历出来"
   ]
  },
  {
   "cell_type": "code",
   "execution_count": 91,
   "metadata": {},
   "outputs": [
    {
     "name": "stdout",
     "output_type": "stream",
     "text": [
      "<li class=\"item-0 active\"><a href=\"link3.html\"><span class=\"bold\">third item</span></a></li>\n",
      "         \n",
      "<class 'pyquery.pyquery.PyQuery'>\n"
     ]
    }
   ],
   "source": [
    "html = '''\n",
    "<div id=\"contttt\">\n",
    "    <ul class=\"list\">\n",
    "         <li class=\"item-0\">first item</li>\n",
    "         <li class=\"item-1\"><a href=\"link2.html\">second item</a></li>\n",
    "         <li class=\"item-0 active\"><a href=\"link3.html\"><span class=\"bold\">third item</span></a></li>\n",
    "         <li class=\"item-1 active\"><a href=\"link4.html\">fourth item</a></li>\n",
    "         <li class=\"item-0\"><a href=\"link5.html\">fifth item</a></li>\n",
    "     </ul>\n",
    " </div>\n",
    "'''\n",
    "from pyquery import PyQuery as pq\n",
    "doc = pq(html)\n",
    "print(doc('.item-0.active'))\n",
    "print(type(doc('.item-0.active')))"
   ]
  },
  {
   "cell_type": "code",
   "execution_count": 96,
   "metadata": {},
   "outputs": [
    {
     "name": "stdout",
     "output_type": "stream",
     "text": [
      "<li class=\"item-0\">first item</li>\n",
      "         <li class=\"item-1\"><a href=\"link2.html\">second item</a></li>\n",
      "         <li class=\"item-0 active\"><a href=\"link3.html\"><span class=\"bold\">third item</span></a></li>\n",
      "         <li class=\"item-1 active\"><a href=\"link4.html\">fourth item</a></li>\n",
      "         <li class=\"item-0\"><a href=\"link5.html\">fifth item</a></li>\n",
      "     \n",
      "<class 'generator'>\n",
      "<li class=\"item-0\">first item</li>\n",
      "          0\n",
      "<li class=\"item-1\"><a href=\"link2.html\">second item</a></li>\n",
      "          1\n",
      "<li class=\"item-0 active\"><a href=\"link3.html\"><span class=\"bold\">third item</span></a></li>\n",
      "          2\n",
      "<li class=\"item-1 active\"><a href=\"link4.html\">fourth item</a></li>\n",
      "          3\n",
      "<li class=\"item-0\"><a href=\"link5.html\">fifth item</a></li>\n",
      "      4\n"
     ]
    }
   ],
   "source": [
    "# 可以将其循环遍历出来\n",
    "from pyquery import PyQuery as pq\n",
    "doc = pq(html)\n",
    "print(doc('li'))\n",
    "doc('li').items()\n",
    "print(type(doc('li').items()))\n",
    "for i,a in enumerate(doc('li').items()):\n",
    "    print(a,i)"
   ]
  },
  {
   "cell_type": "markdown",
   "metadata": {},
   "source": [
    "## 获取信息\n",
    "### 获取属性"
   ]
  },
  {
   "cell_type": "code",
   "execution_count": 103,
   "metadata": {},
   "outputs": [
    {
     "name": "stdout",
     "output_type": "stream",
     "text": [
      "<a href=\"link3.html\"><span class=\"bold\">third item</span></a>\n",
      "link3.html\n",
      "link3.html\n"
     ]
    }
   ],
   "source": [
    "html = '''\n",
    "<div id=\"contttt\">\n",
    "    <ul class=\"list\">\n",
    "         <li class=\"item-0\">first item</li>\n",
    "         <li class=\"item-1\"><a href=\"link2.html\">second item</a></li>\n",
    "         <li class=\"item-0 active\"><a href=\"link3.html\"><span class=\"bold\">third item</span></a></li>\n",
    "         <li class=\"item-1 active\"><a href=\"link4.html\">fourth item</a></li>\n",
    "         <li class=\"item-0\"><a href=\"link5.html\">fifth item</a></li>\n",
    "     </ul>\n",
    " </div>\n",
    "'''\n",
    "from pyquery import PyQuery as pq\n",
    "doc = pq(html)\n",
    "a = doc('.list .item-0.active a')\n",
    "print(a)\n",
    "print(a.attr('href'))\n",
    "print(a.attr.href)"
   ]
  },
  {
   "cell_type": "markdown",
   "metadata": {},
   "source": [
    "### 获取文本"
   ]
  },
  {
   "cell_type": "code",
   "execution_count": 122,
   "metadata": {},
   "outputs": [
    {
     "name": "stdout",
     "output_type": "stream",
     "text": [
      "first item\n",
      "second item\n",
      "third item\n",
      "fourth item\n",
      "fifth item\n",
      "first item\n",
      "second item\n",
      "third item\n",
      "fourth item\n",
      "fifth item\n"
     ]
    }
   ],
   "source": [
    "html = '''\n",
    "<div id=\"contttt\">\n",
    "    <ul class=\"list\">\n",
    "         <li class=\"item-0\">first item</li>\n",
    "         <li class=\"item-1\"><a href=\"link2.html\">second item</a></li>\n",
    "         <li class=\"item-0 active\"><a href=\"link3.html\"><span class=\"bold\">third item</span></a></li>\n",
    "         <li class=\"item-1 active\"><a href=\"link4.html\">fourth item</a></li>\n",
    "         <li class=\"item-0\"><a href=\"link5.html\">fifth item</a></li>\n",
    "     </ul>\n",
    " </div>\n",
    "'''\n",
    "from pyquery import PyQuery as pq\n",
    "doc = pq(html)\n",
    "print(doc('.list').text())\n",
    "\n",
    "print(doc('.list').text())"
   ]
  },
  {
   "cell_type": "markdown",
   "metadata": {},
   "source": [
    "### 获取html"
   ]
  },
  {
   "cell_type": "code",
   "execution_count": 142,
   "metadata": {},
   "outputs": [
    {
     "name": "stdout",
     "output_type": "stream",
     "text": [
      "<li class=\"item-0 active\"><a href=\"link3.html\"><span class=\"bold\">third item</span></a></li>\n",
      "         \n",
      "<a href=\"link3.html\"><span class=\"bold\">third item</span></a>\n",
      "<class 'str'>\n"
     ]
    }
   ],
   "source": [
    "html = '''\n",
    "<div id=\"contttt\">\n",
    "    <ul class=\"list\">\n",
    "         <li class=\"item-0\">first item</li>\n",
    "         <li class=\"item-1\"><a href=\"link2.html\">second item</a></li>\n",
    "         <li class=\"item-0 active\"><a href=\"link3.html\"><span class=\"bold\">third item</span></a></li>\n",
    "         <li class=\"item-1 active\"><a href=\"link4.html\">fourth item</a></li>\n",
    "         <li class=\"item-0\"><a href=\"link5.html\">fifth item</a></li>\n",
    "     </ul>\n",
    " </div>\n",
    "'''\n",
    "from pyquery import  PyQuery as pq\n",
    "doc = pq(html)\n",
    "li = doc('.list .item-0.active')\n",
    "print(li)\n",
    "print(li.html())\n",
    "print(type(li.html()))"
   ]
  },
  {
   "cell_type": "markdown",
   "metadata": {},
   "source": [
    "## DOM操作\n",
    "### addClass removeClass"
   ]
  },
  {
   "cell_type": "code",
   "execution_count": 148,
   "metadata": {},
   "outputs": [
    {
     "name": "stdout",
     "output_type": "stream",
     "text": [
      "<li class=\"item-1 active\"><a href=\"link4.html\">fourth item</a></li>\n",
      "         \n",
      "<li class=\"item-1\"><a href=\"link4.html\">fourth item</a></li>\n",
      "         \n",
      "<li class=\"item-1 active\"><a href=\"link4.html\">fourth item</a></li>\n",
      "         \n"
     ]
    }
   ],
   "source": [
    "html = '''\n",
    "<div id=\"contttt\">\n",
    "    <ul class=\"list\">\n",
    "         <li class=\"item-0\">first item</li>\n",
    "         <li class=\"item-1\"><a href=\"link2.html\">second item</a></li>\n",
    "         <li class=\"item-0 active\"><a href=\"link3.html\"><span class=\"bold\">third item</span></a></li>\n",
    "         <li class=\"item-1 active\"><a href=\"link4.html\">fourth item</a></li>\n",
    "         <li class=\"item-0\"><a href=\"link5.html\">fifth item</a></li>\n",
    "     </ul>\n",
    " </div>\n",
    "'''\n",
    "from pyquery import PyQuery as pq\n",
    "doc = pq(html)\n",
    "li = doc('.list .item-1.active')\n",
    "print(li)\n",
    "print(li.removeClass('active'))\n",
    "print(li.addClass('active'))"
   ]
  },
  {
   "cell_type": "markdown",
   "metadata": {},
   "source": [
    "## attr css\n",
    "所以说，如果attr()方法只传入第一个参数的属性名，则是获取这个属性值；如果传入第二个参数，可以用来修改属性值。text()和html()方法如果不传参数，则是获取节点内纯文本和HTML文本；如果传入参数，则进行赋值。"
   ]
  },
  {
   "cell_type": "code",
   "execution_count": 165,
   "metadata": {},
   "outputs": [
    {
     "name": "stdout",
     "output_type": "stream",
     "text": [
      "<li class=\"item-0 active\"><a href=\"link3.html\"><span class=\"bold\">third item</span></a></li>\n",
      "         \n",
      "<li class=\"item-0 active\" name=\"link\"><a href=\"link3.html\"><span class=\"bold\">third item</span></a></li>\n",
      "         \n",
      "<li class=\"item-0 active\" name=\"link\" style=\"find: 14px\"><a href=\"link3.html\"><span class=\"bold\">third item</span></a></li>\n",
      "         \n"
     ]
    }
   ],
   "source": [
    "html = '''\n",
    "<div id=\"contttt\">\n",
    "    <ul class=\"list\">\n",
    "         <li class=\"item-0\">first item</li>\n",
    "         <li class=\"item-1\"><a href=\"link2.html\">second item</a></li>\n",
    "         <li class=\"item-0 active\"><a href=\"link3.html\"><span class=\"bold\">third item</span></a></li>\n",
    "         <li class=\"item-1 active\"><a href=\"link4.html\">fourth item</a></li>\n",
    "         <li class=\"item-0\"><a href=\"link5.html\">fifth item</a></li>\n",
    "     </ul>\n",
    " </div>\n",
    "'''\n",
    "from pyquery import  PyQuery as pq\n",
    "doc = pq(html)\n",
    "li = doc('.item-0.active')\n",
    "print(li)\n",
    "# 增加属性\n",
    "print(li.attr('name','link'))\n",
    "# 增加css 增加style\n",
    "print(li.css('find' ,'14px'))"
   ]
  },
  {
   "cell_type": "markdown",
   "metadata": {},
   "source": [
    "## remove "
   ]
  },
  {
   "cell_type": "code",
   "execution_count": 173,
   "metadata": {},
   "outputs": [
    {
     "name": "stdout",
     "output_type": "stream",
     "text": [
      "<div class=\"wrap\">\n",
      "    Hello, World\n",
      "    <p>This is a paragraph.</p>\n",
      " </div>\n",
      "Hello, World\n",
      "This is a paragraph.\n",
      "\n",
      "Hello, World\n"
     ]
    }
   ],
   "source": [
    "# 如果我们只想要上面的语句  我们可以将这个标签都删除掉\n",
    "html = '''\n",
    "<div class=\"wrap\">\n",
    "    Hello, World\n",
    "    <p>This is a paragraph.</p>\n",
    " </div>\n",
    "'''\n",
    "from pyquery import PyQuery as pq\n",
    "doc = pq(html)\n",
    "wrap = doc('.wrap')\n",
    "print(wrap)\n",
    "print(wrap.text())\n",
    "wrap.remove('p')\n",
    "print()\n",
    "print(wrap.text())"
   ]
  },
  {
   "cell_type": "markdown",
   "metadata": {},
   "source": [
    "# 参考API网站\n",
    "## http://pyquery.readthedocs.io"
   ]
  },
  {
   "cell_type": "markdown",
   "metadata": {},
   "source": [
    "## 伪类选择器"
   ]
  },
  {
   "cell_type": "code",
   "execution_count": 185,
   "metadata": {},
   "outputs": [
    {
     "name": "stdout",
     "output_type": "stream",
     "text": [
      "<li class=\"item-0\">first item</li>\n",
      "             \n",
      "<li class=\"item-0\"><a href=\"link5.html\">fifth item</a></li>\n",
      "         \n",
      "<li class=\"item-1\"><a href=\"link2.html\">second item</a></li>\n",
      "             \n",
      "<li class=\"item-1 active\"><a href=\"link4.html\">fourth item</a></li>\n",
      "             <li class=\"item-0\"><a href=\"link5.html\">fifth item</a></li>\n",
      "         \n",
      "<li class=\"item-1\"><a href=\"link2.html\">second item</a></li>\n",
      "             <li class=\"item-1 active\"><a href=\"link4.html\">fourth item</a></li>\n",
      "             \n",
      "<li class=\"item-0\">first item</li>\n",
      "             <li class=\"item-0 active\"><a href=\"link3.html\"><span class=\"bold\">third item</span></a></li>\n",
      "             <li class=\"item-0\"><a href=\"link5.html\">fifth item</a></li>\n",
      "         \n",
      "<li class=\"item-1\"><a href=\"link2.html\">second item</a></li>\n",
      "             \n"
     ]
    }
   ],
   "source": [
    "html = '''\n",
    "<div class=\"wrap\">\n",
    "    <div id=\"container\">\n",
    "        <ul class=\"list\">\n",
    "             <li class=\"item-0\">first item</li>\n",
    "             <li class=\"item-1\"><a href=\"link2.html\">second item</a></li>\n",
    "             <li class=\"item-0 active\"><a href=\"link3.html\"><span class=\"bold\">third item</span></a></li>\n",
    "             <li class=\"item-1 active\"><a href=\"link4.html\">fourth item</a></li>\n",
    "             <li class=\"item-0\"><a href=\"link5.html\">fifth item</a></li>\n",
    "         </ul>\n",
    "     </div>\n",
    " </div>\n",
    "'''\n",
    "from pyquery import PyQuery as pq\n",
    "doc = pq(html)\n",
    "# 返回第一个 li 标签\n",
    "print(doc('li:first-child'))\n",
    "# 返回最后一个 li 标签\n",
    "print(doc('li:last-child'))\n",
    "# 返回第二个 li 标签\n",
    "print(doc('li:nth-child(2)'))\n",
    "# 返回跳过前两个后的 li 标签\n",
    "print(doc('li:gt(2)'))\n",
    "# 返回是 偶数的 li标签\n",
    "print(doc('li:nth-child(2n)'))\n",
    "# 返回是奇数的li标签\n",
    "print(doc('li:nth-child(2n+1)'))\n",
    "# 返回文本中包含second的 li标签\n",
    "print(doc('li:contains(second)'))"
   ]
  },
  {
   "cell_type": "markdown",
   "metadata": {},
   "source": [
    "## CSS选择器的更多用法，可以参考http://www.w3school.com.cn/css/index.asp"
   ]
  },
  {
   "cell_type": "markdown",
   "metadata": {},
   "source": [
    "## pyquery的官方文档：http://pyquery.readthedocs.io"
   ]
  },
  {
   "cell_type": "code",
   "execution_count": null,
   "metadata": {},
   "outputs": [],
   "source": []
  },
  {
   "cell_type": "code",
   "execution_count": null,
   "metadata": {},
   "outputs": [],
   "source": []
  }
 ],
 "metadata": {
  "kernelspec": {
   "display_name": "Python 3",
   "language": "python",
   "name": "python3"
  },
  "language_info": {
   "codemirror_mode": {
    "name": "ipython",
    "version": 3
   },
   "file_extension": ".py",
   "mimetype": "text/x-python",
   "name": "python",
   "nbconvert_exporter": "python",
   "pygments_lexer": "ipython3",
   "version": "3.5.3"
  }
 },
 "nbformat": 4,
 "nbformat_minor": 2
}
