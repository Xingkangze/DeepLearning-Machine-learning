{
 "cells": [
  {
   "cell_type": "code",
   "execution_count": 5,
   "metadata": {},
   "outputs": [],
   "source": [
    "import requests \n",
    "from requests.exceptions import RequestException\n",
    "def get_one_page(url):\n",
    "    try:\n",
    "        headers = {\n",
    "            'User-Agent': 'Mozilla/5.0 (Windows NT 10.0; Win64; x64) AppleWebKit/537.36 (KHTML, like Gecko) Chrome/67.0.3396.99 Safari/537.36'\n",
    "        }\n",
    "        response = requests.get(url,headers=headers)\n",
    "        if response.status_code == 200:\n",
    "            return response.text\n",
    "        return None\n",
    "    except RequestException as r:\n",
    "        return None"
   ]
  },
  {
   "cell_type": "code",
   "execution_count": 18,
   "metadata": {},
   "outputs": [],
   "source": [
    "from pyquery import PyQuery as pq\n",
    "def main():\n",
    "    url = 'https://maoyan.com/board/4'\n",
    "    html = get_one_page(url)\n",
    "    doc = pq(html)\n",
    "    dd =doc('dd ')\n",
    "    \n",
    "    print(dd.)"
   ]
  },
  {
   "cell_type": "code",
   "execution_count": 20,
   "metadata": {},
   "outputs": [
    {
     "name": "stdout",
     "output_type": "stream",
     "text": [
      "1\n",
      "霸王别姬\n",
      "主演：张国荣,张丰毅,巩俐\n",
      "上映时间：1993-01-01(中国香港)\n",
      "9.6 2\n",
      "肖申克的救赎\n",
      "主演：蒂姆·罗宾斯,摩根·弗里曼,鲍勃·冈顿\n",
      "上映时间：1994-10-14(美国)\n",
      "9.5 3\n",
      "罗马假日\n",
      "主演：格利高里·派克,奥黛丽·赫本,埃迪·艾伯特\n",
      "上映时间：1953-09-02(美国)\n",
      "9.1 4\n",
      "这个杀手不太冷\n",
      "主演：让·雷诺,加里·奥德曼,娜塔莉·波特曼\n",
      "上映时间：1994-09-14(法国)\n",
      "9.5 5\n",
      "教父\n",
      "主演：马龙·白兰度,阿尔·帕西诺,詹姆斯·肯恩\n",
      "上映时间：1972-03-24(美国)\n",
      "9.3 6\n",
      "泰坦尼克号\n",
      "主演：莱昂纳多·迪卡普里奥,凯特·温丝莱特,比利·赞恩\n",
      "上映时间：1998-04-03\n",
      "9.5 7\n",
      "龙猫\n",
      "主演：日高法子,坂本千夏,糸井重里\n",
      "上映时间：1988-04-16(日本)\n",
      "9.2 8\n",
      "唐伯虎点秋香\n",
      "主演：周星驰,巩俐,郑佩佩\n",
      "上映时间：1993-07-01(中国香港)\n",
      "9.2 9\n",
      "千与千寻\n",
      "主演：柊瑠美,入野自由,夏木真理\n",
      "上映时间：2001-07-20(日本)\n",
      "9.3 10\n",
      "魂断蓝桥\n",
      "主演：费雯·丽,罗伯特·泰勒,露塞尔·沃特森\n",
      "上映时间：1940-05-17(美国)\n",
      "9.2\n"
     ]
    }
   ],
   "source": [
    "main()"
   ]
  },
  {
   "cell_type": "code",
   "execution_count": 41,
   "metadata": {},
   "outputs": [
    {
     "name": "stdout",
     "output_type": "stream",
     "text": [
      "霸王别姬 肖申克的救赎 罗马假日 这个杀手不太冷 教父 泰坦尼克号 龙猫 唐伯虎点秋香 千与千寻 魂断蓝桥\n"
     ]
    }
   ],
   "source": [
    "url = 'https://maoyan.com/board/4'\n",
    "html = get_one_page(url)\n",
    "doc = pq(html)\n",
    "print(doc('dd p a').text())"
   ]
  },
  {
   "cell_type": "code",
   "execution_count": null,
   "metadata": {},
   "outputs": [],
   "source": []
  },
  {
   "cell_type": "code",
   "execution_count": null,
   "metadata": {},
   "outputs": [],
   "source": []
  }
 ],
 "metadata": {
  "kernelspec": {
   "display_name": "Python 3",
   "language": "python",
   "name": "python3"
  },
  "language_info": {
   "codemirror_mode": {
    "name": "ipython",
    "version": 3
   },
   "file_extension": ".py",
   "mimetype": "text/x-python",
   "name": "python",
   "nbconvert_exporter": "python",
   "pygments_lexer": "ipython3",
   "version": "3.5.3"
  }
 },
 "nbformat": 4,
 "nbformat_minor": 2
}
