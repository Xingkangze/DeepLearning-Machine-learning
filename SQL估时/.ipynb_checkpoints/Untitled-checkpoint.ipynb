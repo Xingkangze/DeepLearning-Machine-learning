{
 "cells": [
  {
   "cell_type": "code",
   "execution_count": 27,
   "metadata": {},
   "outputs": [],
   "source": [
    "import os\n",
    "import re"
   ]
  },
  {
   "cell_type": "code",
   "execution_count": 35,
   "metadata": {},
   "outputs": [
    {
     "name": "stdout",
     "output_type": "stream",
     "text": [
      "------------------------------QUERY PLAN DESCRIPTION:------------------------------explain select count(*) from rm_report_basicinfoAccess Path:+-GROUPBY NOTHING [Cost: 2, Rows: 1] (PATH ID: 1)|  Aggregates: count(*)|  Execute on: All Nodes| +---> STORAGE ACCESS for rm_report_basicinfo [Cost: 1, Rows: 25B (1 RLE)] (PATH ID: 2)| |      Projection: public.rm_report_basicinfo_DBD_1_seg_basic_b0| |      Execute on: All Nodes-----------------------------------------------------------------------------\n"
     ]
    }
   ],
   "source": [
    "with open('./SQL估时/plan1.txt') as a:\n",
    "    s = ''\n",
    "    lines = a.readlines()\n",
    "    lines = [x.strip() for x in lines]\n",
    "    lines = [x.strip() for x in lines if x.strip()!='']\n",
    "    lines = ''.join(lines)\n",
    "    lines = re.findall('(.*)PLAN: BASE QUERY PLAN \\(GraphViz Format\\)',lines)[0]\n",
    "    print(lines)"
   ]
  }
 ],
 "metadata": {
  "kernelspec": {
   "display_name": "Python 3",
   "language": "python",
   "name": "python3"
  },
  "language_info": {
   "codemirror_mode": {
    "name": "ipython",
    "version": 3
   },
   "file_extension": ".py",
   "mimetype": "text/x-python",
   "name": "python",
   "nbconvert_exporter": "python",
   "pygments_lexer": "ipython3",
   "version": "3.5.3"
  },
  "toc": {
   "base_numbering": 1,
   "nav_menu": {},
   "number_sections": true,
   "sideBar": true,
   "skip_h1_title": false,
   "title_cell": "Table of Contents",
   "title_sidebar": "Contents",
   "toc_cell": false,
   "toc_position": {},
   "toc_section_display": true,
   "toc_window_display": false
  }
 },
 "nbformat": 4,
 "nbformat_minor": 2
}
