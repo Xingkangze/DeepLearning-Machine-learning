{
 "cells": [
  {
   "cell_type": "markdown",
   "metadata": {},
   "source": [
    "# 多项式回归"
   ]
  },
  {
   "cell_type": "code",
   "execution_count": 2,
   "metadata": {},
   "outputs": [],
   "source": [
    "import numpy as np \n",
    "import matplotlib.pyplot as plt"
   ]
  },
  {
   "cell_type": "code",
   "execution_count": 3,
   "metadata": {
    "scrolled": true
   },
   "outputs": [
    {
     "data": {
      "text/plain": [
       "array([[ 1.20262273],\n",
       "       [ 2.06511986],\n",
       "       [ 1.05908602],\n",
       "       [ 1.36714834],\n",
       "       [ 2.70874774],\n",
       "       [-2.92378082],\n",
       "       [-0.51847381],\n",
       "       [-2.70712324],\n",
       "       [-2.40042863],\n",
       "       [ 0.04839783],\n",
       "       [-1.79851476],\n",
       "       [ 1.46492501],\n",
       "       [-1.84264798],\n",
       "       [ 1.20506851],\n",
       "       [-1.24063136],\n",
       "       [ 1.64687673],\n",
       "       [-2.96934697],\n",
       "       [-2.32285408],\n",
       "       [-2.33427797],\n",
       "       [-1.51399063],\n",
       "       [-2.8605822 ],\n",
       "       [ 1.36392693],\n",
       "       [-0.95979035],\n",
       "       [-1.81498106],\n",
       "       [ 2.45507756],\n",
       "       [ 2.87008191],\n",
       "       [ 0.19681526],\n",
       "       [-1.4452089 ],\n",
       "       [ 0.50287571],\n",
       "       [-1.04585608],\n",
       "       [ 2.33339588],\n",
       "       [ 0.75842716],\n",
       "       [ 1.91324214],\n",
       "       [ 0.28407252],\n",
       "       [-0.49972796],\n",
       "       [ 1.45828315],\n",
       "       [-0.78242171],\n",
       "       [-2.54900074],\n",
       "       [ 1.65115787],\n",
       "       [-1.68354453],\n",
       "       [-2.52394724],\n",
       "       [-0.07931687],\n",
       "       [-2.07795659],\n",
       "       [ 1.9707908 ],\n",
       "       [-1.85178859],\n",
       "       [-1.37754628],\n",
       "       [ 0.36620653],\n",
       "       [ 2.41428234],\n",
       "       [ 2.11073005],\n",
       "       [-0.49150824],\n",
       "       [-0.63914239],\n",
       "       [-2.90267692],\n",
       "       [-1.20471977],\n",
       "       [-0.87733069],\n",
       "       [ 2.36101599],\n",
       "       [ 1.71681942],\n",
       "       [ 1.62832155],\n",
       "       [-0.47967086],\n",
       "       [ 1.65615083],\n",
       "       [-0.21415114],\n",
       "       [-1.90937901],\n",
       "       [ 2.30415363],\n",
       "       [ 1.31275361],\n",
       "       [ 1.0312878 ],\n",
       "       [-1.4606182 ],\n",
       "       [-0.41518907],\n",
       "       [-2.90127854],\n",
       "       [-1.59003704],\n",
       "       [ 0.06702787],\n",
       "       [-1.24794456],\n",
       "       [ 0.01136105],\n",
       "       [-0.01036122],\n",
       "       [-2.37737086],\n",
       "       [-0.32134131],\n",
       "       [ 2.81513501],\n",
       "       [ 1.43082673],\n",
       "       [ 1.31730365],\n",
       "       [ 2.35826032],\n",
       "       [ 2.77604809],\n",
       "       [-1.81769863],\n",
       "       [ 1.28753979],\n",
       "       [-2.02845636],\n",
       "       [ 2.19752863],\n",
       "       [ 0.74292148],\n",
       "       [ 2.75673074],\n",
       "       [ 0.14485225],\n",
       "       [-2.78140273],\n",
       "       [ 1.36122947],\n",
       "       [-2.97654094],\n",
       "       [-2.69823599],\n",
       "       [ 2.9519539 ],\n",
       "       [-1.726455  ],\n",
       "       [ 2.68422399],\n",
       "       [-0.29075671],\n",
       "       [ 2.99276804],\n",
       "       [ 0.88500893],\n",
       "       [ 1.21344426],\n",
       "       [-0.42250941],\n",
       "       [-1.99335144],\n",
       "       [-2.29120144]])"
      ]
     },
     "execution_count": 3,
     "metadata": {},
     "output_type": "execute_result"
    }
   ],
   "source": [
    "np.random.seed(666)\n",
    "x = np.random.uniform(-3,3,size=100)\n",
    "X = x.reshape((-1,1))\n",
    "X"
   ]
  },
  {
   "cell_type": "code",
   "execution_count": 83,
   "metadata": {},
   "outputs": [],
   "source": [
    "y = 0.7*X**2+3*X+2+np.random.normal(0,1,size=(len(x))).reshape(-1,1)"
   ]
  },
  {
   "cell_type": "code",
   "execution_count": 84,
   "metadata": {},
   "outputs": [
    {
     "data": {
      "image/png": "[encoded data removed]",
      "text/plain": [
       "<matplotlib.figure.Figure at 0x1e2ee033400>"
      ]
     },
     "metadata": {},
     "output_type": "display_data"
    }
   ],
   "source": [
    "plt.scatter(X,y)\n",
    "plt.show()"
   ]
  },
  {
   "cell_type": "code",
   "execution_count": 85,
   "metadata": {},
   "outputs": [],
   "source": [
    "from sklearn.linear_model import LinearRegression"
   ]
  },
  {
   "cell_type": "code",
   "execution_count": 86,
   "metadata": {},
   "outputs": [
    {
     "data": {
      "text/plain": [
       "LinearRegression(copy_X=True, fit_intercept=True, n_jobs=1, normalize=False)"
      ]
     },
     "execution_count": 86,
     "metadata": {},
     "output_type": "execute_result"
    }
   ],
   "source": [
    "lin_reg = LinearRegression()\n",
    "lin_reg.fit(X,y)"
   ]
  },
  {
   "cell_type": "code",
   "execution_count": 87,
   "metadata": {},
   "outputs": [],
   "source": [
    "y_pridect = lin_reg.predict(X)"
   ]
  },
  {
   "cell_type": "code",
   "execution_count": 88,
   "metadata": {},
   "outputs": [
    {
     "data": {
      "text/plain": [
       "(100, 1)"
      ]
     },
     "execution_count": 88,
     "metadata": {},
     "output_type": "execute_result"
    }
   ],
   "source": [
    "y_pridect.shape"
   ]
  },
  {
   "cell_type": "code",
   "execution_count": 89,
   "metadata": {},
   "outputs": [
    {
     "data": {
      "text/plain": [
       "array([ 4.2716565])"
      ]
     },
     "execution_count": 89,
     "metadata": {},
     "output_type": "execute_result"
    }
   ],
   "source": [
    "lin_reg.intercept_"
   ]
  },
  {
   "cell_type": "code",
   "execution_count": 90,
   "metadata": {},
   "outputs": [
    {
     "data": {
      "text/plain": [
       "array([[ 2.8907006]])"
      ]
     },
     "execution_count": 90,
     "metadata": {},
     "output_type": "execute_result"
    }
   ],
   "source": [
    "lin_reg.coef_"
   ]
  },
  {
   "cell_type": "code",
   "execution_count": 92,
   "metadata": {},
   "outputs": [
    {
     "data": {
      "image/png": "[encoded data removed]",
      "text/plain": [
       "<matplotlib.figure.Figure at 0x1e2e3fbf550>"
      ]
     },
     "metadata": {},
     "output_type": "display_data"
    }
   ],
   "source": [
    "plt.scatter(X,y)\n",
    "plt.plot(X,y_pridect,color='r')\n",
    "plt.show()"
   ]
  },
  {
   "cell_type": "markdown",
   "metadata": {},
   "source": [
    "# 解决方案    添加一个特征"
   ]
  },
  {
   "cell_type": "code",
   "execution_count": 97,
   "metadata": {},
   "outputs": [],
   "source": [
    "X1= X**2"
   ]
  },
  {
   "cell_type": "code",
   "execution_count": 98,
   "metadata": {},
   "outputs": [],
   "source": [
    "X2 = np.hstack([X1,X])"
   ]
  },
  {
   "cell_type": "code",
   "execution_count": 99,
   "metadata": {
    "scrolled": true
   },
   "outputs": [
    {
     "data": {
      "text/plain": [
       "array([[  1.44630143e+00,   1.20262273e+00],\n",
       "       [  4.26472002e+00,   2.06511986e+00],\n",
       "       [  1.12166319e+00,   1.05908602e+00],\n",
       "       [  1.86909459e+00,   1.36714834e+00],\n",
       "       [  7.33731434e+00,   2.70874774e+00],\n",
       "       [  8.54849427e+00,  -2.92378082e+00],\n",
       "       [  2.68815089e-01,  -5.18473807e-01],\n",
       "       [  7.32851622e+00,  -2.70712324e+00],\n",
       "       [  5.76205762e+00,  -2.40042863e+00],\n",
       "       [  2.34235039e-03,   4.83978346e-02],\n",
       "       [  3.23465536e+00,  -1.79851476e+00],\n",
       "       [  2.14600529e+00,   1.46492501e+00],\n",
       "       [  3.39535158e+00,  -1.84264798e+00],\n",
       "       [  1.45219012e+00,   1.20506851e+00],\n",
       "       [  1.53916618e+00,  -1.24063136e+00],\n",
       "       [  2.71220295e+00,   1.64687673e+00],\n",
       "       [  8.81702141e+00,  -2.96934697e+00],\n",
       "       [  5.39565107e+00,  -2.32285408e+00],\n",
       "       [  5.44885363e+00,  -2.33427797e+00],\n",
       "       [  2.29216762e+00,  -1.51399063e+00],\n",
       "       [  8.18293055e+00,  -2.86058220e+00],\n",
       "       [  1.86029666e+00,   1.36392693e+00],\n",
       "       [  9.21197513e-01,  -9.59790348e-01],\n",
       "       [  3.29415625e+00,  -1.81498106e+00],\n",
       "       [  6.02740581e+00,   2.45507756e+00],\n",
       "       [  8.23737017e+00,   2.87008191e+00],\n",
       "       [  3.87362484e-02,   1.96815265e-01],\n",
       "       [  2.08862878e+00,  -1.44520890e+00],\n",
       "       [  2.52883983e-01,   5.02875713e-01],\n",
       "       [  1.09381495e+00,  -1.04585608e+00],\n",
       "       [  5.44473635e+00,   2.33339588e+00],\n",
       "       [  5.75211758e-01,   7.58427161e-01],\n",
       "       [  3.66049550e+00,   1.91324214e+00],\n",
       "       [  8.06971979e-02,   2.84072522e-01],\n",
       "       [  2.49728038e-01,  -4.99727964e-01],\n",
       "       [  2.12658975e+00,   1.45828315e+00],\n",
       "       [  6.12183740e-01,  -7.82421715e-01],\n",
       "       [  6.49740475e+00,  -2.54900074e+00],\n",
       "       [  2.72632231e+00,   1.65115787e+00],\n",
       "       [  2.83432220e+00,  -1.68354453e+00],\n",
       "       [  6.37030966e+00,  -2.52394724e+00],\n",
       "       [  6.29116598e-03,  -7.93168707e-02],\n",
       "       [  4.31790358e+00,  -2.07795659e+00],\n",
       "       [  3.88401638e+00,   1.97079080e+00],\n",
       "       [  3.42912099e+00,  -1.85178859e+00],\n",
       "       [  1.89763375e+00,  -1.37754628e+00],\n",
       "       [  1.34107220e-01,   3.66206527e-01],\n",
       "       [  5.82875921e+00,   2.41428234e+00],\n",
       "       [  4.45518135e+00,   2.11073005e+00],\n",
       "       [  2.41580347e-01,  -4.91508236e-01],\n",
       "       [  4.08502993e-01,  -6.39142388e-01],\n",
       "       [  8.42553330e+00,  -2.90267692e+00],\n",
       "       [  1.45134972e+00,  -1.20471977e+00],\n",
       "       [  7.69709135e-01,  -8.77330688e-01],\n",
       "       [  5.57439652e+00,   2.36101599e+00],\n",
       "       [  2.94746891e+00,   1.71681942e+00],\n",
       "       [  2.65143108e+00,   1.62832155e+00],\n",
       "       [  2.30084130e-01,  -4.79670856e-01],\n",
       "       [  2.74283557e+00,   1.65615083e+00],\n",
       "       [  4.58607102e-02,  -2.14151139e-01],\n",
       "       [  3.64572819e+00,  -1.90937901e+00],\n",
       "       [  5.30912394e+00,   2.30415363e+00],\n",
       "       [  1.72332203e+00,   1.31275361e+00],\n",
       "       [  1.06355453e+00,   1.03128780e+00],\n",
       "       [  2.13340554e+00,  -1.46061820e+00],\n",
       "       [  1.72381960e-01,  -4.15189065e-01],\n",
       "       [  8.41741717e+00,  -2.90127854e+00],\n",
       "       [  2.52821779e+00,  -1.59003704e+00],\n",
       "       [  4.49273495e-03,   6.70278670e-02],\n",
       "       [  1.55736562e+00,  -1.24794456e+00],\n",
       "       [  1.29073430e-04,   1.13610488e-02],\n",
       "       [  1.07354891e-04,  -1.03612205e-02],\n",
       "       [  5.65189218e+00,  -2.37737086e+00],\n",
       "       [  1.03260236e-01,  -3.21341307e-01],\n",
       "       [  7.92498513e+00,   2.81513501e+00],\n",
       "       [  2.04726513e+00,   1.43082673e+00],\n",
       "       [  1.73528890e+00,   1.31730365e+00],\n",
       "       [  5.56139173e+00,   2.35826032e+00],\n",
       "       [  7.70644298e+00,   2.77604809e+00],\n",
       "       [  3.30402832e+00,  -1.81769863e+00],\n",
       "       [  1.65775870e+00,   1.28753979e+00],\n",
       "       [  4.11463522e+00,  -2.02845636e+00],\n",
       "       [  4.82913208e+00,   2.19752863e+00],\n",
       "       [  5.51932331e-01,   7.42921484e-01],\n",
       "       [  7.59956438e+00,   2.75673074e+00],\n",
       "       [  2.09821753e-02,   1.44852253e-01],\n",
       "       [  7.73620115e+00,  -2.78140273e+00],\n",
       "       [  1.85294567e+00,   1.36122947e+00],\n",
       "       [  8.85979595e+00,  -2.97654094e+00],\n",
       "       [  7.28047747e+00,  -2.69823599e+00],\n",
       "       [  8.71403180e+00,   2.95195390e+00],\n",
       "       [  2.98064686e+00,  -1.72645500e+00],\n",
       "       [  7.20505842e+00,   2.68422399e+00],\n",
       "       [  8.45394627e-02,  -2.90756707e-01],\n",
       "       [  8.95666052e+00,   2.99276804e+00],\n",
       "       [  7.83240815e-01,   8.85008935e-01],\n",
       "       [  1.47244697e+00,   1.21344426e+00],\n",
       "       [  1.78514199e-01,  -4.22509407e-01],\n",
       "       [  3.97344997e+00,  -1.99335144e+00],\n",
       "       [  5.24960403e+00,  -2.29120144e+00]])"
      ]
     },
     "execution_count": 99,
     "metadata": {},
     "output_type": "execute_result"
    }
   ],
   "source": [
    "X2"
   ]
  },
  {
   "cell_type": "code",
   "execution_count": 108,
   "metadata": {},
   "outputs": [
    {
     "data": {
      "text/plain": [
       "(100, 1)"
      ]
     },
     "execution_count": 108,
     "metadata": {},
     "output_type": "execute_result"
    }
   ],
   "source": [
    "lin_reg2 = LinearRegression()\n",
    "lin_reg2.fit(X2,y)\n",
    "y2_predict = lin_reg2.predict(X2)\n",
    "y2_predict.shape"
   ]
  },
  {
   "cell_type": "code",
   "execution_count": 117,
   "metadata": {},
   "outputs": [
    {
     "data": {
      "image/png": "[encoded data removed]",
      "text/plain": [
       "<matplotlib.figure.Figure at 0x1e2f01445f8>"
      ]
     },
     "metadata": {},
     "output_type": "display_data"
    }
   ],
   "source": [
    "plt.scatter(X,y)\n",
    "plt.plot(np.sort(x),y2_predict[np.argsort(x)],color='r')\n",
    "plt.show()"
   ]
  },
  {
   "cell_type": "code",
   "execution_count": 118,
   "metadata": {},
   "outputs": [
    {
     "data": {
      "text/plain": [
       "array([ 1.82628447])"
      ]
     },
     "execution_count": 118,
     "metadata": {},
     "output_type": "execute_result"
    }
   ],
   "source": [
    "lin_reg2.intercept_"
   ]
  },
  {
   "cell_type": "code",
   "execution_count": 119,
   "metadata": {},
   "outputs": [
    {
     "data": {
      "text/plain": [
       "array([[ 0.73825085,  2.96072695]])"
      ]
     },
     "execution_count": 119,
     "metadata": {},
     "output_type": "execute_result"
    }
   ],
   "source": [
    "lin_reg2.coef_"
   ]
  },
  {
   "cell_type": "code",
   "execution_count": null,
   "metadata": {},
   "outputs": [],
   "source": [
    "#对我们的数据集进行升维"
   ]
  }
 ],
 "metadata": {
  "kernelspec": {
   "display_name": "Python 3",
   "language": "python",
   "name": "python3"
  },
  "language_info": {
   "codemirror_mode": {
    "name": "ipython",
    "version": 3
   },
   "file_extension": ".py",
   "mimetype": "text/x-python",
   "name": "python",
   "nbconvert_exporter": "python",
   "pygments_lexer": "ipython3",
   "version": "3.5.3"
  }
 },
 "nbformat": 4,
 "nbformat_minor": 2
}
