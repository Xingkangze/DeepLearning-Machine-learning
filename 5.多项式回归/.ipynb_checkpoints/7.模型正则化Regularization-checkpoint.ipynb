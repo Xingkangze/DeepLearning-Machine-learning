{
 "cells": [
  {
   "cell_type": "markdown",
   "metadata": {},
   "source": [
    "# 模型正则化    Regularization"
   ]
  },
  {
   "cell_type": "code",
   "execution_count": 1,
   "metadata": {},
   "outputs": [],
   "source": [
    "#就是限制我们的theta的大小\n",
    "import numpy as np\n",
    "import matplotlib.pyplot as plt"
   ]
  },
  {
   "cell_type": "code",
   "execution_count": 2,
   "metadata": {},
   "outputs": [],
   "source": [
    "x = np.random.uniform(-3,3,100)\n",
    "X = x.reshape(-1,1)\n",
    "y = 0.5*x**2 + x + 2 +np.random.normal(0,1,size=len(x))"
   ]
  },
  {
   "cell_type": "markdown",
   "metadata": {},
   "source": [
    "# 过拟合"
   ]
  },
  {
   "cell_type": "code",
   "execution_count": 4,
   "metadata": {},
   "outputs": [],
   "source": [
    "from sklearn.preprocessing import PolynomialFeatures\n",
    "from sklearn.preprocessing import StandardScaler\n",
    "from sklearn.pipeline import  Pipeline\n",
    "from sklearn.linear_model import  LinearRegression"
   ]
  },
  {
   "cell_type": "code",
   "execution_count": 13,
   "metadata": {},
   "outputs": [],
   "source": [
    "lin_reg = LinearRegression()\n",
    "def PolynomialRegression(degree):\n",
    "    return Pipeline(\n",
    "    [\n",
    "        ('poly',PolynomialFeatures(degree=degree)),\n",
    "        ('std_scaler',StandardScaler()),\n",
    "        ('lin_reg',lin_reg)\n",
    "    ])"
   ]
  },
  {
   "cell_type": "code",
   "execution_count": 14,
   "metadata": {},
   "outputs": [],
   "source": [
    "from sklearn.metrics import mean_squared_error"
   ]
  },
  {
   "cell_type": "code",
   "execution_count": 15,
   "metadata": {},
   "outputs": [
    {
     "data": {
      "text/plain": [
       "0.77594413122267936"
      ]
     },
     "execution_count": 15,
     "metadata": {},
     "output_type": "execute_result"
    }
   ],
   "source": [
    "poly_degree100 = PolynomialRegression(degree=100)\n",
    "poly_degree100.fit(X,y)\n",
    "\n",
    "y100_pridect = poly_degree100.predict(X)\n",
    "mean_squared_error(y100_pridect,y)"
   ]
  },
  {
   "cell_type": "code",
   "execution_count": 16,
   "metadata": {},
   "outputs": [],
   "source": [
    "X_plot = np.linspace(-3,3,100).reshape(-1,1)\n",
    "y_plot = poly_degree100.predict(X_plot)"
   ]
  },
  {
   "cell_type": "code",
   "execution_count": 18,
   "metadata": {},
   "outputs": [
    {
     "data": {
      "image/png": "[encoded data removed]",
      "text/plain": [
       "<matplotlib.figure.Figure at 0x27e99bde048>"
      ]
     },
     "metadata": {},
     "output_type": "display_data"
    }
   ],
   "source": [
    "plt.scatter(X,y,label='a')\n",
    "plt.plot(X_plot,y_plot,label='quxian',color='r')\n",
    "plt.axis([-3,3,0,10])\n",
    "plt.legend()\n",
    "plt.show()"
   ]
  },
  {
   "cell_type": "code",
   "execution_count": 19,
   "metadata": {},
   "outputs": [
    {
     "data": {
      "text/plain": [
       "array([ -4.79906951e+10,   1.04727964e+01,   7.54035114e+01,\n",
       "        -1.73112153e+03,  -1.11388920e+04,   1.27179360e+05,\n",
       "         6.05107989e+05,  -4.83270812e+06,  -1.83347657e+07,\n",
       "         1.10314807e+08,   3.55598591e+08,  -1.64700533e+09,\n",
       "        -4.70485629e+09,   1.69034227e+10,   4.39510424e+10,\n",
       "        -1.22601098e+11,  -2.95034602e+11,   6.35634475e+11,\n",
       "         1.42880196e+12,  -2.34605611e+12,  -4.93422084e+12,\n",
       "         6.01464530e+12,   1.17145389e+13,  -1.00491293e+13,\n",
       "        -1.73858927e+13,   9.10340435e+12,   1.13716793e+13,\n",
       "        -8.11321839e+11,   6.65113725e+12,  -5.45986614e+12,\n",
       "        -1.24962415e+13,   1.20407661e+12,  -5.32119028e+12,\n",
       "         2.96243719e+12,   1.00989695e+13,   5.31092196e+11,\n",
       "         8.90613059e+12,  -7.15252476e+11,  -3.27278448e+12,\n",
       "        -1.37332686e+11,  -1.08354894e+13,  -1.25692878e+12,\n",
       "        -6.21003711e+12,  -2.06067472e+12,   3.17745799e+12,\n",
       "        -1.79402245e+12,   8.40418197e+12,   1.14727164e+12,\n",
       "         7.02177697e+12,   4.16477388e+12,   1.32769335e+12,\n",
       "         5.42757857e+12,  -3.34441923e+12,   2.94083233e+12,\n",
       "        -5.22539724e+12,  -1.21070076e+12,  -4.04040486e+12,\n",
       "        -5.64800942e+12,  -1.61463116e+12,  -7.43780017e+12,\n",
       "         1.43738913e+11,  -6.32897461e+12,   2.19739858e+11,\n",
       "        -3.07564137e+12,  -4.49476669e+11,   9.69917711e+11,\n",
       "        -1.34166706e+12,   4.24267615e+12,  -1.24974162e+12,\n",
       "         6.03950303e+12,  -2.75034458e+11,   5.25645004e+12,\n",
       "         2.20554636e+12,   3.84119598e+12,   4.38974539e+12,\n",
       "         1.51336769e+12,   5.71321051e+12,   2.04880581e+10,\n",
       "         6.16120772e+12,  -6.10882590e+11,   4.60928336e+12,\n",
       "         1.02773848e+11,   2.38466394e+12,   1.20845351e+12,\n",
       "        -5.38046407e+11,   2.66900262e+12,  -2.66678947e+12,\n",
       "         3.27917185e+12,  -3.82664484e+12,   2.11376191e+12,\n",
       "        -2.87738853e+12,   8.55729939e+10,  -1.47504308e+12,\n",
       "        -2.98637650e+12,   6.64196725e+11,  -5.38586730e+12,\n",
       "         1.62335305e+12,  -6.00435032e+12,  -4.67557320e+11,\n",
       "        -2.01457581e+12,  -8.09664748e+12])"
      ]
     },
     "execution_count": 19,
     "metadata": {},
     "output_type": "execute_result"
    }
   ],
   "source": [
    "lin_reg.coef_"
   ]
  },
  {
   "cell_type": "code",
   "execution_count": null,
   "metadata": {},
   "outputs": [],
   "source": [
    "# 我们的模型正则化就是为了抑制我们的参数过大"
   ]
  },
  {
   "cell_type": "code",
   "execution_count": null,
   "metadata": {},
   "outputs": [],
   "source": []
  },
  {
   "cell_type": "code",
   "execution_count": null,
   "metadata": {},
   "outputs": [],
   "source": []
  },
  {
   "cell_type": "code",
   "execution_count": null,
   "metadata": {},
   "outputs": [],
   "source": []
  }
 ],
 "metadata": {
  "kernelspec": {
   "display_name": "Python 3",
   "language": "python",
   "name": "python3"
  },
  "language_info": {
   "codemirror_mode": {
    "name": "ipython",
    "version": 3
   },
   "file_extension": ".py",
   "mimetype": "text/x-python",
   "name": "python",
   "nbconvert_exporter": "python",
   "pygments_lexer": "ipython3",
   "version": "3.5.3"
  }
 },
 "nbformat": 4,
 "nbformat_minor": 2
}
