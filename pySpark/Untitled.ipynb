{
 "cells": [
  {
   "cell_type": "code",
   "execution_count": 1,
   "metadata": {},
   "outputs": [],
   "source": [
    "from pyspark import SparkConf,SparkContext\n",
    "\n",
    "from pyspark.sql.types import *\n",
    "from pyspark.sql import SparkSession\n",
    "\n",
    "conf = SparkConf().setMaster('local').setAppName('my app')\n",
    "sc = SparkContext(conf=conf)\n",
    "\n",
    "spark = SparkSession.builder.master(\"local\").appName(\"work\").config(\"spark.some.config.option\", \"some-value\").getOrCreate()\n",
    "\n",
    " # 读取方式：spark直接读文件地址\n",
    "header = \"false\"   # 是否有表头\n",
    "# 待读入的源路径\n",
    "source_csv_dir = \"数据路径\"\n",
    "df = spark.read.format('com.databricks.spark.csv').options(header=header, inferschema='true').load(source_csv_dir)\n",
    "\n",
    "\n",
    "schema = StructType([\n",
    "    StructField('user_log_acct',LongType(),True),\n",
    "    StructField('key_word',StringType(),True),\n",
    "    StructField('high_value',LongType(),True),\n",
    "    StructField('request',StringType(),True)\n",
    "])"
   ]
  },
  {
   "cell_type": "code",
   "execution_count": null,
   "metadata": {},
   "outputs": [],
   "source": [
    "# 创建临时表\n",
    "swimmersJSON.createOrReplaceTempView('swimmersJsontable')\n",
    "spark.sql('select * from swimmersJsontable').show()"
   ]
  },
  {
   "cell_type": "code",
   "execution_count": 1,
   "metadata": {},
   "outputs": [],
   "source": [
    "from pyspark import SparkConf,SparkContext\n",
    "from pyspark.sql import Window\n",
    "from pyspark.sql.types import *\n",
    "from pyspark.sql import SparkSession\n",
    "\n",
    "conf = SparkConf().setMaster('local').setAppName('my app')\n",
    "sc = SparkContext(conf=conf)\n",
    "spark = SparkSession.builder.master(\"local\").appName(\"work\").config(\"spark.some.config.option\", \"some-value\").getOrCreate()\n",
    "\n",
    "rdd1 = sc.parallelize([('牛奶+进口','12215,9434,13604'),('除湿','15932,8302,1661'),('除湿','15932,1283,1661'),('除湿','15932,1283,1661')])\n",
    "schema1 = StructType([\n",
    "    StructField(\"key_word\", StringType(), True),\n",
    "    StructField(\"high_value\", StringType(), True)\n",
    "])\n",
    "df1 = spark.createDataFrame(rdd1, schema1)\n",
    "\n",
    "\n",
    "rdd2 = sc.parallelize([(3998,'15932'),(6909,'8302'),(4565,'12215'),(12345,'1661')])\n",
    "schema2 = StructType([\n",
    "    StructField(\"brand_cd\", IntegerType(), True),\n",
    "    StructField(\"item\", StringType(), True)\n",
    "])\n",
    "df2 = spark.createDataFrame(rdd2, schema2)\n"
   ]
  },
  {
   "cell_type": "code",
   "execution_count": 2,
   "metadata": {},
   "outputs": [
    {
     "name": "stdout",
     "output_type": "stream",
     "text": [
      "+--------+----------------+\n",
      "|key_word|      high_value|\n",
      "+--------+----------------+\n",
      "|   牛奶+进口|12215,9434,13604|\n",
      "|      除湿| 15932,8302,1661|\n",
      "|      除湿| 15932,1283,1661|\n",
      "|      除湿| 15932,1283,1661|\n",
      "+--------+----------------+\n",
      "\n"
     ]
    }
   ],
   "source": [
    "df1.show()"
   ]
  },
  {
   "cell_type": "code",
   "execution_count": 3,
   "metadata": {},
   "outputs": [
    {
     "name": "stdout",
     "output_type": "stream",
     "text": [
      "+--------+-----+\n",
      "|brand_cd| item|\n",
      "+--------+-----+\n",
      "|    3998|15932|\n",
      "|    6909| 8302|\n",
      "|    4565|12215|\n",
      "|   12345| 1661|\n",
      "+--------+-----+\n",
      "\n"
     ]
    }
   ],
   "source": [
    "df2.show()"
   ]
  },
  {
   "cell_type": "code",
   "execution_count": 20,
   "metadata": {},
   "outputs": [
    {
     "name": "stdout",
     "output_type": "stream",
     "text": [
      "+--------+--------+---+---------+\n",
      "|brand_cd|key_word|  c|        d|\n",
      "+--------+--------+---+---------+\n",
      "|    6909|      除湿|  1|   6909除湿|\n",
      "|   12345|      除湿|  3|  12345除湿|\n",
      "|    4565|   牛奶+进口|  1|4565牛奶+进口|\n",
      "|    3998|      除湿|  3|   3998除湿|\n",
      "+--------+--------+---+---------+\n",
      "\n"
     ]
    }
   ],
   "source": []
  },
  {
   "cell_type": "code",
   "execution_count": 15,
   "metadata": {},
   "outputs": [
    {
     "name": "stdout",
     "output_type": "stream",
     "text": [
      "+--------+--------+-----------+---+\n",
      "|brand_cd|key_word|chaxunliang| rn|\n",
      "+--------+--------+-----------+---+\n",
      "|    6909|      除湿|          1|  1|\n",
      "|   12345|      除湿|          3|  1|\n",
      "|    4565|   牛奶+进口|          1|  1|\n",
      "|    3998|      除湿|          3|  1|\n",
      "+--------+--------+-----------+---+\n",
      "\n"
     ]
    }
   ],
   "source": [
    "df1.createOrReplaceTempView('guanjianci')\n",
    "df2.createOrReplaceTempView('pinpaibiao')\n",
    "spark.sql(\n",
    "    '''\n",
    "select brand_cd, key_word,chaxunliang,rn from \n",
    "(\n",
    "select   brand_cd, key_word,chaxunliang,row_number() over(partition by  brand_cd, key_word  order by chaxunliang desc) as rn  from\n",
    "(\n",
    "select brand_cd, key_word ,count(*) as chaxunliang  from  guanjianci a   join pinpaibiao b  on ','||a.high_value||','  like '%,' || b.item || ',%'\n",
    "    group by 1,2 ) a)b where rn<=20\n",
    "    '''\n",
    ").show()  \n",
    "        \n",
    "        \n",
    "        \n",
    "spark.sql(\n",
    "    '''\n",
    "select brand_cd, key_word,查询量,rn from \n",
    "(\n",
    "select   brand_cd, key_word,查询量,row_number() over(partition by  brand_cd, key_word  order by 查询量 desc) as rn  from\n",
    "(\n",
    "select brand_cd, key_word ,count(*) as 查询量  from  guanjianci a   join pinpai b  on ','||a.high_value||','  like '%,' || b.ite_third_cate_cd || ',%'\n",
    "    group by 1,2 ) a)b where rn<=20\n",
    "    '''\n",
    ").show()        "
   ]
  },
  {
   "cell_type": "code",
   "execution_count": null,
   "metadata": {},
   "outputs": [],
   "source": []
  }
 ],
 "metadata": {
  "kernelspec": {
   "display_name": "Python 3",
   "language": "python",
   "name": "python3"
  },
  "language_info": {
   "codemirror_mode": {
    "name": "ipython",
    "version": 3
   },
   "file_extension": ".py",
   "mimetype": "text/x-python",
   "name": "python",
   "nbconvert_exporter": "python",
   "pygments_lexer": "ipython3",
   "version": "3.5.3"
  }
 },
 "nbformat": 4,
 "nbformat_minor": 2
}
