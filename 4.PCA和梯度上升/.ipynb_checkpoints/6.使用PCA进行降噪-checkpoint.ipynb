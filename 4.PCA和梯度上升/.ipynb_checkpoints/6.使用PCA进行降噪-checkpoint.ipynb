{
 "cells": [
  {
   "cell_type": "markdown",
   "metadata": {},
   "source": [
    "# 使用PCA进行降噪"
   ]
  },
  {
   "cell_type": "code",
   "execution_count": 2,
   "metadata": {},
   "outputs": [],
   "source": [
    "import numpy as  np\n",
    "import matplotlib.pyplot as plt"
   ]
  },
  {
   "cell_type": "code",
   "execution_count": 4,
   "metadata": {
    "collapsed": true
   },
   "outputs": [
    {
     "data": {
      "text/plain": [
       "array([[  0.00000000e+000,   3.16202013e-322],\n",
       "       [  9.84207525e-315,   9.88131292e-323],\n",
       "       [  0.00000000e+000,   0.00000000e+000],\n",
       "       [  0.00000000e+000,   0.00000000e+000],\n",
       "       [  0.00000000e+000,   0.00000000e+000],\n",
       "       [  6.20528100e-179,   1.29729467e-311],\n",
       "       [  1.29729467e-311,   1.83585079e-280],\n",
       "       [  0.00000000e+000,   0.00000000e+000],\n",
       "       [  3.69858371e-027,   0.00000000e+000],\n",
       "       [  0.00000000e+000,  -2.77110842e+160],\n",
       "       [  0.00000000e+000,   0.00000000e+000],\n",
       "       [  0.00000000e+000,   0.00000000e+000],\n",
       "       [  0.00000000e+000,   1.27594772e+231],\n",
       "       [  1.29729467e-311,   1.29729468e-311],\n",
       "       [ -1.51063483e+223,   0.00000000e+000],\n",
       "       [  0.00000000e+000,   1.88726669e-138],\n",
       "       [  0.00000000e+000,   0.00000000e+000],\n",
       "       [ -1.65775894e-257,   0.00000000e+000],\n",
       "       [  0.00000000e+000,   6.24104266e-049],\n",
       "       [  1.29729468e-311,   1.29729477e-311],\n",
       "       [ -6.64255658e-056,   1.29729467e-311],\n",
       "       [  1.29729468e-311,  -2.16012829e+054],\n",
       "       [  1.29729468e-311,   1.29729467e-311],\n",
       "       [ -7.28354354e+100,   1.29729468e-311],\n",
       "       [  1.29729468e-311,  -1.56894553e+308],\n",
       "       [  0.00000000e+000,   0.00000000e+000],\n",
       "       [  7.25995517e-177,   1.29729468e-311],\n",
       "       [  1.29729468e-311,   5.82224010e-083],\n",
       "       [  0.00000000e+000,   0.00000000e+000],\n",
       "       [  1.90090031e-272,   0.00000000e+000],\n",
       "       [  0.00000000e+000,   4.46070572e+257],\n",
       "       [  1.29729467e-311,   1.29729467e-311],\n",
       "       [ -1.45456833e-010,   0.00000000e+000],\n",
       "       [  0.00000000e+000,   2.45175694e+300],\n",
       "       [  1.29729467e-311,   1.29729467e-311],\n",
       "       [ -8.49333132e+011,   1.29729468e-311],\n",
       "       [  1.29729468e-311,  -1.51072978e-186],\n",
       "       [  1.29729468e-311,   1.29729468e-311],\n",
       "       [  1.18701623e+294,   0.00000000e+000],\n",
       "       [  0.00000000e+000,   1.75536629e+205],\n",
       "       [  1.29729467e-311,   1.29729468e-311],\n",
       "       [ -1.62870133e+072,   0.00000000e+000],\n",
       "       [  0.00000000e+000,   1.85797866e-159],\n",
       "       [  1.29729467e-311,   1.29729468e-311],\n",
       "       [ -5.77822668e-135,   0.00000000e+000],\n",
       "       [  0.00000000e+000,   0.00000000e+000],\n",
       "       [  0.00000000e+000,   0.00000000e+000],\n",
       "       [  0.00000000e+000,   0.00000000e+000],\n",
       "       [  0.00000000e+000,   0.00000000e+000],\n",
       "       [  0.00000000e+000,   0.00000000e+000],\n",
       "       [  0.00000000e+000,   0.00000000e+000],\n",
       "       [  0.00000000e+000,   0.00000000e+000],\n",
       "       [  0.00000000e+000,   0.00000000e+000],\n",
       "       [ -5.71710514e+114,   1.29729467e-311],\n",
       "       [  1.29729468e-311,   5.13537972e+297],\n",
       "       [  0.00000000e+000,   0.00000000e+000],\n",
       "       [  0.00000000e+000,   0.00000000e+000],\n",
       "       [  0.00000000e+000,   0.00000000e+000],\n",
       "       [  0.00000000e+000,   0.00000000e+000],\n",
       "       [ -6.59963140e-008,   0.00000000e+000],\n",
       "       [  0.00000000e+000,   6.41616771e-195],\n",
       "       [  0.00000000e+000,   0.00000000e+000],\n",
       "       [  6.21777104e-054,   0.00000000e+000],\n",
       "       [  0.00000000e+000,   3.65385255e-235],\n",
       "       [  0.00000000e+000,   0.00000000e+000],\n",
       "       [ -7.26458013e-298,   0.00000000e+000],\n",
       "       [  0.00000000e+000,  -1.23786037e+256],\n",
       "       [  1.29729467e-311,   1.29729467e-311],\n",
       "       [  0.00000000e+000,   0.00000000e+000],\n",
       "       [  0.00000000e+000,   5.99907020e-245],\n",
       "       [  1.29729468e-311,   1.29729468e-311],\n",
       "       [  9.93775032e+285,   1.29729468e-311],\n",
       "       [  1.29729467e-311,   1.21064536e-302],\n",
       "       [  1.29729467e-311,   1.29729468e-311],\n",
       "       [  1.60643723e-102,   0.00000000e+000],\n",
       "       [  0.00000000e+000,  -1.76961290e+037],\n",
       "       [  0.00000000e+000,   0.00000000e+000],\n",
       "       [ -7.03935620e-046,   1.29729468e-311],\n",
       "       [  1.29729468e-311,   0.00000000e+000],\n",
       "       [  0.00000000e+000,   0.00000000e+000],\n",
       "       [  0.00000000e+000,   0.00000000e+000],\n",
       "       [  0.00000000e+000,   1.46378622e+110],\n",
       "       [  0.00000000e+000,   0.00000000e+000],\n",
       "       [ -1.31019972e+272,   1.29729468e-311],\n",
       "       [  1.29729467e-311,  -7.70864128e-026],\n",
       "       [  1.29729467e-311,   1.29729467e-311],\n",
       "       [ -3.68797268e+247,   0.00000000e+000],\n",
       "       [  0.00000000e+000,  -2.55088353e+272],\n",
       "       [  0.00000000e+000,   0.00000000e+000],\n",
       "       [ -2.15035421e+179,   1.29729467e-311],\n",
       "       [  1.29729467e-311,  -1.44946075e+267],\n",
       "       [  0.00000000e+000,   0.00000000e+000],\n",
       "       [ -7.84276865e-093,   0.00000000e+000],\n",
       "       [  0.00000000e+000,   1.50548310e+282],\n",
       "       [  0.00000000e+000,   0.00000000e+000],\n",
       "       [ -2.58172957e+230,   1.29729468e-311],\n",
       "       [  1.29729468e-311,  -1.08861818e+116],\n",
       "       [  0.00000000e+000,   0.00000000e+000],\n",
       "       [  0.00000000e+000,   0.00000000e+000],\n",
       "       [  0.00000000e+000,   0.00000000e+000]])"
      ]
     },
     "execution_count": 4,
     "metadata": {},
     "output_type": "execute_result"
    }
   ],
   "source": [
    "X = np.empty((100,2))\n",
    "X   #这一步是在内存中给X开辟出位置"
   ]
  },
  {
   "cell_type": "code",
   "execution_count": 18,
   "metadata": {},
   "outputs": [],
   "source": [
    "X[:,0] = np.random.uniform(0.,100.,size=100)\n",
    "X[:,1] = X[:,0]*0.75 + 3. + np.random.normal(0,5,size=100)"
   ]
  },
  {
   "cell_type": "code",
   "execution_count": 19,
   "metadata": {
    "collapsed": true
   },
   "outputs": [
    {
     "data": {
      "text/plain": [
       "array([[ 10.7259292 ,  21.25774512],\n",
       "       [ 55.81503803,  45.6961275 ],\n",
       "       [ 62.30026669,  54.28969433],\n",
       "       [ 99.60247214,  78.10788688],\n",
       "       [ 70.82724945,  44.22713636],\n",
       "       [ 21.61313801,  17.96920022],\n",
       "       [ 71.32037773,  56.76300319],\n",
       "       [ 56.76175005,  42.6584392 ],\n",
       "       [  6.24248434,  21.64201632],\n",
       "       [ 17.08583053,  19.30494632],\n",
       "       [ 15.26077725,  14.65471935],\n",
       "       [ 47.3947021 ,  39.76195862],\n",
       "       [ 83.7272919 ,  59.71904128],\n",
       "       [ 68.81444463,  50.65204778],\n",
       "       [ 66.57647512,  61.2454516 ],\n",
       "       [ 97.67344464,  70.94698274],\n",
       "       [ 29.45790885,  26.88255378],\n",
       "       [ 35.25702303,  34.18010778],\n",
       "       [ 60.76689902,  44.8241113 ],\n",
       "       [ 49.98419991,  38.33046153],\n",
       "       [ 34.97302418,  26.93897132],\n",
       "       [ 75.3709834 ,  59.37202791],\n",
       "       [ 86.05185405,  66.70416374],\n",
       "       [ 44.87444967,  41.54359182],\n",
       "       [ 73.0704232 ,  50.85818796],\n",
       "       [ 86.99024219,  64.74881365],\n",
       "       [ 66.39746498,  52.4523598 ],\n",
       "       [ 45.29760316,  28.78473553],\n",
       "       [ 70.23823175,  54.95088853],\n",
       "       [ 60.5385714 ,  48.52068868],\n",
       "       [ 53.55040152,  36.01960606],\n",
       "       [ 89.33679029,  73.24191974],\n",
       "       [ 99.89061639,  72.14695138],\n",
       "       [ 17.33409699,   7.88266853],\n",
       "       [ 65.44597319,  55.90122683],\n",
       "       [  7.1563504 ,   3.37673322],\n",
       "       [ 64.98135555,  55.09442853],\n",
       "       [ 16.96761612,  14.19398957],\n",
       "       [ 74.58097645,  60.38380087],\n",
       "       [ 18.44846062,  34.83323163],\n",
       "       [ 72.27656396,  59.53027127],\n",
       "       [ 45.39366634,  32.41590374],\n",
       "       [ 35.0803658 ,  27.34070842],\n",
       "       [ 57.56107596,  39.29673428],\n",
       "       [ 56.47864071,  47.2341294 ],\n",
       "       [ 99.31652874,  74.4180187 ],\n",
       "       [ 26.64600226,  19.15898413],\n",
       "       [ 30.07965504,  22.21427154],\n",
       "       [ 84.03258472,  64.25081947],\n",
       "       [  8.00703042,   5.0888023 ],\n",
       "       [ 73.84288216,  62.43704338],\n",
       "       [ 16.26109631,   7.97596527],\n",
       "       [ 82.52320721,  69.52962426],\n",
       "       [ 90.76968278,  73.07833674],\n",
       "       [ 70.8558336 ,  54.47038192],\n",
       "       [ 55.82214903,  40.63737771],\n",
       "       [ 36.22845372,  30.667779  ],\n",
       "       [ 74.3759557 ,  63.6104413 ],\n",
       "       [ 86.65668325,  67.15748942],\n",
       "       [ 47.46680252,  39.2629549 ],\n",
       "       [ 31.97042499,  35.21127961],\n",
       "       [ 38.98754186,  35.41512523],\n",
       "       [ 83.41282753,  68.89717873],\n",
       "       [  7.61527108,   6.68379432],\n",
       "       [ 75.43020245,  60.33750935],\n",
       "       [ 22.38471725,  22.95500938],\n",
       "       [ 55.35764716,  55.54870812],\n",
       "       [ 34.38280074,  26.59769258],\n",
       "       [ 85.18811214,  68.45443126],\n",
       "       [ 70.31916948,  49.11002624],\n",
       "       [ 45.34462503,  28.50681547],\n",
       "       [ 90.03844591,  69.40550482],\n",
       "       [ 10.43542392,  11.39047483],\n",
       "       [ 89.56478835,  66.97894519],\n",
       "       [ 98.05156295,  70.80001556],\n",
       "       [ 26.19045544,  19.69826672],\n",
       "       [ 97.47116866,  78.18357145],\n",
       "       [ 71.47287145,  54.77895113],\n",
       "       [ 64.1881957 ,  50.69414688],\n",
       "       [ 66.84151047,  48.32341769],\n",
       "       [ 81.89179644,  57.02588364],\n",
       "       [  8.87491075,   4.60494777],\n",
       "       [ 47.17743565,  35.89024243],\n",
       "       [ 64.273113  ,  62.22279266],\n",
       "       [ 58.41592609,  48.74493449],\n",
       "       [ 54.75318737,  51.91923344],\n",
       "       [ 17.72103242,  17.84321792],\n",
       "       [ 54.85675696,  43.04405448],\n",
       "       [ 98.90533231,  81.76613926],\n",
       "       [ 99.3230029 ,  75.86900211],\n",
       "       [ 43.53485341,  43.35973371],\n",
       "       [ 83.42919358,  62.36972083],\n",
       "       [ 14.10151363,  15.80592029],\n",
       "       [  2.60266581,  10.83850154],\n",
       "       [ 72.90008718,  58.13052948],\n",
       "       [ 32.43766441,  28.46698778],\n",
       "       [ 25.66817481,  20.4852615 ],\n",
       "       [ 44.54830492,  41.87450455],\n",
       "       [ 57.1477222 ,  45.57280799],\n",
       "       [ 16.18127629,  13.38121467]])"
      ]
     },
     "execution_count": 19,
     "metadata": {},
     "output_type": "execute_result"
    }
   ],
   "source": [
    "X"
   ]
  },
  {
   "cell_type": "code",
   "execution_count": 25,
   "metadata": {},
   "outputs": [
    {
     "data": {
      "image/png": "[encoded data removed]",
      "text/plain": [
       "<matplotlib.figure.Figure at 0x263692c4b38>"
      ]
     },
     "metadata": {},
     "output_type": "display_data"
    }
   ],
   "source": [
    "# -*- coding: GBK -*-\n",
    "plt.scatter(X[:,0],X[:,1],label='Xianxing')\n",
    "plt.title('线性的粒子')\n",
    "plt.legend()\n",
    "plt.show()"
   ]
  },
  {
   "cell_type": "code",
   "execution_count": 26,
   "metadata": {},
   "outputs": [],
   "source": [
    "#我们可不可以这样认为   这数据本身就是一条直线  但是我们的测量仪器 或者测量人员自己\n",
    "#的原因导致我们的数据成为这样的形状或者我们测量的手段是有问题的"
   ]
  },
  {
   "cell_type": "code",
   "execution_count": 27,
   "metadata": {},
   "outputs": [],
   "source": [
    "from sklearn.decomposition import  PCA"
   ]
  },
  {
   "cell_type": "code",
   "execution_count": 28,
   "metadata": {},
   "outputs": [],
   "source": [
    "pca =PCA(n_components=1)\n",
    "pca.fit(X)\n",
    "X_reduction = pca.transform(X)\n",
    "X_restore = pca.inverse_transform(X_reduction)"
   ]
  },
  {
   "cell_type": "code",
   "execution_count": 29,
   "metadata": {},
   "outputs": [
    {
     "data": {
      "image/png": "[encoded data removed]",
      "text/plain": [
       "<matplotlib.figure.Figure at 0x2635f1ba7f0>"
      ]
     },
     "metadata": {},
     "output_type": "display_data"
    }
   ],
   "source": [
    "plt.scatter(X_restore[:,0],X_restore[:,1])\n",
    "plt.show()"
   ]
  },
  {
   "cell_type": "code",
   "execution_count": 30,
   "metadata": {},
   "outputs": [],
   "source": [
    "#我们可以将这个过程是将数据的噪音给去除了   但是我们不能说这样的数据全都是噪音\n",
    "#所以总体而言  我们还是倾向于我们丢失了信息  ，但是我们丢失的信息很有可能有很大一部分分是\n",
    "# 丢失的噪音"
   ]
  },
  {
   "cell_type": "markdown",
   "metadata": {},
   "source": [
    "## 手写数字识别"
   ]
  },
  {
   "cell_type": "code",
   "execution_count": 31,
   "metadata": {},
   "outputs": [],
   "source": [
    "from sklearn import datasets"
   ]
  },
  {
   "cell_type": "code",
   "execution_count": 32,
   "metadata": {},
   "outputs": [],
   "source": [
    "digits = datasets.load_digits()"
   ]
  },
  {
   "cell_type": "code",
   "execution_count": 33,
   "metadata": {},
   "outputs": [],
   "source": [
    "X = digits.data\n",
    "y = digits.target"
   ]
  },
  {
   "cell_type": "code",
   "execution_count": 34,
   "metadata": {},
   "outputs": [],
   "source": [
    "#添加噪音矩阵\n",
    "noisy_digits = X + np.random.normal(0,4,size=X.shape)"
   ]
  },
  {
   "cell_type": "code",
   "execution_count": 37,
   "metadata": {},
   "outputs": [],
   "source": [
    "example_digits = noisy_digits[y==0,:][:10] #取出y=0的所有值的前10行\n",
    "for num in range(1,10):\n",
    "    X_num  = noisy_digits[y==num,:][:10]\n",
    "    example_digits = np.vstack([example_digits,X_num])  #进行列拼接"
   ]
  },
  {
   "cell_type": "code",
   "execution_count": 38,
   "metadata": {},
   "outputs": [
    {
     "data": {
      "text/plain": [
       "(100, 64)"
      ]
     },
     "execution_count": 38,
     "metadata": {},
     "output_type": "execute_result"
    }
   ],
   "source": [
    "example_digits.shape"
   ]
  },
  {
   "cell_type": "code",
   "execution_count": 45,
   "metadata": {},
   "outputs": [],
   "source": [
    "#手写数字图片\n",
    "def plot_digits(data):\n",
    "    fig, axes =plt.subplots(10,10,figsize=(10,10),\n",
    "                          subplot_kw={'xticks':[],'yticks':[]},\n",
    "                          gridspec_kw=dict(hspace=0.1,wspace=0.1)\n",
    "                          )\n",
    "    for i,ax in enumerate(axes.flat):\n",
    "        ax.imshow(data[i].reshape(8,8),\n",
    "                 cmap='binary',interpolation='nearest',\n",
    "                 clim=(0,16)\n",
    "                 )\n",
    "    plt.show()"
   ]
  },
  {
   "cell_type": "code",
   "execution_count": 46,
   "metadata": {
    "scrolled": true
   },
   "outputs": [
    {
     "data": {
      "image/png": "[encoded data removed]",
      "text/plain": [
       "<matplotlib.figure.Figure at 0x2637356ea90>"
      ]
     },
     "metadata": {},
     "output_type": "display_data"
    }
   ],
   "source": [
    "plot_digits(example_digits)"
   ]
  },
  {
   "cell_type": "code",
   "execution_count": 48,
   "metadata": {},
   "outputs": [],
   "source": [
    "#我们可以看出噪音非常大\n",
    "#我们用PCA进行降噪"
   ]
  },
  {
   "cell_type": "code",
   "execution_count": 49,
   "metadata": {},
   "outputs": [],
   "source": [
    "from sklearn.decomposition import PCA"
   ]
  },
  {
   "cell_type": "code",
   "execution_count": 74,
   "metadata": {},
   "outputs": [],
   "source": [
    "pca =PCA(0.6)"
   ]
  },
  {
   "cell_type": "code",
   "execution_count": 80,
   "metadata": {},
   "outputs": [],
   "source": [
    "pca.fit(noisy_digits)\n",
    "example_digits_reduction = pca.transform(example_digits)"
   ]
  },
  {
   "cell_type": "code",
   "execution_count": 82,
   "metadata": {},
   "outputs": [
    {
     "data": {
      "text/plain": [
       "0.6"
      ]
     },
     "execution_count": 82,
     "metadata": {},
     "output_type": "execute_result"
    }
   ],
   "source": [
    "pca.n_components"
   ]
  },
  {
   "cell_type": "code",
   "execution_count": 83,
   "metadata": {},
   "outputs": [
    {
     "data": {
      "text/plain": [
       "18"
      ]
     },
     "execution_count": 83,
     "metadata": {},
     "output_type": "execute_result"
    }
   ],
   "source": [
    "pca.n_components_"
   ]
  },
  {
   "cell_type": "code",
   "execution_count": 84,
   "metadata": {},
   "outputs": [
    {
     "data": {
      "text/plain": [
       "(100, 18)"
      ]
     },
     "execution_count": 84,
     "metadata": {},
     "output_type": "execute_result"
    }
   ],
   "source": [
    "example_digits_reduction.shape"
   ]
  },
  {
   "cell_type": "code",
   "execution_count": 85,
   "metadata": {},
   "outputs": [],
   "source": [
    "example_digits_rs = pca.inverse_transform(example_digits_reduction)"
   ]
  },
  {
   "cell_type": "code",
   "execution_count": 86,
   "metadata": {},
   "outputs": [
    {
     "data": {
      "text/plain": [
       "(100, 64)"
      ]
     },
     "execution_count": 86,
     "metadata": {},
     "output_type": "execute_result"
    }
   ],
   "source": [
    "example_digits_rs.shape"
   ]
  },
  {
   "cell_type": "code",
   "execution_count": 87,
   "metadata": {},
   "outputs": [
    {
     "data": {
      "image/png": "[encoded data removed]",
      "text/plain": [
       "<matplotlib.figure.Figure at 0x26373622668>"
      ]
     },
     "metadata": {},
     "output_type": "display_data"
    }
   ],
   "source": [
    "plot_digits(example_digits_rs)"
   ]
  },
  {
   "cell_type": "code",
   "execution_count": null,
   "metadata": {},
   "outputs": [],
   "source": []
  }
 ],
 "metadata": {
  "kernelspec": {
   "display_name": "Python 3",
   "language": "python",
   "name": "python3"
  },
  "language_info": {
   "codemirror_mode": {
    "name": "ipython",
    "version": 3
   },
   "file_extension": ".py",
   "mimetype": "text/x-python",
   "name": "python",
   "nbconvert_exporter": "python",
   "pygments_lexer": "ipython3",
   "version": "3.5.3"
  }
 },
 "nbformat": 4,
 "nbformat_minor": 2
}
