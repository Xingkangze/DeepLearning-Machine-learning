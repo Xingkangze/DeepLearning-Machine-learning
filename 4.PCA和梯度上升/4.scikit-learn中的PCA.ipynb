{
 "cells": [
  {
   "cell_type": "markdown",
   "metadata": {},
   "source": [
    "# scikit-learn中的PCA中的功能"
   ]
  },
  {
   "cell_type": "code",
   "execution_count": 1,
   "metadata": {},
   "outputs": [],
   "source": [
    "import numpy as np\n",
    "from sklearn import datasets"
   ]
  },
  {
   "cell_type": "code",
   "execution_count": 2,
   "metadata": {},
   "outputs": [],
   "source": [
    "data = datasets.load_digits()        #手写数字"
   ]
  },
  {
   "cell_type": "code",
   "execution_count": 3,
   "metadata": {},
   "outputs": [
    {
     "data": {
      "text/plain": [
       "dict_keys(['target', 'data', 'images', 'DESCR', 'target_names'])"
      ]
     },
     "execution_count": 3,
     "metadata": {},
     "output_type": "execute_result"
    }
   ],
   "source": [
    "data.keys()"
   ]
  },
  {
   "cell_type": "code",
   "execution_count": 4,
   "metadata": {},
   "outputs": [
    {
     "data": {
      "text/plain": [
       "(1797, 64)"
      ]
     },
     "execution_count": 4,
     "metadata": {},
     "output_type": "execute_result"
    }
   ],
   "source": [
    "data.data.shape"
   ]
  },
  {
   "cell_type": "code",
   "execution_count": 5,
   "metadata": {},
   "outputs": [
    {
     "data": {
      "text/plain": [
       "array([0, 1, 2, ..., 8, 9, 8])"
      ]
     },
     "execution_count": 5,
     "metadata": {},
     "output_type": "execute_result"
    }
   ],
   "source": [
    "data.target"
   ]
  },
  {
   "cell_type": "code",
   "execution_count": 6,
   "metadata": {},
   "outputs": [
    {
     "data": {
      "text/plain": [
       "(1797, 8, 8)"
      ]
     },
     "execution_count": 6,
     "metadata": {},
     "output_type": "execute_result"
    }
   ],
   "source": [
    "data.images.shape"
   ]
  },
  {
   "cell_type": "code",
   "execution_count": 9,
   "metadata": {},
   "outputs": [],
   "source": [
    "X = data.data\n",
    "y = data.target"
   ]
  },
  {
   "cell_type": "code",
   "execution_count": 25,
   "metadata": {},
   "outputs": [],
   "source": [
    "#进行训练和测试数据集的切分\n",
    "from sklearn.model_selection import train_test_split\n",
    "X_train,X_test,y_train,y_test = train_test_split(X,y,test_size=0.2,random_state=666)"
   ]
  },
  {
   "cell_type": "code",
   "execution_count": 26,
   "metadata": {},
   "outputs": [
    {
     "data": {
      "text/plain": [
       "(1437, 64)"
      ]
     },
     "execution_count": 26,
     "metadata": {},
     "output_type": "execute_result"
    }
   ],
   "source": [
    "X_train.shape"
   ]
  },
  {
   "cell_type": "code",
   "execution_count": 29,
   "metadata": {},
   "outputs": [
    {
     "name": "stdout",
     "output_type": "stream",
     "text": [
      "Wall time: 86.2 ms\n"
     ]
    }
   ],
   "source": [
    "%%time \n",
    "from sklearn.neighbors import KNeighborsClassifier\n",
    "knn =KNeighborsClassifier(n_neighbors=5)\n",
    "knn.fit(X_train,y_train)"
   ]
  },
  {
   "cell_type": "code",
   "execution_count": 30,
   "metadata": {},
   "outputs": [
    {
     "data": {
      "text/plain": [
       "0.98888888888888893"
      ]
     },
     "execution_count": 30,
     "metadata": {},
     "output_type": "execute_result"
    }
   ],
   "source": [
    "knn.score(X_test,y_test)"
   ]
  },
  {
   "cell_type": "code",
   "execution_count": 31,
   "metadata": {},
   "outputs": [],
   "source": [
    "#使用我们的scikit-lenrn的RPC"
   ]
  },
  {
   "cell_type": "code",
   "execution_count": 32,
   "metadata": {},
   "outputs": [],
   "source": [
    "#分解\n",
    "from sklearn.decomposition import PCA"
   ]
  },
  {
   "cell_type": "code",
   "execution_count": 33,
   "metadata": {},
   "outputs": [],
   "source": [
    "pca = PCA(n_components=2)    #几个主成分"
   ]
  },
  {
   "cell_type": "code",
   "execution_count": 35,
   "metadata": {},
   "outputs": [],
   "source": [
    "#将数据进行将维\n",
    "pca.fit(X_train)\n",
    "#取出将维后的数据\n",
    "X_train_reduction = pca.transform(X_train)\n",
    "X_test_reduction = pca.transform(X_test)"
   ]
  },
  {
   "cell_type": "code",
   "execution_count": 37,
   "metadata": {},
   "outputs": [
    {
     "name": "stdout",
     "output_type": "stream",
     "text": [
      "Wall time: 3.01 ms\n"
     ]
    }
   ],
   "source": [
    "#看用将维后的数据进行分类训练耗费的时间\n",
    "%%time\n",
    "knn_clf = KNeighborsClassifier(n_neighbors=5,n_jobs=-1)\n",
    "knn_clf.fit(X_train_reduction,y_train)"
   ]
  },
  {
   "cell_type": "code",
   "execution_count": 39,
   "metadata": {},
   "outputs": [
    {
     "data": {
      "text/plain": [
       "0.60555555555555551"
      ]
     },
     "execution_count": 39,
     "metadata": {},
     "output_type": "execute_result"
    }
   ],
   "source": [
    "knn_clf.score(X_test_reduction,y_test)"
   ]
  },
  {
   "cell_type": "code",
   "execution_count": 22,
   "metadata": {},
   "outputs": [
    {
     "data": {
      "text/plain": [
       "(20, 64)"
      ]
     },
     "execution_count": 22,
     "metadata": {},
     "output_type": "execute_result"
    }
   ],
   "source": [
    "#我们原本的64维的信息我们降到了2维的信息   我们的准确率的识别精度确降低了\n",
    "#那么我们怎么选取我们的具体的维数信息呢？"
   ]
  },
  {
   "cell_type": "code",
   "execution_count": 40,
   "metadata": {},
   "outputs": [],
   "source": [
    "#第一种方法是使用网格搜索的方法\n",
    "param_grid =[\n",
    "    {  \n",
    "        'n_components':[i for i in range(1,64)],   \n",
    "    }\n",
    "]"
   ]
  },
  {
   "cell_type": "code",
   "execution_count": 45,
   "metadata": {},
   "outputs": [],
   "source": [
    "pca =PCA()"
   ]
  },
  {
   "cell_type": "code",
   "execution_count": 46,
   "metadata": {},
   "outputs": [],
   "source": [
    "#调用网格方法    CV代表交叉验证  cross validation\n",
    "from sklearn.model_selection import GridSearchCV\n",
    "#第一个参数为我们的机器学习的算法    第二个参数为我们写出的网格函数\n",
    "#定义我们网格搜索的对象\n",
    "grid_search = GridSearchCV(pca,param_grid)"
   ]
  },
  {
   "cell_type": "code",
   "execution_count": 47,
   "metadata": {},
   "outputs": [
    {
     "name": "stdout",
     "output_type": "stream",
     "text": [
      "Wall time: 5.19 s\n"
     ]
    },
    {
     "name": "stderr",
     "output_type": "stream",
     "text": [
      "d:\\python\\lib\\site-packages\\sklearn\\model_selection\\_search.py:675: RuntimeWarning: invalid value encountered in subtract\n",
      "  array_means[:, np.newaxis]) ** 2,\n"
     ]
    },
    {
     "data": {
      "text/plain": [
       "GridSearchCV(cv=None, error_score='raise',\n",
       "       estimator=PCA(copy=True, iterated_power='auto', n_components=None, random_state=None,\n",
       "  svd_solver='auto', tol=0.0, whiten=False),\n",
       "       fit_params=None, iid=True, n_jobs=1,\n",
       "       param_grid=[{'n_components': [1, 2, 3, 4, 5, 6, 7, 8, 9, 10, 11, 12, 13, 14, 15, 16, 17, 18, 19, 20, 21, 22, 23, 24, 25, 26, 27, 28, 29, 30, 31, 32, 33, 34, 35, 36, 37, 38, 39, 40, 41, 42, 43, 44, 45, 46, 47, 48, 49, 50, 51, 52, 53, 54, 55, 56, 57, 58, 59, 60, 61, 62, 63]}],\n",
       "       pre_dispatch='2*n_jobs', refit=True, return_train_score='warn',\n",
       "       scoring=None, verbose=0)"
      ]
     },
     "execution_count": 47,
     "metadata": {},
     "output_type": "execute_result"
    }
   ],
   "source": [
    "%%time\n",
    "grid_search.fit(X_train)"
   ]
  },
  {
   "cell_type": "code",
   "execution_count": 49,
   "metadata": {},
   "outputs": [
    {
     "data": {
      "text/plain": [
       "PCA(copy=True, iterated_power='auto', n_components=54, random_state=None,\n",
       "  svd_solver='auto', tol=0.0, whiten=False)"
      ]
     },
     "execution_count": 49,
     "metadata": {},
     "output_type": "execute_result"
    }
   ],
   "source": [
    "#返回我们搜索到的最佳的分类器\n",
    "grid_search.best_estimator_"
   ]
  },
  {
   "cell_type": "code",
   "execution_count": 51,
   "metadata": {},
   "outputs": [
    {
     "data": {
      "text/plain": [
       "53"
      ]
     },
     "execution_count": 51,
     "metadata": {},
     "output_type": "execute_result"
    }
   ],
   "source": [
    "#返回我们分类器的下标\n",
    "grid_search.best_index_"
   ]
  },
  {
   "cell_type": "code",
   "execution_count": 58,
   "metadata": {},
   "outputs": [
    {
     "data": {
      "text/plain": [
       "-117.92032082356542"
      ]
     },
     "execution_count": 58,
     "metadata": {},
     "output_type": "execute_result"
    }
   ],
   "source": [
    "#分类器的精度\n",
    "grid_search.best_score_"
   ]
  },
  {
   "cell_type": "code",
   "execution_count": 60,
   "metadata": {},
   "outputs": [
    {
     "data": {
      "text/plain": [
       "{'n_components': 54}"
      ]
     },
     "execution_count": 60,
     "metadata": {},
     "output_type": "execute_result"
    }
   ],
   "source": [
    "#返回我们对应的参数\n",
    "grid_search.best_params_"
   ]
  },
  {
   "cell_type": "code",
   "execution_count": 61,
   "metadata": {},
   "outputs": [],
   "source": [
    "pca = grid_search.best_estimator_"
   ]
  },
  {
   "cell_type": "code",
   "execution_count": 66,
   "metadata": {},
   "outputs": [],
   "source": [
    "X_train_1=pca.transform(X_train)\n",
    "X_test_1=pca.transform(X_test)"
   ]
  },
  {
   "cell_type": "code",
   "execution_count": 94,
   "metadata": {},
   "outputs": [
    {
     "data": {
      "text/plain": [
       "0.98888888888888893"
      ]
     },
     "execution_count": 94,
     "metadata": {},
     "output_type": "execute_result"
    }
   ],
   "source": [
    "knn_clf.fit(X_train_1,y_train)\n",
    "knn_clf.score(X_test_1,y_test)"
   ]
  },
  {
   "cell_type": "code",
   "execution_count": 71,
   "metadata": {},
   "outputs": [
    {
     "data": {
      "text/plain": [
       "array([  1.45064600e-01,   1.37142456e-01,   1.19680004e-01,\n",
       "         8.43768923e-02,   5.87005941e-02,   5.01797333e-02,\n",
       "         4.34065700e-02,   3.61375740e-02,   3.39661991e-02,\n",
       "         3.00599249e-02,   2.38906921e-02,   2.29417581e-02,\n",
       "         1.81335935e-02,   1.78403959e-02,   1.47411385e-02,\n",
       "         1.41290045e-02,   1.29333094e-02,   1.25283166e-02,\n",
       "         1.01123057e-02,   9.08986879e-03,   8.98365069e-03,\n",
       "         7.72299807e-03,   7.62541166e-03,   7.09954951e-03,\n",
       "         6.96433125e-03,   5.84665284e-03,   5.77225779e-03,\n",
       "         5.07732970e-03,   4.84364707e-03,   4.34595748e-03,\n",
       "         3.73352381e-03,   3.57655938e-03,   3.30727680e-03,\n",
       "         3.18129431e-03,   3.06969704e-03,   2.89170006e-03,\n",
       "         2.51205204e-03,   2.27743660e-03,   2.22760483e-03,\n",
       "         2.00065017e-03,   1.89529684e-03,   1.56877138e-03,\n",
       "         1.42740894e-03,   1.39115781e-03,   1.20896097e-03,\n",
       "         1.10149976e-03,   9.81702199e-04,   8.82376601e-04,\n",
       "         5.69898729e-04,   4.10322729e-04,   2.32125043e-04,\n",
       "         8.49807543e-05,   5.37426557e-05,   5.27990816e-05])"
      ]
     },
     "execution_count": 71,
     "metadata": {},
     "output_type": "execute_result"
    }
   ],
   "source": [
    "#第二种方法是我们的PCA中自带的，我们只需要指定我们的准确度达到百分之多少\n",
    "pca.explained_variance_ratio_\n",
    "#代表的是解释的比例  第一个轴可以解释多少  第二个周可以解释多少   加和等于\n",
    "#总共的解释的比例             从大到小依次排列"
   ]
  },
  {
   "cell_type": "code",
   "execution_count": 73,
   "metadata": {},
   "outputs": [
    {
     "data": {
      "text/plain": [
       "array([  1.45064600e-01,   1.37142456e-01,   1.19680004e-01,\n",
       "         8.43768923e-02,   5.87005941e-02,   5.01797333e-02,\n",
       "         4.34065700e-02,   3.61375740e-02,   3.39661991e-02,\n",
       "         3.00599249e-02,   2.38906921e-02,   2.29417581e-02,\n",
       "         1.81335935e-02,   1.78403959e-02,   1.47411385e-02,\n",
       "         1.41290045e-02,   1.29333094e-02,   1.25283166e-02,\n",
       "         1.01123057e-02,   9.08986879e-03,   8.98365069e-03,\n",
       "         7.72299807e-03,   7.62541166e-03,   7.09954951e-03,\n",
       "         6.96433125e-03,   5.84665284e-03,   5.77225779e-03,\n",
       "         5.07732970e-03,   4.84364707e-03,   4.34595748e-03,\n",
       "         3.73352381e-03,   3.57655938e-03,   3.30727680e-03,\n",
       "         3.18129431e-03,   3.06969704e-03,   2.89170006e-03,\n",
       "         2.51205204e-03,   2.27743660e-03,   2.22760483e-03,\n",
       "         2.00065017e-03,   1.89529684e-03,   1.56877138e-03,\n",
       "         1.42740894e-03,   1.39115781e-03,   1.20896097e-03,\n",
       "         1.10149976e-03,   9.81702199e-04,   8.82376601e-04,\n",
       "         5.69898729e-04,   4.10322729e-04,   2.32125043e-04,\n",
       "         8.49807543e-05,   5.37426557e-05,   5.27990816e-05,\n",
       "         1.03398093e-05,   6.20749843e-06,   5.03430895e-06,\n",
       "         1.15881302e-06,   1.09689390e-06,   5.51564753e-07,\n",
       "         5.65215369e-08,   8.83490979e-34,   8.83490979e-34,\n",
       "         8.55393580e-34])"
      ]
     },
     "execution_count": 73,
     "metadata": {},
     "output_type": "execute_result"
    }
   ],
   "source": [
    "#\n",
    "pca1 =PCA(n_components=X_train.shape[1])\n",
    "pca1.fit(X_train)\n",
    "pca1.explained_variance_ratio_\n",
    "#代表的是我们的64个主成分分别可以解释我们的方差的百分比  从大到小"
   ]
  },
  {
   "cell_type": "code",
   "execution_count": 74,
   "metadata": {},
   "outputs": [],
   "source": [
    "import matplotlib.pyplot as plt"
   ]
  },
  {
   "cell_type": "code",
   "execution_count": 85,
   "metadata": {},
   "outputs": [
    {
     "data": {
      "image/png": "[encoded data removed]",
      "text/plain": [
       "<matplotlib.figure.Figure at 0x134f12c10b8>"
      ]
     },
     "metadata": {},
     "output_type": "display_data"
    }
   ],
   "source": [
    "#横轴代表的使我们的64个维度\n",
    "#纵轴代表的使我们的64各维度分别可以解释的方差的白分比的和\n",
    "plt.plot([i for i in range(X_train.shape[1])],\n",
    "#         [np.sum(pca.explained_variance_ratio_[:i+1]) for i in range(X_train.shape[1])]\n",
    "        [np.sum(pca.explained_variance_ratio_[:i+1]) for i in range(pca1.explained_variance_ratio_.size)]\n",
    "\n",
    "        )\n",
    "plt.show()"
   ]
  },
  {
   "cell_type": "code",
   "execution_count": 86,
   "metadata": {},
   "outputs": [],
   "source": [
    "#看图的分析   可以得到   在30的时候我们的解释度就很高了"
   ]
  },
  {
   "cell_type": "code",
   "execution_count": 87,
   "metadata": {},
   "outputs": [],
   "source": [
    "#假如说我们需要找到95%\n",
    "pca2 = PCA(0.95)"
   ]
  },
  {
   "cell_type": "code",
   "execution_count": 88,
   "metadata": {},
   "outputs": [
    {
     "data": {
      "text/plain": [
       "PCA(copy=True, iterated_power='auto', n_components=0.95, random_state=None,\n",
       "  svd_solver='auto', tol=0.0, whiten=False)"
      ]
     },
     "execution_count": 88,
     "metadata": {},
     "output_type": "execute_result"
    }
   ],
   "source": [
    "pca2.fit(X_train)"
   ]
  },
  {
   "cell_type": "code",
   "execution_count": 90,
   "metadata": {},
   "outputs": [
    {
     "data": {
      "text/plain": [
       "28"
      ]
     },
     "execution_count": 90,
     "metadata": {},
     "output_type": "execute_result"
    }
   ],
   "source": [
    "pca2.n_components_"
   ]
  },
  {
   "cell_type": "code",
   "execution_count": 91,
   "metadata": {},
   "outputs": [],
   "source": [
    "X_train_reduction = pca2.transform(X_train)\n",
    "X_test_reduction = pca2.transform(X_test)"
   ]
  },
  {
   "cell_type": "code",
   "execution_count": 92,
   "metadata": {},
   "outputs": [
    {
     "name": "stdout",
     "output_type": "stream",
     "text": [
      "Wall time: 8.02 ms\n"
     ]
    }
   ],
   "source": [
    "%%time \n",
    "knn2 = KNeighborsClassifier(n_neighbors=5,n_jobs=-1)\n",
    "knn2.fit(X_train_reduction,y_train)"
   ]
  },
  {
   "cell_type": "code",
   "execution_count": 95,
   "metadata": {},
   "outputs": [
    {
     "data": {
      "text/plain": [
       "0.98333333333333328"
      ]
     },
     "execution_count": 95,
     "metadata": {},
     "output_type": "execute_result"
    }
   ],
   "source": [
    "knn2.score(X_test_reduction,y_test)"
   ]
  },
  {
   "cell_type": "code",
   "execution_count": 96,
   "metadata": {},
   "outputs": [],
   "source": [
    "#可以看我们的精度   如果说我们用全样本需要耗费10天   但是如果用我们的PCA进行将维\n",
    "#只需要1天  但是我们仅仅损失了  0.05的精度   那么我们完全是可以接受的"
   ]
  },
  {
   "cell_type": "code",
   "execution_count": 97,
   "metadata": {},
   "outputs": [],
   "source": [
    "#我们对数据进行降维还有一个更重要的因素  就是为了可视化"
   ]
  },
  {
   "cell_type": "code",
   "execution_count": 98,
   "metadata": {},
   "outputs": [
    {
     "data": {
      "text/plain": [
       "PCA(copy=True, iterated_power='auto', n_components=2, random_state=None,\n",
       "  svd_solver='auto', tol=0.0, whiten=False)"
      ]
     },
     "execution_count": 98,
     "metadata": {},
     "output_type": "execute_result"
    }
   ],
   "source": [
    "pca3 = PCA(n_components=2)\n",
    "pca3.fit(X_train)"
   ]
  },
  {
   "cell_type": "code",
   "execution_count": 101,
   "metadata": {},
   "outputs": [
    {
     "data": {
      "text/plain": [
       "(1437, 2)"
      ]
     },
     "execution_count": 101,
     "metadata": {},
     "output_type": "execute_result"
    }
   ],
   "source": [
    "X_t = pca3.transform(X_train)\n",
    "X_t.shape"
   ]
  },
  {
   "cell_type": "code",
   "execution_count": 106,
   "metadata": {},
   "outputs": [
    {
     "data": {
      "image/png": "[encoded data removed]",
      "text/plain": [
       "<matplotlib.figure.Figure at 0x134f1379518>"
      ]
     },
     "metadata": {},
     "output_type": "display_data"
    }
   ],
   "source": [
    "#开始进行绘制    绘制的时候是将每一个数字的点花在图上\n",
    "for  i in range(10):\n",
    "    plt.scatter(X_t[y_train==i,0],X_t[y_train==i,1],alpha=0.8)\n",
    "plt.show()"
   ]
  },
  {
   "cell_type": "code",
   "execution_count": null,
   "metadata": {},
   "outputs": [],
   "source": [
    "#我们可以想象  如果只需要区分红色的和蓝色的这个维度   那么我们只需要选取2维的\n",
    "#维度就够了"
   ]
  }
 ],
 "metadata": {
  "kernelspec": {
   "display_name": "Python 3",
   "language": "python",
   "name": "python3"
  },
  "language_info": {
   "codemirror_mode": {
    "name": "ipython",
    "version": 3
   },
   "file_extension": ".py",
   "mimetype": "text/x-python",
   "name": "python",
   "nbconvert_exporter": "python",
   "pygments_lexer": "ipython3",
   "version": "3.5.3"
  }
 },
 "nbformat": 4,
 "nbformat_minor": 2
}
