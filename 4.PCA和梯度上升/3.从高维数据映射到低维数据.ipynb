{
 "cells": [
  {
   "cell_type": "markdown",
   "metadata": {},
   "source": [
    "#  从高维数据映射到低维数据"
   ]
  },
  {
   "cell_type": "code",
   "execution_count": 2,
   "metadata": {},
   "outputs": [],
   "source": [
    "import numpy as np\n",
    "import matplotlib.pyplot as plt"
   ]
  },
  {
   "cell_type": "code",
   "execution_count": 3,
   "metadata": {},
   "outputs": [],
   "source": [
    "X = np.empty(shape=[100,2])\n",
    "X[:,0] = np.random.uniform(0.,100.,size=100)\n",
    "X[:,1] = 0.75*X[:,0]+3. + np.random.normal(0.,10.,size=100)"
   ]
  },
  {
   "cell_type": "code",
   "execution_count": 60,
   "metadata": {},
   "outputs": [],
   "source": [
    "%run D:/Python1/Play_ML/PCA.py"
   ]
  },
  {
   "cell_type": "code",
   "execution_count": 45,
   "metadata": {},
   "outputs": [],
   "source": [
    "pca = PCA(2)"
   ]
  },
  {
   "cell_type": "code",
   "execution_count": 46,
   "metadata": {},
   "outputs": [
    {
     "data": {
      "text/plain": [
       "PCA(n_components=2)"
      ]
     },
     "execution_count": 46,
     "metadata": {},
     "output_type": "execute_result"
    }
   ],
   "source": [
    "pca.fit(X)"
   ]
  },
  {
   "cell_type": "code",
   "execution_count": 47,
   "metadata": {},
   "outputs": [
    {
     "data": {
      "text/plain": [
       "array([[ 0.78181121,  0.62351522],\n",
       "       [-0.62351154,  0.78181415]])"
      ]
     },
     "execution_count": 47,
     "metadata": {},
     "output_type": "execute_result"
    }
   ],
   "source": [
    "pca.components_"
   ]
  },
  {
   "cell_type": "code",
   "execution_count": 48,
   "metadata": {
    "scrolled": true
   },
   "outputs": [
    {
     "data": {
      "text/plain": [
       "array([[  6.42853436e+01,   9.40037359e+00],\n",
       "       [  1.14672048e+01,   5.41649490e+00],\n",
       "       [  3.72754186e+01,   1.89698288e-01],\n",
       "       [  2.24503755e+01,  -7.59834469e+00],\n",
       "       [  9.09741258e+01,   7.43468331e+00],\n",
       "       [  1.02196415e+02,  -1.51926591e+00],\n",
       "       [  8.12929090e+01,   7.26088527e+00],\n",
       "       [  3.00727625e+01,  -1.13630896e+00],\n",
       "       [  2.11373287e+01,  -4.66729730e+00],\n",
       "       [  4.38091165e+01,  -6.82041495e-01],\n",
       "       [  4.04862260e+01,  -1.62266027e+00],\n",
       "       [  3.57458137e+01,  -4.54995202e+00],\n",
       "       [  1.25830748e+02,   3.42940434e+00],\n",
       "       [  5.65620260e+01,   1.93689275e+01],\n",
       "       [ -5.07071896e+00,  -1.14755122e+01],\n",
       "       [  6.77626279e+01,  -1.43055741e+01],\n",
       "       [  5.55978216e+01,   2.41773435e+01],\n",
       "       [  6.47557941e+01,   6.70027763e+00],\n",
       "       [  1.26696209e+02,   2.01045612e+00],\n",
       "       [  1.42517922e+01,   4.19722669e+00],\n",
       "       [  4.39889497e+01,   2.12502275e+01],\n",
       "       [  4.00670389e+01,  -1.31818961e+01],\n",
       "       [  1.83635540e+01,   6.97857169e-01],\n",
       "       [  1.55845458e+00,  -2.05028806e-01],\n",
       "       [  9.99113207e+01,  -1.43711330e+01],\n",
       "       [  7.83346612e+01,   9.02475728e+00],\n",
       "       [  2.94188969e+01,   1.76099936e+00],\n",
       "       [  5.00680490e+01,   4.21474410e+00],\n",
       "       [  5.05702007e+01,  -6.44529560e+00],\n",
       "       [  5.55515079e+01,  -1.43218209e+01],\n",
       "       [  3.27136014e+01,  -5.87857688e+00],\n",
       "       [  1.12501922e+02,   1.10516026e+01],\n",
       "       [  8.15764348e+01,   1.05686161e+01],\n",
       "       [  1.15653775e+02,  -1.50947508e+01],\n",
       "       [  7.95890087e+00,  -5.05929653e+00],\n",
       "       [  6.08795195e+01,   2.21219568e+01],\n",
       "       [  8.44470097e+01,  -9.38292913e+00],\n",
       "       [  5.11865190e+01,   8.72959389e+00],\n",
       "       [  1.15751844e+02,   3.54186003e+00],\n",
       "       [  1.16677743e+02,   5.24647812e+00],\n",
       "       [  1.88714669e+01,   5.61512679e+00],\n",
       "       [  1.17223161e+02,   5.61421950e+00],\n",
       "       [  1.26676057e+02,  -4.10970220e-01],\n",
       "       [  1.04459679e+02,   8.48466637e-02],\n",
       "       [  3.00848412e+01,   1.13414746e+01],\n",
       "       [  8.80961673e+01,  -6.74824389e+00],\n",
       "       [  4.93120099e+01,   4.81228001e+00],\n",
       "       [  5.49123391e+01,   6.49593375e+00],\n",
       "       [  7.58463210e+01,   1.12874390e+01],\n",
       "       [  5.37711959e+01,  -8.18235448e+00],\n",
       "       [  6.18660659e+01,   2.97643967e+00],\n",
       "       [  8.55592042e+01,  -4.86695979e+00],\n",
       "       [  7.08379541e+01,   1.47592654e+00],\n",
       "       [  7.12386171e+01,   1.32844925e+01],\n",
       "       [  8.09061904e+01,   8.66556145e+00],\n",
       "       [  6.46872070e+01,   5.83416866e+00],\n",
       "       [  4.08172300e+01,  -3.79151385e+00],\n",
       "       [  1.13294880e+02,  -5.35776746e+00],\n",
       "       [  5.20651450e+01,   4.90501247e+00],\n",
       "       [  5.67218938e+01,   6.68209921e-01],\n",
       "       [  1.17228645e+02,  -6.86626023e+00],\n",
       "       [  1.27134231e+02,   9.57863094e+00],\n",
       "       [  9.54173818e+01,   1.45633268e+01],\n",
       "       [  6.46708970e+01,   1.41797862e+01],\n",
       "       [  9.17199627e+01,   9.12572149e-02],\n",
       "       [  8.46338060e+01,  -3.28983587e-01],\n",
       "       [  3.87473073e+01,  -3.58736768e+00],\n",
       "       [  6.88424696e+01,   1.75722345e+00],\n",
       "       [  1.23523056e+02,   3.10917848e+00],\n",
       "       [  5.87498800e+01,   6.52253057e+00],\n",
       "       [  5.22848987e+01,  -1.58854335e+01],\n",
       "       [  1.80408157e+01,   6.46377116e+00],\n",
       "       [  7.77255325e+01,  -4.71203283e-01],\n",
       "       [  2.23307700e+01,   1.55961555e+01],\n",
       "       [  3.13246739e+01,  -5.23429323e+00],\n",
       "       [  7.53296926e+01,  -1.81395338e+00],\n",
       "       [  4.65543168e+01,   9.38978234e+00],\n",
       "       [  8.22569747e+01,  -5.83846130e+00],\n",
       "       [  3.08736929e+01,   1.33230710e+01],\n",
       "       [  6.71142130e+01,  -2.16068097e+01],\n",
       "       [  1.00833168e+02,   4.06036346e+00],\n",
       "       [  1.13139651e+02,   3.22818035e+00],\n",
       "       [  6.80702717e+01,  -1.06022781e+00],\n",
       "       [  1.16869136e+02,  -7.17208913e+00],\n",
       "       [  1.11032399e+02,  -6.89316568e-01],\n",
       "       [  9.11366507e+01,  -2.57997494e+00],\n",
       "       [  6.72046835e+01,  -1.02362909e+01],\n",
       "       [  1.01100499e+02,   5.08655925e+00],\n",
       "       [  1.14256944e+02,   4.00281944e+00],\n",
       "       [  1.23371144e+02,   3.58736100e+00],\n",
       "       [  1.03892291e+01,   4.37732735e-02],\n",
       "       [  6.24973901e+01,   9.91744464e-01],\n",
       "       [  2.26118391e+01,   3.52088828e-01],\n",
       "       [  1.14031005e+02,   8.75031867e+00],\n",
       "       [  4.59817451e+01,   1.31747714e+01],\n",
       "       [  6.44234297e+01,   6.40049239e+00],\n",
       "       [  6.70563943e+01,  -1.35984327e+00],\n",
       "       [  2.04407229e+01,   5.88973313e+00],\n",
       "       [  8.77373365e+01,   3.81143173e+00],\n",
       "       [  2.78634342e+01,   7.30446449e+00]])"
      ]
     },
     "execution_count": 48,
     "metadata": {},
     "output_type": "execute_result"
    }
   ],
   "source": [
    "pca.transform(X)"
   ]
  },
  {
   "cell_type": "code",
   "execution_count": 68,
   "metadata": {},
   "outputs": [],
   "source": [
    "pca1 = PCA(1)"
   ]
  },
  {
   "cell_type": "code",
   "execution_count": 69,
   "metadata": {},
   "outputs": [
    {
     "data": {
      "text/plain": [
       "PCA(n_components=1)"
      ]
     },
     "execution_count": 69,
     "metadata": {},
     "output_type": "execute_result"
    }
   ],
   "source": [
    "pca1.fit(X)"
   ]
  },
  {
   "cell_type": "code",
   "execution_count": 70,
   "metadata": {},
   "outputs": [
    {
     "data": {
      "text/plain": [
       "array([[ 0.78181136,  0.62351504]])"
      ]
     },
     "execution_count": 70,
     "metadata": {},
     "output_type": "execute_result"
    }
   ],
   "source": [
    "pca1.components_"
   ]
  },
  {
   "cell_type": "code",
   "execution_count": 71,
   "metadata": {
    "collapsed": true
   },
   "outputs": [
    {
     "data": {
      "text/plain": [
       "array([[  64.28534137],\n",
       "       [  11.46720356],\n",
       "       [  37.27541859],\n",
       "       [  22.45037728],\n",
       "       [  90.97412408],\n",
       "       [ 102.1964155 ],\n",
       "       [  81.29290727],\n",
       "       [  30.07276272],\n",
       "       [  21.13732976],\n",
       "       [  43.80911662],\n",
       "       [  40.48622641],\n",
       "       [  35.74581478],\n",
       "       [ 125.83074711],\n",
       "       [  56.56202149],\n",
       "       [  -5.07071629],\n",
       "       [  67.76263121],\n",
       "       [  55.59781593],\n",
       "       [  64.75579255],\n",
       "       [ 126.69620872],\n",
       "       [  14.25179119],\n",
       "       [  43.98894474],\n",
       "       [  40.06704194],\n",
       "       [  18.36355379],\n",
       "       [   1.55845463],\n",
       "       [  99.91132401],\n",
       "       [  78.33465909],\n",
       "       [  29.41889651],\n",
       "       [  50.06804802],\n",
       "       [  50.57020221],\n",
       "       [  55.55151128],\n",
       "       [  32.71360279],\n",
       "       [ 112.501919  ],\n",
       "       [  81.57643234],\n",
       "       [ 115.653779  ],\n",
       "       [   7.95890205],\n",
       "       [  60.87951432],\n",
       "       [  84.44701186],\n",
       "       [  51.18651692],\n",
       "       [ 115.75184295],\n",
       "       [ 116.67774133],\n",
       "       [  18.87146558],\n",
       "       [ 117.22315943],\n",
       "       [ 126.67605675],\n",
       "       [ 104.4596794 ],\n",
       "       [  30.08483856],\n",
       "       [  88.09616887],\n",
       "       [  49.31200874],\n",
       "       [  54.9123376 ],\n",
       "       [  75.84631837],\n",
       "       [  53.77119779],\n",
       "       [  61.86606522],\n",
       "       [  85.55920538],\n",
       "       [  70.83795381],\n",
       "       [  71.23861399],\n",
       "       [  80.90618835],\n",
       "       [  64.68720561],\n",
       "       [  40.81723091],\n",
       "       [ 113.29488163],\n",
       "       [  52.06514381],\n",
       "       [  56.72189365],\n",
       "       [ 117.22864662],\n",
       "       [ 127.13422829],\n",
       "       [  95.41737841],\n",
       "       [  64.67089366],\n",
       "       [  91.71996272],\n",
       "       [  84.63380603],\n",
       "       [  38.74730817],\n",
       "       [  68.84246918],\n",
       "       [ 123.52305559],\n",
       "       [  58.74987849],\n",
       "       [  52.28490239],\n",
       "       [  18.04081418],\n",
       "       [  77.72553258],\n",
       "       [  22.33076641],\n",
       "       [  31.32467507],\n",
       "       [  75.32969301],\n",
       "       [  46.55431466],\n",
       "       [  82.2569761 ],\n",
       "       [  30.87368976],\n",
       "       [  67.114218  ],\n",
       "       [ 100.83316715],\n",
       "       [ 113.13965045],\n",
       "       [  68.07027195],\n",
       "       [ 116.86913804],\n",
       "       [ 111.03239906],\n",
       "       [  91.13665125],\n",
       "       [  67.20468593],\n",
       "       [ 101.10049817],\n",
       "       [ 114.25694272],\n",
       "       [ 123.37114267],\n",
       "       [  10.38922909],\n",
       "       [  62.49738983],\n",
       "       [  22.61183906],\n",
       "       [ 114.03100285],\n",
       "       [  45.98174205],\n",
       "       [  64.42342826],\n",
       "       [  67.05639461],\n",
       "       [  20.44072154],\n",
       "       [  87.7373356 ],\n",
       "       [  27.86343251]])"
      ]
     },
     "execution_count": 71,
     "metadata": {},
     "output_type": "execute_result"
    }
   ],
   "source": [
    "pca1.transform(X)"
   ]
  },
  {
   "cell_type": "code",
   "execution_count": 72,
   "metadata": {},
   "outputs": [],
   "source": [
    "a1 =pca.transform(X)"
   ]
  },
  {
   "cell_type": "code",
   "execution_count": 73,
   "metadata": {},
   "outputs": [
    {
     "data": {
      "text/plain": [
       "(100, 2)"
      ]
     },
     "execution_count": 73,
     "metadata": {},
     "output_type": "execute_result"
    }
   ],
   "source": [
    "a1.shape"
   ]
  },
  {
   "cell_type": "code",
   "execution_count": 74,
   "metadata": {},
   "outputs": [],
   "source": [
    "a2 = pca1.transform(X)"
   ]
  },
  {
   "cell_type": "code",
   "execution_count": 75,
   "metadata": {},
   "outputs": [
    {
     "data": {
      "text/plain": [
       "(100, 1)"
      ]
     },
     "execution_count": 75,
     "metadata": {},
     "output_type": "execute_result"
    }
   ],
   "source": [
    "a2.shape"
   ]
  },
  {
   "cell_type": "code",
   "execution_count": 78,
   "metadata": {},
   "outputs": [],
   "source": [
    "X1 = pca1.inverse_transform(a2)"
   ]
  },
  {
   "cell_type": "code",
   "execution_count": 81,
   "metadata": {},
   "outputs": [
    {
     "data": {
      "image/png": "[encoded data removed]",
      "text/plain": [
       "<matplotlib.figure.Figure at 0x2402545f128>"
      ]
     },
     "metadata": {},
     "output_type": "display_data"
    }
   ],
   "source": [
    "#事实上数据通过降维再恢复后，我们的所有的数据点在我们主成分的这个轴上，每个点是被一个2维特征表示的，我们完全可以把他放在一个轴上用一维表示，\n",
    "#同时在恢复的时候是丢失信息的，并不能恢复回来，只不过是在高维的空间上表示这些低维的点，实际上就是寻找另外一个坐标系，这个坐标系的每一轴依次可以表达\n",
    "#重要成分，我们取出前k个重要的成分，放到一个低维的轴上，就是我们的重要的成分\n",
    "plt.scatter(X[:,0],X[:,1],color='b')\n",
    "plt.scatter(X1[:,0],X1[:,1],color='r')\n",
    "plt.show()"
   ]
  },
  {
   "cell_type": "markdown",
   "metadata": {},
   "source": [
    "## scikit-learn 中的数据进行降维"
   ]
  },
  {
   "cell_type": "code",
   "execution_count": 82,
   "metadata": {},
   "outputs": [],
   "source": [
    "from sklearn.decomposition import PCA"
   ]
  },
  {
   "cell_type": "code",
   "execution_count": 85,
   "metadata": {},
   "outputs": [],
   "source": [
    "Pca = PCA(n_components=1)"
   ]
  },
  {
   "cell_type": "code",
   "execution_count": 86,
   "metadata": {},
   "outputs": [
    {
     "data": {
      "text/plain": [
       "PCA(copy=True, iterated_power='auto', n_components=1, random_state=None,\n",
       "  svd_solver='auto', tol=0.0, whiten=False)"
      ]
     },
     "execution_count": 86,
     "metadata": {},
     "output_type": "execute_result"
    }
   ],
   "source": [
    "Pca.fit(X)"
   ]
  },
  {
   "cell_type": "code",
   "execution_count": 87,
   "metadata": {},
   "outputs": [
    {
     "data": {
      "text/plain": [
       "array([[-0.78181138, -0.62351501]])"
      ]
     },
     "execution_count": 87,
     "metadata": {},
     "output_type": "execute_result"
    }
   ],
   "source": [
    "Pca.components_"
   ]
  },
  {
   "cell_type": "code",
   "execution_count": 89,
   "metadata": {
    "scrolled": true
   },
   "outputs": [
    {
     "data": {
      "text/plain": [
       "array([[  2.28023003],\n",
       "       [ 55.0983677 ],\n",
       "       [ 29.2901525 ],\n",
       "       [ 44.11519353],\n",
       "       [-24.40855275],\n",
       "       [-35.63084447],\n",
       "       [-14.72733593],\n",
       "       [ 36.49280831],\n",
       "       [ 45.42824116],\n",
       "       [ 22.75645444],\n",
       "       [ 26.07934461],\n",
       "       [ 30.81975613],\n",
       "       [-59.26517591],\n",
       "       [ 10.00355027],\n",
       "       [ 71.63628696],\n",
       "       [ -1.19706064],\n",
       "       [ 10.96775599],\n",
       "       [  1.80977876],\n",
       "       [-60.13063757],\n",
       "       [ 52.31378003],\n",
       "       [ 22.57662708],\n",
       "       [ 26.49852867],\n",
       "       [ 48.20201731],\n",
       "       [ 65.00711644],\n",
       "       [-33.34575344],\n",
       "       [-11.7690877 ],\n",
       "       [ 37.14667462],\n",
       "       [ 16.4975232 ],\n",
       "       [ 15.99536864],\n",
       "       [ 11.0140593 ],\n",
       "       [ 33.85196808],\n",
       "       [-45.93634753],\n",
       "       [-15.01086089],\n",
       "       [-49.08820845],\n",
       "       [ 58.60666885],\n",
       "       [  5.68605753],\n",
       "       [-17.88144111],\n",
       "       [ 15.37905446],\n",
       "       [-49.18627175],\n",
       "       [-50.11217007],\n",
       "       [ 47.69410569],\n",
       "       [-50.65758816],\n",
       "       [-60.11048569],\n",
       "       [-37.89410832],\n",
       "       [ 36.48073292],\n",
       "       [-21.53059803],\n",
       "       [ 17.2535625 ],\n",
       "       [ 11.6532337 ],\n",
       "       [ -9.2807469 ],\n",
       "       [ 12.794373  ],\n",
       "       [  4.69950596],\n",
       "       [-18.99363447],\n",
       "       [ -4.27238268],\n",
       "       [ -4.67304245],\n",
       "       [-14.34061697],\n",
       "       [  1.87836567],\n",
       "       [ 25.74834003],\n",
       "       [-46.72931074],\n",
       "       [ 14.50042744],\n",
       "       [  9.84367745],\n",
       "       [-50.66307579],\n",
       "       [-60.56865687],\n",
       "       [-28.85180682],\n",
       "       [  1.89467791],\n",
       "       [-25.15439164],\n",
       "       [-18.06823497],\n",
       "       [ 27.81826278],\n",
       "       [ -2.27689804],\n",
       "       [-56.9574844 ],\n",
       "       [  7.81569282],\n",
       "       [ 14.28066812],\n",
       "       [ 48.52475713],\n",
       "       [-11.15996152],\n",
       "       [ 44.23480521],\n",
       "       [ 35.24089582],\n",
       "       [ -8.764122  ],\n",
       "       [ 20.01125675],\n",
       "       [-15.69140523],\n",
       "       [ 35.69188179],\n",
       "       [ -0.54864769],\n",
       "       [-34.26759593],\n",
       "       [-46.57407926],\n",
       "       [ -1.50470092],\n",
       "       [-50.30356722],\n",
       "       [-44.466828  ],\n",
       "       [-24.57108027],\n",
       "       [ -0.63911521],\n",
       "       [-34.53492692],\n",
       "       [-47.6913715 ],\n",
       "       [-56.80557147],\n",
       "       [ 56.17634199],\n",
       "       [  4.06818128],\n",
       "       [ 43.95373203],\n",
       "       [-47.46543146],\n",
       "       [ 20.58382949],\n",
       "       [  2.14214304],\n",
       "       [ -0.49082358],\n",
       "       [ 46.12484974],\n",
       "       [-21.17176439],\n",
       "       [ 38.70213882]])"
      ]
     },
     "execution_count": 89,
     "metadata": {},
     "output_type": "execute_result"
    }
   ],
   "source": [
    "Pca.transform(X)"
   ]
  },
  {
   "cell_type": "code",
   "execution_count": 91,
   "metadata": {
    "scrolled": true
   },
   "outputs": [
    {
     "data": {
      "text/plain": [
       "array([[  2.28023003],\n",
       "       [ 55.0983677 ],\n",
       "       [ 29.2901525 ],\n",
       "       [ 44.11519353],\n",
       "       [-24.40855275],\n",
       "       [-35.63084447],\n",
       "       [-14.72733593],\n",
       "       [ 36.49280831],\n",
       "       [ 45.42824116],\n",
       "       [ 22.75645444],\n",
       "       [ 26.07934461],\n",
       "       [ 30.81975613],\n",
       "       [-59.26517591],\n",
       "       [ 10.00355027],\n",
       "       [ 71.63628696],\n",
       "       [ -1.19706064],\n",
       "       [ 10.96775599],\n",
       "       [  1.80977876],\n",
       "       [-60.13063757],\n",
       "       [ 52.31378003],\n",
       "       [ 22.57662708],\n",
       "       [ 26.49852867],\n",
       "       [ 48.20201731],\n",
       "       [ 65.00711644],\n",
       "       [-33.34575344],\n",
       "       [-11.7690877 ],\n",
       "       [ 37.14667462],\n",
       "       [ 16.4975232 ],\n",
       "       [ 15.99536864],\n",
       "       [ 11.0140593 ],\n",
       "       [ 33.85196808],\n",
       "       [-45.93634753],\n",
       "       [-15.01086089],\n",
       "       [-49.08820845],\n",
       "       [ 58.60666885],\n",
       "       [  5.68605753],\n",
       "       [-17.88144111],\n",
       "       [ 15.37905446],\n",
       "       [-49.18627175],\n",
       "       [-50.11217007],\n",
       "       [ 47.69410569],\n",
       "       [-50.65758816],\n",
       "       [-60.11048569],\n",
       "       [-37.89410832],\n",
       "       [ 36.48073292],\n",
       "       [-21.53059803],\n",
       "       [ 17.2535625 ],\n",
       "       [ 11.6532337 ],\n",
       "       [ -9.2807469 ],\n",
       "       [ 12.794373  ],\n",
       "       [  4.69950596],\n",
       "       [-18.99363447],\n",
       "       [ -4.27238268],\n",
       "       [ -4.67304245],\n",
       "       [-14.34061697],\n",
       "       [  1.87836567],\n",
       "       [ 25.74834003],\n",
       "       [-46.72931074],\n",
       "       [ 14.50042744],\n",
       "       [  9.84367745],\n",
       "       [-50.66307579],\n",
       "       [-60.56865687],\n",
       "       [-28.85180682],\n",
       "       [  1.89467791],\n",
       "       [-25.15439164],\n",
       "       [-18.06823497],\n",
       "       [ 27.81826278],\n",
       "       [ -2.27689804],\n",
       "       [-56.9574844 ],\n",
       "       [  7.81569282],\n",
       "       [ 14.28066812],\n",
       "       [ 48.52475713],\n",
       "       [-11.15996152],\n",
       "       [ 44.23480521],\n",
       "       [ 35.24089582],\n",
       "       [ -8.764122  ],\n",
       "       [ 20.01125675],\n",
       "       [-15.69140523],\n",
       "       [ 35.69188179],\n",
       "       [ -0.54864769],\n",
       "       [-34.26759593],\n",
       "       [-46.57407926],\n",
       "       [ -1.50470092],\n",
       "       [-50.30356722],\n",
       "       [-44.466828  ],\n",
       "       [-24.57108027],\n",
       "       [ -0.63911521],\n",
       "       [-34.53492692],\n",
       "       [-47.6913715 ],\n",
       "       [-56.80557147],\n",
       "       [ 56.17634199],\n",
       "       [  4.06818128],\n",
       "       [ 43.95373203],\n",
       "       [-47.46543146],\n",
       "       [ 20.58382949],\n",
       "       [  2.14214304],\n",
       "       [ -0.49082358],\n",
       "       [ 46.12484974],\n",
       "       [-21.17176439],\n",
       "       [ 38.70213882]])"
      ]
     },
     "execution_count": 91,
     "metadata": {},
     "output_type": "execute_result"
    }
   ],
   "source": [
    "Pca.fit_transform(X)"
   ]
  },
  {
   "cell_type": "code",
   "execution_count": 93,
   "metadata": {},
   "outputs": [],
   "source": [
    "Pca1 = Pca.transform(X)"
   ]
  },
  {
   "cell_type": "code",
   "execution_count": 94,
   "metadata": {},
   "outputs": [
    {
     "data": {
      "text/plain": [
       "(100, 1)"
      ]
     },
     "execution_count": 94,
     "metadata": {},
     "output_type": "execute_result"
    }
   ],
   "source": [
    "Pca1.shape"
   ]
  },
  {
   "cell_type": "code",
   "execution_count": 95,
   "metadata": {},
   "outputs": [],
   "source": [
    "X_restor = Pca.inverse_transform(Pca1)"
   ]
  },
  {
   "cell_type": "code",
   "execution_count": 98,
   "metadata": {
    "scrolled": true
   },
   "outputs": [
    {
     "data": {
      "text/plain": [
       "array([[  4.90961629e+01,   4.15409442e+01],\n",
       "       [  7.80234177e+00,   8.60804265e+00],\n",
       "       [  2.79794981e+01,   2.46998522e+01],\n",
       "       [  1.63891123e+01,   1.54562166e+01],\n",
       "       [  6.99617570e+01,   5.81818008e+01],\n",
       "       [  7.87354724e+01,   6.51790682e+01],\n",
       "       [  6.23928715e+01,   5.21454169e+01],\n",
       "       [  2.23483798e+01,   2.02088882e+01],\n",
       "       [  1.53625567e+01,   1.46375117e+01],\n",
       "       [  3.30876176e+01,   2.87737110e+01],\n",
       "       [  3.04897443e+01,   2.67018391e+01],\n",
       "       [  2.67836366e+01,   2.37461214e+01],\n",
       "       [  9.72130616e+01,   7.99154285e+01],\n",
       "       [  4.30579832e+01,   3.67253381e+01],\n",
       "       [ -5.12719171e+00,  -1.70359821e+00],\n",
       "       [  5.18147483e+01,   4.37090871e+01],\n",
       "       [  4.23041562e+01,   3.61241414e+01],\n",
       "       [  4.94639670e+01,   4.18342776e+01],\n",
       "       [  9.78896894e+01,   8.04550569e+01],\n",
       "       [  9.97936410e+00,   1.03442749e+01],\n",
       "       [  3.32282087e+01,   2.88858360e+01],\n",
       "       [  3.01620214e+01,   2.64404715e+01],\n",
       "       [  1.31939870e+01,   1.29080206e+01],\n",
       "       [  5.55692403e-02,   2.42978910e+00],\n",
       "       [  7.69489622e+01,   6.37542796e+01],\n",
       "       [  6.00800794e+01,   5.03009047e+01],\n",
       "       [  2.18371797e+01,   1.98011927e+01],\n",
       "       [  3.79809213e+01,   3.26762485e+01],\n",
       "       [  3.83735114e+01,   3.29893494e+01],\n",
       "       [  4.22679558e+01,   3.60952706e+01],\n",
       "       [  2.44130188e+01,   2.18554917e+01],\n",
       "       [  8.67924319e+01,   7.16047040e+01],\n",
       "       [  6.26145345e+01,   5.23221989e+01],\n",
       "       [  8.92565927e+01,   7.35699366e+01],\n",
       "       [  5.05951200e+00,   6.42056423e+00],\n",
       "       [  4.64334482e+01,   3.94173597e+01],\n",
       "       [  6.48587868e+01,   5.41120488e+01],\n",
       "       [  3.88553529e+01,   3.33736306e+01],\n",
       "       [  8.93332597e+01,   7.36310805e+01],\n",
       "       [  9.00571375e+01,   7.42083920e+01],\n",
       "       [  1.35910781e+01,   1.32247111e+01],\n",
       "       [  9.04835516e+01,   7.45484684e+01],\n",
       "       [  9.78739344e+01,   8.04424919e+01],\n",
       "       [  8.05049178e+01,   6.65902471e+01],\n",
       "       [  2.23578205e+01,   2.02164174e+01],\n",
       "       [  6.77117392e+01,   5.63873529e+01],\n",
       "       [  3.73898412e+01,   3.22048467e+01],\n",
       "       [  4.17682419e+01,   3.56967358e+01],\n",
       "       [  5.81346662e+01,   4.87493868e+01],\n",
       "       [  4.08760863e+01,   3.49852183e+01],\n",
       "       [  4.72047454e+01,   4.00324894e+01],\n",
       "       [  6.57283122e+01,   5.48055180e+01],\n",
       "       [  5.42190701e+01,   4.56265966e+01],\n",
       "       [  5.45323104e+01,   4.58764140e+01],\n",
       "       [  6.20905302e+01,   5.19042918e+01],\n",
       "       [  4.94103450e+01,   4.17915127e+01],\n",
       "       [  3.07485274e+01,   2.69082254e+01],\n",
       "       [  8.74123796e+01,   7.20991284e+01],\n",
       "       [  3.95422735e+01,   3.39214677e+01],\n",
       "       [  4.31829736e+01,   3.68250212e+01],\n",
       "       [  9.04878419e+01,   7.45518900e+01],\n",
       "       [  9.82321379e+01,   8.07281685e+01],\n",
       "       [  7.34355436e+01,   6.09522364e+01],\n",
       "       [  4.93975919e+01,   4.17813417e+01],\n",
       "       [  7.05448623e+01,   5.86468426e+01],\n",
       "       [  6.50048244e+01,   5.42285175e+01],\n",
       "       [  2.91302383e+01,   2.56175975e+01],\n",
       "       [  5.26589775e+01,   4.43823820e+01],\n",
       "       [  9.54088822e+01,   7.84765482e+01],\n",
       "       [  4.47684751e+01,   3.80895001e+01],\n",
       "       [  3.97140838e+01,   3.40584910e+01],\n",
       "       [  1.29416653e+01,   1.27067875e+01],\n",
       "       [  5.96038576e+01,   4.99211054e+01],\n",
       "       [  1.62955986e+01,   1.53816369e+01],\n",
       "       [  2.33271393e+01,   2.09894744e+01],\n",
       "       [  5.77307630e+01,   4.84272635e+01],\n",
       "       [  3.52338444e+01,   3.04853829e+01],\n",
       "       [  6.31465918e+01,   5.27465285e+01],\n",
       "       [  2.29745533e+01,   2.07082779e+01],\n",
       "       [  5.13078117e+01,   4.33047919e+01],\n",
       "       [  7.76696691e+01,   6.43290622e+01],\n",
       "       [  8.72910179e+01,   7.20023393e+01],\n",
       "       [  5.20552650e+01,   4.39009055e+01],\n",
       "       [  9.02067740e+01,   7.43277310e+01],\n",
       "       [  8.56435448e+01,   7.06884365e+01],\n",
       "       [  7.00888228e+01,   5.82831392e+01],\n",
       "       [  5.13785402e+01,   4.33611998e+01],\n",
       "       [  7.78786715e+01,   6.44957471e+01],\n",
       "       [  8.81645296e+01,   7.26989878e+01],\n",
       "       [  9.52901149e+01,   7.83818282e+01],\n",
       "       [  6.95956920e+00,   7.93590951e+00],\n",
       "       [  4.76983222e+01,   4.04261298e+01],\n",
       "       [  1.65153448e+01,   1.55568903e+01],\n",
       "       [  8.79878871e+01,   7.25581108e+01],\n",
       "       [  3.47862005e+01,   3.01283752e+01],\n",
       "       [  4.92041209e+01,   4.16270435e+01],\n",
       "       [  5.12626041e+01,   4.32687377e+01],\n",
       "       [  1.48179402e+01,   1.42031658e+01],\n",
       "       [  6.74311990e+01,   5.61636147e+01],\n",
       "       [  2.06211001e+01,   1.88313374e+01]])"
      ]
     },
     "execution_count": 98,
     "metadata": {},
     "output_type": "execute_result"
    }
   ],
   "source": [
    "X_restor"
   ]
  },
  {
   "cell_type": "code",
   "execution_count": 99,
   "metadata": {},
   "outputs": [
    {
     "data": {
      "image/png": "[encoded data removed]",
      "text/plain": [
       "<matplotlib.figure.Figure at 0x2402f365b38>"
      ]
     },
     "metadata": {},
     "output_type": "display_data"
    }
   ],
   "source": [
    "plt.scatter(X[:,0],X[:,1],color='r')\n",
    "plt.scatter(X_restor[:,0],X_restor[:,1],color='b')\n",
    "plt.show()"
   ]
  },
  {
   "cell_type": "code",
   "execution_count": null,
   "metadata": {},
   "outputs": [],
   "source": []
  }
 ],
 "metadata": {
  "kernelspec": {
   "display_name": "Python 3",
   "language": "python",
   "name": "python3"
  },
  "language_info": {
   "codemirror_mode": {
    "name": "ipython",
    "version": 3
   },
   "file_extension": ".py",
   "mimetype": "text/x-python",
   "name": "python",
   "nbconvert_exporter": "python",
   "pygments_lexer": "ipython3",
   "version": "3.5.3"
  }
 },
 "nbformat": 4,
 "nbformat_minor": 2
}
