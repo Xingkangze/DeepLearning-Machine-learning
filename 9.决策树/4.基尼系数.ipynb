{
 "cells": [
  {
   "cell_type": "code",
   "execution_count": 1,
   "metadata": {},
   "outputs": [],
   "source": [
    "import numpy as np\n",
    "import matplotlib.pyplot as plt"
   ]
  },
  {
   "cell_type": "code",
   "execution_count": 2,
   "metadata": {},
   "outputs": [],
   "source": [
    "def Gini_index(p):\n",
    "    return -2*x*x+x*2"
   ]
  },
  {
   "cell_type": "code",
   "execution_count": 3,
   "metadata": {},
   "outputs": [],
   "source": [
    "x= np.linspace(0,1,200)"
   ]
  },
  {
   "cell_type": "code",
   "execution_count": 5,
   "metadata": {},
   "outputs": [
    {
     "data": {
      "image/png": "[encoded data removed]",
      "text/plain": [
       "<matplotlib.figure.Figure at 0x27873223550>"
      ]
     },
     "metadata": {},
     "output_type": "display_data"
    }
   ],
   "source": [
    "plt.plot(x,Gini_index(x))\n",
    "plt.show()"
   ]
  },
  {
   "cell_type": "markdown",
   "metadata": {},
   "source": [
    "### 基尼系数"
   ]
  },
  {
   "cell_type": "code",
   "execution_count": 21,
   "metadata": {},
   "outputs": [],
   "source": [
    "from sklearn import datasets\n",
    "iris = datasets.load_iris()\n",
    "X = iris.data[:,2:]\n",
    "y = iris.target"
   ]
  },
  {
   "cell_type": "code",
   "execution_count": 23,
   "metadata": {},
   "outputs": [
    {
     "data": {
      "text/plain": [
       "DecisionTreeClassifier(class_weight=None, criterion='gini', max_depth=2,\n",
       "            max_features=None, max_leaf_nodes=None,\n",
       "            min_impurity_decrease=0.0, min_impurity_split=None,\n",
       "            min_samples_leaf=1, min_samples_split=2,\n",
       "            min_weight_fraction_leaf=0.0, presort=False, random_state=None,\n",
       "            splitter='best')"
      ]
     },
     "execution_count": 23,
     "metadata": {},
     "output_type": "execute_result"
    }
   ],
   "source": [
    "from sklearn.tree import DecisionTreeClassifier\n",
    "dt_clf = DecisionTreeClassifier(max_depth=2,criterion='gini')\n",
    "dt_clf.fit(X,y)"
   ]
  },
  {
   "cell_type": "code",
   "execution_count": 24,
   "metadata": {},
   "outputs": [],
   "source": [
    "def plot_decision_boundary(model,axis):\n",
    "    #model 是我们的模型    axis  是我们的坐标范围\n",
    "    x0,x1 = np.meshgrid(\n",
    "        np.linspace(axis[0],axis[1],int((axis[1]-axis[0])*100)).reshape(-1,1),\n",
    "        np.linspace(axis[2],axis[3],int((axis[3]-axis[2])*100)).reshape(-1,1)\n",
    "    )\n",
    "    X_new = np.c_[x0.ravel(),x1.ravel()]\n",
    "    \n",
    "    y_predict = model.predict(X_new)\n",
    "    zz = y_predict.reshape(x0.shape)\n",
    "    \n",
    "    from matplotlib.colors import ListedColormap\n",
    "    custom_cmap = ListedColormap(['#EF9A9A','#FFF59D','#90CAF9'])\n",
    "    plt.contourf(x0,x1,zz,cmap=custom_cmap)"
   ]
  },
  {
   "cell_type": "code",
   "execution_count": 25,
   "metadata": {},
   "outputs": [
    {
     "data": {
      "image/png": "[encoded data removed]",
      "text/plain": [
       "<matplotlib.figure.Figure at 0x29693c9ee10>"
      ]
     },
     "metadata": {},
     "output_type": "display_data"
    }
   ],
   "source": [
    "plot_decision_boundary(dt_clf,[0.5,7.5,0,3])\n",
    "plt.scatter(X[y==0,0],X[y==0,1])\n",
    "plt.scatter(X[y==1,0],X[y==1,1])\n",
    "plt.scatter(X[y==2,0],X[y==2,1])\n",
    "plt.show()"
   ]
  },
  {
   "cell_type": "markdown",
   "metadata": {},
   "source": [
    "## 模拟使用基尼系数进行划分"
   ]
  },
  {
   "cell_type": "code",
   "execution_count": 51,
   "metadata": {},
   "outputs": [],
   "source": [
    "# 进行划分\n",
    "# d 代表的某个节点的维度\n",
    "# value 代表 这个维度上的阈值\n",
    "# 用来划分\n",
    "def split(X,y,d,value):\n",
    "    # 分成左边和右边\n",
    "    index_a = (X[:,d]<=value)  # 找出在d这个维度上的阈值小于value的所有的值\n",
    "    index_b = (X[:,d]>value)\n",
    "    return X[index_a],X[index_b],y[index_a],y[index_b]"
   ]
  },
  {
   "cell_type": "code",
   "execution_count": 70,
   "metadata": {},
   "outputs": [],
   "source": [
    "from collections import Counter\n",
    "# 定义基尼系数\n",
    "def gini_index1(y):\n",
    "    counter = Counter(y)\n",
    "    res = 1.0 # 初始的基尼系数\n",
    "    for num in counter.values():  # dict_values([50, 50, 50])\n",
    "        p = num / len(y)\n",
    "        res -= p*p\n",
    "        return res\n",
    "            "
   ]
  },
  {
   "cell_type": "code",
   "execution_count": 71,
   "metadata": {},
   "outputs": [],
   "source": [
    "\n",
    "# 具体的寻找d 和 value的值\n",
    "def try_split(X,y):\n",
    "    # 每一次尝试对 X，和y进行划分，找出一种划分使得得出的结果的信息熵是最低的\n",
    "    # 首先初始化\n",
    "    best_g = float('inf')  # 最大值\n",
    "    best_d,best_v = -1,-1  # 随便初始化\n",
    "    \n",
    "    # 进行穷举,对维度\n",
    "    for d in range(X.shape[1]):\n",
    "        # 对维度上的阈值进行划分，对于这些阈值可选的值是每两个样本点，在d这个维度上中间的那个值 \n",
    "        # 对在 X值在d这个维度上进行排序\n",
    "        sorted_index =  np.argsort(X[:,d]) \n",
    "        # 遍历所有的样本  从1 开始而不是从0 开始 就是想找相邻的两个数据点他们在d这个维度上\n",
    "        # 那个中间的值是多少  所以每次找的是i-1 和 i 这两个维度\n",
    "        for i in range(1,len(X)):\n",
    "            # 我们这两个值不能相等  如果相等 就没什么用了\n",
    "            if X[sorted_index[i-1],d] != X[sorted_index[i],d]:\n",
    "                v = (X[sorted_index[i-1],d]+X[sorted_index[i],d]) / 2\n",
    "                # 现在进行划分 左子树 和右子树\n",
    "                X_l,X_r,y_l,y_r = split(X,y,d,v)\n",
    "                g = gini_index1(y_l)+gini_index1(y_r)\n",
    "                if g<best_g:\n",
    "                    best_g,best_d,best_v = g,d,v\n",
    "    return best_g,best_d,best_v"
   ]
  },
  {
   "cell_type": "code",
   "execution_count": 72,
   "metadata": {},
   "outputs": [
    {
     "name": "stdout",
     "output_type": "stream",
     "text": [
      "0.75\n",
      "0\n",
      "2.45\n"
     ]
    }
   ],
   "source": [
    "best_entropy,best_d,best_v = try_split(X,y)\n",
    "print(best_entropy)\n",
    "print(best_d)\n",
    "print(best_v)"
   ]
  },
  {
   "cell_type": "code",
   "execution_count": 73,
   "metadata": {},
   "outputs": [
    {
     "data": {
      "text/plain": [
       "0.0"
      ]
     },
     "execution_count": 73,
     "metadata": {},
     "output_type": "execute_result"
    }
   ],
   "source": [
    "X1_l,X1_r,y1_l,y1_r = split(X,y,best_d,best_v)\n",
    "# 看一下 第一类的信息熵\n",
    "gini_index(y1_l)"
   ]
  },
  {
   "cell_type": "code",
   "execution_count": 74,
   "metadata": {},
   "outputs": [
    {
     "data": {
      "text/plain": [
       "0.75"
      ]
     },
     "execution_count": 74,
     "metadata": {},
     "output_type": "execute_result"
    }
   ],
   "source": [
    "gini_index1(y1_r)"
   ]
  },
  {
   "cell_type": "code",
   "execution_count": 80,
   "metadata": {},
   "outputs": [
    {
     "name": "stdout",
     "output_type": "stream",
     "text": [
      "0.42607897153351704\n",
      "0\n",
      "5.15\n"
     ]
    }
   ],
   "source": [
    "# 继续进行划分  对右边\n",
    "best_entropy2,best_d2,best_v2 = try_split(X1_r,y1_r)\n",
    "print(best_entropy2)\n",
    "print(best_d2)\n",
    "print(best_v2)"
   ]
  },
  {
   "cell_type": "code",
   "execution_count": 83,
   "metadata": {},
   "outputs": [],
   "source": [
    "X2_l,X2_r,y2_l,y2_r = split(X1_r,y1_r,best_d2,best_v2)\n"
   ]
  },
  {
   "cell_type": "code",
   "execution_count": 88,
   "metadata": {},
   "outputs": [
    {
     "data": {
      "text/plain": [
       "0.0"
      ]
     },
     "execution_count": 88,
     "metadata": {},
     "output_type": "execute_result"
    }
   ],
   "source": [
    "# 看一下 第一类的信息熵\n",
    "gini_index1(y2_r)"
   ]
  },
  {
   "cell_type": "code",
   "execution_count": 89,
   "metadata": {},
   "outputs": [
    {
     "data": {
      "text/plain": [
       "0.42607897153351704"
      ]
     },
     "execution_count": 89,
     "metadata": {},
     "output_type": "execute_result"
    }
   ],
   "source": [
    "gini_index1(y2_l)"
   ]
  },
  {
   "cell_type": "code",
   "execution_count": 87,
   "metadata": {},
   "outputs": [
    {
     "name": "stdout",
     "output_type": "stream",
     "text": [
      "0.2568370986920334\n",
      "1\n",
      "1.85\n"
     ]
    }
   ],
   "source": [
    "# 继续进行划分  对右边\n",
    "best_entropy2,best_d2,best_v2 = try_split(X2_l,y2_l)\n",
    "print(best_entropy2)\n",
    "print(best_d2)\n",
    "print(best_v2)"
   ]
  },
  {
   "cell_type": "code",
   "execution_count": 91,
   "metadata": {},
   "outputs": [],
   "source": [
    "X2_l,X2_r,y2_l,y2_r = split(X2_l,y2_l,best_d2,best_v2)\n",
    "gini_index1(y2_r)\n"
   ]
  },
  {
   "cell_type": "code",
   "execution_count": 92,
   "metadata": {},
   "outputs": [
    {
     "data": {
      "text/plain": [
       "0.2568370986920334"
      ]
     },
     "execution_count": 92,
     "metadata": {},
     "output_type": "execute_result"
    }
   ],
   "source": [
    "gini_index1(y2_l)"
   ]
  },
  {
   "cell_type": "code",
   "execution_count": 69,
   "metadata": {},
   "outputs": [
    {
     "data": {
      "text/plain": [
       "Counter({0: 50, 1: 50, 2: 50})"
      ]
     },
     "execution_count": 69,
     "metadata": {},
     "output_type": "execute_result"
    }
   ],
   "source": [
    "X.shape\n",
    "Counter(y)"
   ]
  },
  {
   "cell_type": "code",
   "execution_count": 28,
   "metadata": {},
   "outputs": [
    {
     "data": {
      "text/plain": [
       "dict_values([50, 50, 50])"
      ]
     },
     "execution_count": 28,
     "metadata": {},
     "output_type": "execute_result"
    }
   ],
   "source": [
    "counter = Counter(y)\n",
    "counter.values()"
   ]
  }
 ],
 "metadata": {
  "kernelspec": {
   "display_name": "Python 3",
   "language": "python",
   "name": "python3"
  },
  "language_info": {
   "codemirror_mode": {
    "name": "ipython",
    "version": 3
   },
   "file_extension": ".py",
   "mimetype": "text/x-python",
   "name": "python",
   "nbconvert_exporter": "python",
   "pygments_lexer": "ipython3",
   "version": "3.5.3"
  }
 },
 "nbformat": 4,
 "nbformat_minor": 2
}
